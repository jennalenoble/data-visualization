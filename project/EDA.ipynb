{
 "cells": [
  {
   "cell_type": "markdown",
   "metadata": {},
   "source": [
    "# Exploratory Data Analysis for Trees in Vancouver\n",
    "\n",
    "By Jenna Le Noble"
   ]
  },
  {
   "cell_type": "markdown",
   "metadata": {},
   "source": [
    "### Introduction"
   ]
  },
  {
   "cell_type": "markdown",
   "metadata": {},
   "source": [
    "The Vancouver Trees dataset includes information about various types of trees planted around the city of Vancouver, including the species name, the planted date, the tree's diameter, the tree's height, the street address, the neighborhood where the tree is planted and more. The data is found on the [City of Vancouver website](https://opendata.vancouver.ca/explore/dataset/street-trees/information/?disjunctive.species_name&disjunctive.common_name&disjunctive.height_range_id&disjunctive.on_street&disjunctive.neighbourhood_name). Since it is such a large dataset, we will be using a subset of the original Trees data that includes 5000 rows.\n",
    "\n",
    "We are interested in finding out which tree species are the largest in terms of diameter and height. Then, we want to find the nieghborhoods with the highest count of these trees. "
   ]
  },
  {
   "cell_type": "markdown",
   "metadata": {},
   "source": [
    "### EDA"
   ]
  },
  {
   "cell_type": "markdown",
   "metadata": {},
   "source": [
    "First, we import the necessary libraries and read in the data set from the internet."
   ]
  },
  {
   "cell_type": "code",
   "execution_count": 1,
   "metadata": {},
   "outputs": [],
   "source": [
    "import pandas as pd\n",
    "import altair as alt"
   ]
  },
  {
   "cell_type": "code",
   "execution_count": 2,
   "metadata": {},
   "outputs": [
    {
     "data": {
      "text/html": [
       "<div>\n",
       "<style scoped>\n",
       "    .dataframe tbody tr th:only-of-type {\n",
       "        vertical-align: middle;\n",
       "    }\n",
       "\n",
       "    .dataframe tbody tr th {\n",
       "        vertical-align: top;\n",
       "    }\n",
       "\n",
       "    .dataframe thead th {\n",
       "        text-align: right;\n",
       "    }\n",
       "</style>\n",
       "<table border=\"1\" class=\"dataframe\">\n",
       "  <thead>\n",
       "    <tr style=\"text-align: right;\">\n",
       "      <th></th>\n",
       "      <th>Unnamed: 0</th>\n",
       "      <th>std_street</th>\n",
       "      <th>on_street</th>\n",
       "      <th>species_name</th>\n",
       "      <th>neighbourhood_name</th>\n",
       "      <th>date_planted</th>\n",
       "      <th>diameter</th>\n",
       "      <th>street_side_name</th>\n",
       "      <th>genus_name</th>\n",
       "      <th>assigned</th>\n",
       "      <th>...</th>\n",
       "      <th>plant_area</th>\n",
       "      <th>curb</th>\n",
       "      <th>tree_id</th>\n",
       "      <th>common_name</th>\n",
       "      <th>height_range_id</th>\n",
       "      <th>on_street_block</th>\n",
       "      <th>cultivar_name</th>\n",
       "      <th>root_barrier</th>\n",
       "      <th>latitude</th>\n",
       "      <th>longitude</th>\n",
       "    </tr>\n",
       "  </thead>\n",
       "  <tbody>\n",
       "    <tr>\n",
       "      <th>0</th>\n",
       "      <td>10747</td>\n",
       "      <td>W 20TH AV</td>\n",
       "      <td>W 20TH AV</td>\n",
       "      <td>PLATANOIDES</td>\n",
       "      <td>Riley Park</td>\n",
       "      <td>2000-02-23</td>\n",
       "      <td>28.5</td>\n",
       "      <td>EVEN</td>\n",
       "      <td>ACER</td>\n",
       "      <td>N</td>\n",
       "      <td>...</td>\n",
       "      <td>15</td>\n",
       "      <td>Y</td>\n",
       "      <td>21421</td>\n",
       "      <td>NORWAY MAPLE</td>\n",
       "      <td>4</td>\n",
       "      <td>0</td>\n",
       "      <td>NaN</td>\n",
       "      <td>N</td>\n",
       "      <td>49.252711</td>\n",
       "      <td>-123.106323</td>\n",
       "    </tr>\n",
       "    <tr>\n",
       "      <th>1</th>\n",
       "      <td>12573</td>\n",
       "      <td>W 18TH AV</td>\n",
       "      <td>W 18TH AV</td>\n",
       "      <td>CALLERYANA</td>\n",
       "      <td>Arbutus-Ridge</td>\n",
       "      <td>1992-02-04</td>\n",
       "      <td>6.0</td>\n",
       "      <td>ODD</td>\n",
       "      <td>PYRUS</td>\n",
       "      <td>N</td>\n",
       "      <td>...</td>\n",
       "      <td>7</td>\n",
       "      <td>Y</td>\n",
       "      <td>129645</td>\n",
       "      <td>CHANTICLEER PEAR</td>\n",
       "      <td>2</td>\n",
       "      <td>2300</td>\n",
       "      <td>CHANTICLEER</td>\n",
       "      <td>N</td>\n",
       "      <td>49.256350</td>\n",
       "      <td>-123.158709</td>\n",
       "    </tr>\n",
       "    <tr>\n",
       "      <th>2</th>\n",
       "      <td>29676</td>\n",
       "      <td>ROSS ST</td>\n",
       "      <td>ROSS ST</td>\n",
       "      <td>NIGRA</td>\n",
       "      <td>Sunset</td>\n",
       "      <td>NaN</td>\n",
       "      <td>12.0</td>\n",
       "      <td>ODD</td>\n",
       "      <td>PINUS</td>\n",
       "      <td>N</td>\n",
       "      <td>...</td>\n",
       "      <td>7</td>\n",
       "      <td>Y</td>\n",
       "      <td>154675</td>\n",
       "      <td>AUSTRIAN PINE</td>\n",
       "      <td>4</td>\n",
       "      <td>7800</td>\n",
       "      <td>NaN</td>\n",
       "      <td>N</td>\n",
       "      <td>49.213486</td>\n",
       "      <td>-123.083254</td>\n",
       "    </tr>\n",
       "    <tr>\n",
       "      <th>3</th>\n",
       "      <td>8856</td>\n",
       "      <td>DOMAN ST</td>\n",
       "      <td>DOMAN ST</td>\n",
       "      <td>AMERICANA</td>\n",
       "      <td>Killarney</td>\n",
       "      <td>1999-11-12</td>\n",
       "      <td>11.0</td>\n",
       "      <td>EVEN</td>\n",
       "      <td>FRAXINUS</td>\n",
       "      <td>N</td>\n",
       "      <td>...</td>\n",
       "      <td>7</td>\n",
       "      <td>Y</td>\n",
       "      <td>180803</td>\n",
       "      <td>AUTUMN APPLAUSE ASH</td>\n",
       "      <td>4</td>\n",
       "      <td>6900</td>\n",
       "      <td>AUTUMN APPLAUSE</td>\n",
       "      <td>N</td>\n",
       "      <td>49.220839</td>\n",
       "      <td>-123.036721</td>\n",
       "    </tr>\n",
       "    <tr>\n",
       "      <th>4</th>\n",
       "      <td>21098</td>\n",
       "      <td>EAST BOULEVARD</td>\n",
       "      <td>EAST BOULEVARD</td>\n",
       "      <td>HIPPOCASTANUM</td>\n",
       "      <td>Shaughnessy</td>\n",
       "      <td>NaN</td>\n",
       "      <td>15.5</td>\n",
       "      <td>ODD</td>\n",
       "      <td>AESCULUS</td>\n",
       "      <td>Y</td>\n",
       "      <td>...</td>\n",
       "      <td>N</td>\n",
       "      <td>Y</td>\n",
       "      <td>74364</td>\n",
       "      <td>COMMON HORSECHESTNUT</td>\n",
       "      <td>4</td>\n",
       "      <td>5200</td>\n",
       "      <td>NaN</td>\n",
       "      <td>N</td>\n",
       "      <td>49.238514</td>\n",
       "      <td>-123.154958</td>\n",
       "    </tr>\n",
       "  </tbody>\n",
       "</table>\n",
       "<p>5 rows × 21 columns</p>\n",
       "</div>"
      ],
      "text/plain": [
       "   Unnamed: 0      std_street       on_street   species_name  \\\n",
       "0       10747       W 20TH AV       W 20TH AV    PLATANOIDES   \n",
       "1       12573       W 18TH AV       W 18TH AV     CALLERYANA   \n",
       "2       29676         ROSS ST         ROSS ST          NIGRA   \n",
       "3        8856        DOMAN ST        DOMAN ST      AMERICANA   \n",
       "4       21098  EAST BOULEVARD  EAST BOULEVARD  HIPPOCASTANUM   \n",
       "\n",
       "  neighbourhood_name date_planted  diameter street_side_name genus_name  \\\n",
       "0         Riley Park   2000-02-23      28.5             EVEN       ACER   \n",
       "1      Arbutus-Ridge   1992-02-04       6.0              ODD      PYRUS   \n",
       "2             Sunset          NaN      12.0              ODD      PINUS   \n",
       "3          Killarney   1999-11-12      11.0             EVEN   FRAXINUS   \n",
       "4        Shaughnessy          NaN      15.5              ODD   AESCULUS   \n",
       "\n",
       "  assigned  ...  plant_area curb tree_id           common_name  \\\n",
       "0        N  ...          15    Y   21421          NORWAY MAPLE   \n",
       "1        N  ...           7    Y  129645      CHANTICLEER PEAR   \n",
       "2        N  ...           7    Y  154675         AUSTRIAN PINE   \n",
       "3        N  ...           7    Y  180803   AUTUMN APPLAUSE ASH   \n",
       "4        Y  ...           N    Y   74364  COMMON HORSECHESTNUT   \n",
       "\n",
       "  height_range_id  on_street_block    cultivar_name root_barrier   latitude  \\\n",
       "0               4                0              NaN            N  49.252711   \n",
       "1               2             2300      CHANTICLEER            N  49.256350   \n",
       "2               4             7800              NaN            N  49.213486   \n",
       "3               4             6900  AUTUMN APPLAUSE            N  49.220839   \n",
       "4               4             5200              NaN            N  49.238514   \n",
       "\n",
       "    longitude  \n",
       "0 -123.106323  \n",
       "1 -123.158709  \n",
       "2 -123.083254  \n",
       "3 -123.036721  \n",
       "4 -123.154958  \n",
       "\n",
       "[5 rows x 21 columns]"
      ]
     },
     "execution_count": 2,
     "metadata": {},
     "output_type": "execute_result"
    }
   ],
   "source": [
    "trees_data = pd.read_csv('https://raw.githubusercontent.com/UBC-MDS/data_viz_wrangled/main/data/Trees_data_sets/small_unique_vancouver.csv')\n",
    "trees_data.head()"
   ]
  },
  {
   "cell_type": "markdown",
   "metadata": {},
   "source": [
    "**Table 1: Raw Data**"
   ]
  },
  {
   "cell_type": "markdown",
   "metadata": {},
   "source": [
    "To answer our original questions, we are interested in the following columns:\n",
    "* `species_name`: name of the tree species\n",
    "* `neighborhood_name`: name of the neighborhood where the tree is planted\n",
    "* `diameter`: diameter of the tree (inches)\n",
    "* `genus_name`: genus name of the tree\n",
    "* `common_name`: common name of the tree\n",
    "* `height_range_id`: height range of the tree with value 0-10 for every 10 feet (e.g., 0 = 0-10 ft, 1 = 10-20 ft, 2 = 20-30 ft, and 10 = 100+ ft)\n",
    "\n",
    "We will keep these columns in the dataset and drop the rest, as they are not needed to answer our questions. We can further explore the data by using `.info()`."
   ]
  },
  {
   "cell_type": "code",
   "execution_count": 3,
   "metadata": {
    "tags": []
   },
   "outputs": [
    {
     "name": "stdout",
     "output_type": "stream",
     "text": [
      "<class 'pandas.core.frame.DataFrame'>\n",
      "RangeIndex: 5000 entries, 0 to 4999\n",
      "Data columns (total 6 columns):\n",
      " #   Column              Non-Null Count  Dtype  \n",
      "---  ------              --------------  -----  \n",
      " 0   species_name        5000 non-null   object \n",
      " 1   neighbourhood_name  5000 non-null   object \n",
      " 2   diameter            5000 non-null   float64\n",
      " 3   genus_name          5000 non-null   object \n",
      " 4   common_name         5000 non-null   object \n",
      " 5   height_range_id     5000 non-null   int64  \n",
      "dtypes: float64(1), int64(1), object(4)\n",
      "memory usage: 234.5+ KB\n"
     ]
    }
   ],
   "source": [
    "trees_data = trees_data.loc[:, ['species_name', 'neighbourhood_name', 'diameter',\n",
    "                               'genus_name', 'common_name', 'height_range_id']]\n",
    "\n",
    "trees_data.info()"
   ]
  },
  {
   "cell_type": "markdown",
   "metadata": {},
   "source": [
    "Each of the columns we are interested in do not contain any `NA` values. We can also note that `diameter` is a continuous numeric column, `height_range_id` is a discrete numeric column, while the rest of the columns are categorical.\n",
    "\n",
    "We can further explore the columns by using `describe()`:"
   ]
  },
  {
   "cell_type": "code",
   "execution_count": 4,
   "metadata": {},
   "outputs": [
    {
     "data": {
      "text/html": [
       "<div>\n",
       "<style scoped>\n",
       "    .dataframe tbody tr th:only-of-type {\n",
       "        vertical-align: middle;\n",
       "    }\n",
       "\n",
       "    .dataframe tbody tr th {\n",
       "        vertical-align: top;\n",
       "    }\n",
       "\n",
       "    .dataframe thead th {\n",
       "        text-align: right;\n",
       "    }\n",
       "</style>\n",
       "<table border=\"1\" class=\"dataframe\">\n",
       "  <thead>\n",
       "    <tr style=\"text-align: right;\">\n",
       "      <th></th>\n",
       "      <th>species_name</th>\n",
       "      <th>neighbourhood_name</th>\n",
       "      <th>diameter</th>\n",
       "      <th>genus_name</th>\n",
       "      <th>common_name</th>\n",
       "      <th>height_range_id</th>\n",
       "    </tr>\n",
       "  </thead>\n",
       "  <tbody>\n",
       "    <tr>\n",
       "      <th>count</th>\n",
       "      <td>5000</td>\n",
       "      <td>5000</td>\n",
       "      <td>5000.000000</td>\n",
       "      <td>5000</td>\n",
       "      <td>5000</td>\n",
       "      <td>5000.00000</td>\n",
       "    </tr>\n",
       "    <tr>\n",
       "      <th>unique</th>\n",
       "      <td>171</td>\n",
       "      <td>22</td>\n",
       "      <td>NaN</td>\n",
       "      <td>67</td>\n",
       "      <td>361</td>\n",
       "      <td>NaN</td>\n",
       "    </tr>\n",
       "    <tr>\n",
       "      <th>top</th>\n",
       "      <td>SERRULATA</td>\n",
       "      <td>Renfrew-Collingwood</td>\n",
       "      <td>NaN</td>\n",
       "      <td>ACER</td>\n",
       "      <td>KWANZAN FLOWERING CHERRY</td>\n",
       "      <td>NaN</td>\n",
       "    </tr>\n",
       "    <tr>\n",
       "      <th>freq</th>\n",
       "      <td>463</td>\n",
       "      <td>384</td>\n",
       "      <td>NaN</td>\n",
       "      <td>1218</td>\n",
       "      <td>383</td>\n",
       "      <td>NaN</td>\n",
       "    </tr>\n",
       "    <tr>\n",
       "      <th>mean</th>\n",
       "      <td>NaN</td>\n",
       "      <td>NaN</td>\n",
       "      <td>12.340888</td>\n",
       "      <td>NaN</td>\n",
       "      <td>NaN</td>\n",
       "      <td>2.73440</td>\n",
       "    </tr>\n",
       "    <tr>\n",
       "      <th>std</th>\n",
       "      <td>NaN</td>\n",
       "      <td>NaN</td>\n",
       "      <td>9.266600</td>\n",
       "      <td>NaN</td>\n",
       "      <td>NaN</td>\n",
       "      <td>1.56957</td>\n",
       "    </tr>\n",
       "    <tr>\n",
       "      <th>min</th>\n",
       "      <td>NaN</td>\n",
       "      <td>NaN</td>\n",
       "      <td>0.000000</td>\n",
       "      <td>NaN</td>\n",
       "      <td>NaN</td>\n",
       "      <td>0.00000</td>\n",
       "    </tr>\n",
       "    <tr>\n",
       "      <th>25%</th>\n",
       "      <td>NaN</td>\n",
       "      <td>NaN</td>\n",
       "      <td>4.000000</td>\n",
       "      <td>NaN</td>\n",
       "      <td>NaN</td>\n",
       "      <td>2.00000</td>\n",
       "    </tr>\n",
       "    <tr>\n",
       "      <th>50%</th>\n",
       "      <td>NaN</td>\n",
       "      <td>NaN</td>\n",
       "      <td>10.000000</td>\n",
       "      <td>NaN</td>\n",
       "      <td>NaN</td>\n",
       "      <td>2.00000</td>\n",
       "    </tr>\n",
       "    <tr>\n",
       "      <th>75%</th>\n",
       "      <td>NaN</td>\n",
       "      <td>NaN</td>\n",
       "      <td>18.000000</td>\n",
       "      <td>NaN</td>\n",
       "      <td>NaN</td>\n",
       "      <td>4.00000</td>\n",
       "    </tr>\n",
       "    <tr>\n",
       "      <th>max</th>\n",
       "      <td>NaN</td>\n",
       "      <td>NaN</td>\n",
       "      <td>71.000000</td>\n",
       "      <td>NaN</td>\n",
       "      <td>NaN</td>\n",
       "      <td>9.00000</td>\n",
       "    </tr>\n",
       "  </tbody>\n",
       "</table>\n",
       "</div>"
      ],
      "text/plain": [
       "       species_name   neighbourhood_name     diameter genus_name  \\\n",
       "count          5000                 5000  5000.000000       5000   \n",
       "unique          171                   22          NaN         67   \n",
       "top       SERRULATA  Renfrew-Collingwood          NaN       ACER   \n",
       "freq            463                  384          NaN       1218   \n",
       "mean            NaN                  NaN    12.340888        NaN   \n",
       "std             NaN                  NaN     9.266600        NaN   \n",
       "min             NaN                  NaN     0.000000        NaN   \n",
       "25%             NaN                  NaN     4.000000        NaN   \n",
       "50%             NaN                  NaN    10.000000        NaN   \n",
       "75%             NaN                  NaN    18.000000        NaN   \n",
       "max             NaN                  NaN    71.000000        NaN   \n",
       "\n",
       "                     common_name  height_range_id  \n",
       "count                       5000       5000.00000  \n",
       "unique                       361              NaN  \n",
       "top     KWANZAN FLOWERING CHERRY              NaN  \n",
       "freq                         383              NaN  \n",
       "mean                         NaN          2.73440  \n",
       "std                          NaN          1.56957  \n",
       "min                          NaN          0.00000  \n",
       "25%                          NaN          2.00000  \n",
       "50%                          NaN          2.00000  \n",
       "75%                          NaN          4.00000  \n",
       "max                          NaN          9.00000  "
      ]
     },
     "execution_count": 4,
     "metadata": {},
     "output_type": "execute_result"
    }
   ],
   "source": [
    "trees_data.describe(include='all')"
   ]
  },
  {
   "cell_type": "markdown",
   "metadata": {},
   "source": [
    "**Table 2: Summary Statistics by Column**"
   ]
  },
  {
   "cell_type": "markdown",
   "metadata": {},
   "source": [
    "Table 2 tells us some interesting facts about about the tree data in regards to the questions we are interested in:\n",
    "\n",
    "* The maximum tree diameter is 71 and the mean is 12.34\n",
    "* The maximum height id is 9 (90-100ft) and the mean height id is 2.7\n",
    "* There are 171 unique tree species"
   ]
  },
  {
   "cell_type": "markdown",
   "metadata": {},
   "source": [
    "Further analysis is required in order to answer our original questions. We can start by creating some visualizations to get a better sense of the data. Since there are 171 different species, we wish to look at the top 20 species with the largest mean diameter."
   ]
  },
  {
   "cell_type": "code",
   "execution_count": 5,
   "metadata": {},
   "outputs": [
    {
     "data": {
      "text/html": [
       "\n",
       "<div id=\"altair-viz-4eb59c9ed5094df6bb072ed95428650e\"></div>\n",
       "<script type=\"text/javascript\">\n",
       "  (function(spec, embedOpt){\n",
       "    let outputDiv = document.currentScript.previousElementSibling;\n",
       "    if (outputDiv.id !== \"altair-viz-4eb59c9ed5094df6bb072ed95428650e\") {\n",
       "      outputDiv = document.getElementById(\"altair-viz-4eb59c9ed5094df6bb072ed95428650e\");\n",
       "    }\n",
       "    const paths = {\n",
       "      \"vega\": \"https://cdn.jsdelivr.net/npm//vega@5?noext\",\n",
       "      \"vega-lib\": \"https://cdn.jsdelivr.net/npm//vega-lib?noext\",\n",
       "      \"vega-lite\": \"https://cdn.jsdelivr.net/npm//vega-lite@4.8.1?noext\",\n",
       "      \"vega-embed\": \"https://cdn.jsdelivr.net/npm//vega-embed@6?noext\",\n",
       "    };\n",
       "\n",
       "    function loadScript(lib) {\n",
       "      return new Promise(function(resolve, reject) {\n",
       "        var s = document.createElement('script');\n",
       "        s.src = paths[lib];\n",
       "        s.async = true;\n",
       "        s.onload = () => resolve(paths[lib]);\n",
       "        s.onerror = () => reject(`Error loading script: ${paths[lib]}`);\n",
       "        document.getElementsByTagName(\"head\")[0].appendChild(s);\n",
       "      });\n",
       "    }\n",
       "\n",
       "    function showError(err) {\n",
       "      outputDiv.innerHTML = `<div class=\"error\" style=\"color:red;\">${err}</div>`;\n",
       "      throw err;\n",
       "    }\n",
       "\n",
       "    function displayChart(vegaEmbed) {\n",
       "      vegaEmbed(outputDiv, spec, embedOpt)\n",
       "        .catch(err => showError(`Javascript Error: ${err.message}<br>This usually means there's a typo in your chart specification. See the javascript console for the full traceback.`));\n",
       "    }\n",
       "\n",
       "    if(typeof define === \"function\" && define.amd) {\n",
       "      requirejs.config({paths});\n",
       "      require([\"vega-embed\"], displayChart, err => showError(`Error loading script: ${err.message}`));\n",
       "    } else if (typeof vegaEmbed === \"function\") {\n",
       "      displayChart(vegaEmbed);\n",
       "    } else {\n",
       "      loadScript(\"vega\")\n",
       "        .then(() => loadScript(\"vega-lite\"))\n",
       "        .then(() => loadScript(\"vega-embed\"))\n",
       "        .catch(showError)\n",
       "        .then(() => displayChart(vegaEmbed));\n",
       "    }\n",
       "  })({\"config\": {\"view\": {\"continuousWidth\": 400, \"continuousHeight\": 300}}, \"data\": {\"name\": \"data-3f9c35b4d53c6b2c5a081b3d3925fc7f\"}, \"mark\": \"bar\", \"encoding\": {\"x\": {\"type\": \"quantitative\", \"field\": \"diameter\"}, \"y\": {\"type\": \"nominal\", \"field\": \"species_name\", \"sort\": \"x\"}}, \"title\": \"Top 20 Species with Largest Mean Diameter\", \"$schema\": \"https://vega.github.io/schema/vega-lite/v4.8.1.json\", \"datasets\": {\"data-3f9c35b4d53c6b2c5a081b3d3925fc7f\": [{\"species_name\": \"TRICHOCARPA\", \"diameter\": 39.25}, {\"species_name\": \"CINEREA\", \"diameter\": 35.5}, {\"species_name\": \"PADUS\", \"diameter\": 31.35}, {\"species_name\": \"SATIVA\", \"diameter\": 30.0}, {\"species_name\": \"SEMPREVIRENS\", \"diameter\": 29.5}, {\"species_name\": \"REGIA\", \"diameter\": 29.0}, {\"species_name\": \"RUBRA\", \"diameter\": 28.08}, {\"species_name\": \"PROCERA\", \"diameter\": 26.642857142857142}, {\"species_name\": \"HIPPOCASTANUM\", \"diameter\": 26.536231884057973}, {\"species_name\": \"SACCHARINUM\", \"diameter\": 26.45}, {\"species_name\": \"BIGNONIOIDES\", \"diameter\": 26.430555555555557}, {\"species_name\": \"GLABRA\", \"diameter\": 26.27777777777778}, {\"species_name\": \"SITCHENSIS\", \"diameter\": 26.0}, {\"species_name\": \"NUTTALLII\", \"diameter\": 25.266666666666666}, {\"species_name\": \"DEODARA\", \"diameter\": 25.208333333333332}, {\"species_name\": \"QUADRANGULATA\", \"diameter\": 24.375}, {\"species_name\": \"MACROCARPA\", \"diameter\": 24.333333333333332}, {\"species_name\": \"HOLLANDICA   X\", \"diameter\": 24.0}, {\"species_name\": \"SPECIOSA\", \"diameter\": 23.75}, {\"species_name\": \"HETEROPHYLLA\", \"diameter\": 23.0}]}}, {\"mode\": \"vega-lite\"});\n",
       "</script>"
      ],
      "text/plain": [
       "alt.Chart(...)"
      ]
     },
     "execution_count": 5,
     "metadata": {},
     "output_type": "execute_result"
    }
   ],
   "source": [
    "mean_diameter = trees_data.groupby('species_name')['diameter'].mean().reset_index()\n",
    "top_species = mean_diameter.sort_values(by='diameter', ascending=False).head(20)\n",
    "\n",
    "diameter_plot = alt.Chart(top_species).mark_bar().encode(\n",
    "    alt.X('diameter'),\n",
    "    alt.Y('species_name', sort='x')    \n",
    ").properties(\n",
    "    title='Top 20 Species with Largest Mean Diameter')\n",
    "diameter_plot"
   ]
  },
  {
   "cell_type": "markdown",
   "metadata": {},
   "source": [
    "The figure above shows the 20 tree species with the largest mean diameter. The mean diameters range from around 23 to just below 40 inches. Next, we will explore the 20 tree species with the highest mean height range, and compare those species to the largest diameter species.  "
   ]
  },
  {
   "cell_type": "code",
   "execution_count": 6,
   "metadata": {},
   "outputs": [
    {
     "data": {
      "text/html": [
       "\n",
       "<div id=\"altair-viz-425211fd02b14442a83fbfb5a08508bc\"></div>\n",
       "<script type=\"text/javascript\">\n",
       "  (function(spec, embedOpt){\n",
       "    let outputDiv = document.currentScript.previousElementSibling;\n",
       "    if (outputDiv.id !== \"altair-viz-425211fd02b14442a83fbfb5a08508bc\") {\n",
       "      outputDiv = document.getElementById(\"altair-viz-425211fd02b14442a83fbfb5a08508bc\");\n",
       "    }\n",
       "    const paths = {\n",
       "      \"vega\": \"https://cdn.jsdelivr.net/npm//vega@5?noext\",\n",
       "      \"vega-lib\": \"https://cdn.jsdelivr.net/npm//vega-lib?noext\",\n",
       "      \"vega-lite\": \"https://cdn.jsdelivr.net/npm//vega-lite@4.8.1?noext\",\n",
       "      \"vega-embed\": \"https://cdn.jsdelivr.net/npm//vega-embed@6?noext\",\n",
       "    };\n",
       "\n",
       "    function loadScript(lib) {\n",
       "      return new Promise(function(resolve, reject) {\n",
       "        var s = document.createElement('script');\n",
       "        s.src = paths[lib];\n",
       "        s.async = true;\n",
       "        s.onload = () => resolve(paths[lib]);\n",
       "        s.onerror = () => reject(`Error loading script: ${paths[lib]}`);\n",
       "        document.getElementsByTagName(\"head\")[0].appendChild(s);\n",
       "      });\n",
       "    }\n",
       "\n",
       "    function showError(err) {\n",
       "      outputDiv.innerHTML = `<div class=\"error\" style=\"color:red;\">${err}</div>`;\n",
       "      throw err;\n",
       "    }\n",
       "\n",
       "    function displayChart(vegaEmbed) {\n",
       "      vegaEmbed(outputDiv, spec, embedOpt)\n",
       "        .catch(err => showError(`Javascript Error: ${err.message}<br>This usually means there's a typo in your chart specification. See the javascript console for the full traceback.`));\n",
       "    }\n",
       "\n",
       "    if(typeof define === \"function\" && define.amd) {\n",
       "      requirejs.config({paths});\n",
       "      require([\"vega-embed\"], displayChart, err => showError(`Error loading script: ${err.message}`));\n",
       "    } else if (typeof vegaEmbed === \"function\") {\n",
       "      displayChart(vegaEmbed);\n",
       "    } else {\n",
       "      loadScript(\"vega\")\n",
       "        .then(() => loadScript(\"vega-lite\"))\n",
       "        .then(() => loadScript(\"vega-embed\"))\n",
       "        .catch(showError)\n",
       "        .then(() => displayChart(vegaEmbed));\n",
       "    }\n",
       "  })({\"config\": {\"view\": {\"continuousWidth\": 400, \"continuousHeight\": 300}}, \"data\": {\"name\": \"data-efb54108b4ebb9d81954f0a185b0919c\"}, \"mark\": \"bar\", \"encoding\": {\"x\": {\"type\": \"quantitative\", \"field\": \"height_range_id\"}, \"y\": {\"type\": \"nominal\", \"field\": \"species_name\", \"sort\": \"x\"}}, \"title\": \"Top 20 Species with Largest Mean Height Range\", \"$schema\": \"https://vega.github.io/schema/vega-lite/v4.8.1.json\", \"datasets\": {\"data-efb54108b4ebb9d81954f0a185b0919c\": [{\"species_name\": \"HOLLANDICA   X\", \"height_range_id\": 7.0}, {\"species_name\": \"TRICHOCARPA\", \"height_range_id\": 7.0}, {\"species_name\": \"GLABRA\", \"height_range_id\": 6.555555555555555}, {\"species_name\": \"CINEREA\", \"height_range_id\": 6.0}, {\"species_name\": \"SITCHENSIS\", \"height_range_id\": 6.0}, {\"species_name\": \"SACCHARINUM\", \"height_range_id\": 5.8}, {\"species_name\": \"PROCERA\", \"height_range_id\": 5.571428571428571}, {\"species_name\": \"RUBRA\", \"height_range_id\": 5.44}, {\"species_name\": \"MACROCARPA\", \"height_range_id\": 5.333333333333333}, {\"species_name\": \"BIGNONIOIDES\", \"height_range_id\": 5.111111111111111}, {\"species_name\": \"HIPPOCASTANUM\", \"height_range_id\": 5.086956521739131}, {\"species_name\": \"TRIFOLIATA\", \"height_range_id\": 5.0}, {\"species_name\": \"REGIA\", \"height_range_id\": 5.0}, {\"species_name\": \"ACERIFOLIA   X\", \"height_range_id\": 4.866666666666666}, {\"species_name\": \"EUROPAEA   X\", \"height_range_id\": 4.857142857142857}, {\"species_name\": \"MENZIESII\", \"height_range_id\": 4.775}, {\"species_name\": \"CONTORTA\", \"height_range_id\": 4.5}, {\"species_name\": \"PENDULA\", \"height_range_id\": 4.4411764705882355}, {\"species_name\": \"HETEROPHYLLA\", \"height_range_id\": 4.333333333333333}, {\"species_name\": \"DEODARA\", \"height_range_id\": 4.333333333333333}]}}, {\"mode\": \"vega-lite\"});\n",
       "</script>"
      ],
      "text/plain": [
       "alt.Chart(...)"
      ]
     },
     "execution_count": 6,
     "metadata": {},
     "output_type": "execute_result"
    }
   ],
   "source": [
    "mean_height = trees_data.groupby('species_name')['height_range_id'].mean().reset_index()\n",
    "top_species_height = mean_height.sort_values(by='height_range_id', ascending=False).head(20)\n",
    "\n",
    "height_plot = alt.Chart(top_species_height).mark_bar().encode(\n",
    "    alt.X('height_range_id'),\n",
    "    alt.Y('species_name', sort='x')).properties(\n",
    "    title='Top 20 Species with Largest Mean Height Range')\n",
    "height_plot"
   ]
  },
  {
   "cell_type": "markdown",
   "metadata": {},
   "source": [
    "Now we can see the 20 species with the highest mean height range. The mean height id ranges from around 4 to 7 (meaning 40-50 ft to 70-80 ft high). We can see that some of the same tree species are apart of both the 20 largest mean diameters as well as the 20 highest height range id, including Trichocarpa, Cinerea, Rubra, Procera, Saccharinum and more.\n",
    "\n",
    "Our next visualization is a scatterplot that will show both size measurements of each of the species that are found to be apart of the largest diameter group and the highest height range id group."
   ]
  },
  {
   "cell_type": "code",
   "execution_count": 7,
   "metadata": {},
   "outputs": [
    {
     "data": {
      "text/html": [
       "\n",
       "<div id=\"altair-viz-7d84c9465c29421aa079ecab4eafa22d\"></div>\n",
       "<script type=\"text/javascript\">\n",
       "  (function(spec, embedOpt){\n",
       "    let outputDiv = document.currentScript.previousElementSibling;\n",
       "    if (outputDiv.id !== \"altair-viz-7d84c9465c29421aa079ecab4eafa22d\") {\n",
       "      outputDiv = document.getElementById(\"altair-viz-7d84c9465c29421aa079ecab4eafa22d\");\n",
       "    }\n",
       "    const paths = {\n",
       "      \"vega\": \"https://cdn.jsdelivr.net/npm//vega@5?noext\",\n",
       "      \"vega-lib\": \"https://cdn.jsdelivr.net/npm//vega-lib?noext\",\n",
       "      \"vega-lite\": \"https://cdn.jsdelivr.net/npm//vega-lite@4.8.1?noext\",\n",
       "      \"vega-embed\": \"https://cdn.jsdelivr.net/npm//vega-embed@6?noext\",\n",
       "    };\n",
       "\n",
       "    function loadScript(lib) {\n",
       "      return new Promise(function(resolve, reject) {\n",
       "        var s = document.createElement('script');\n",
       "        s.src = paths[lib];\n",
       "        s.async = true;\n",
       "        s.onload = () => resolve(paths[lib]);\n",
       "        s.onerror = () => reject(`Error loading script: ${paths[lib]}`);\n",
       "        document.getElementsByTagName(\"head\")[0].appendChild(s);\n",
       "      });\n",
       "    }\n",
       "\n",
       "    function showError(err) {\n",
       "      outputDiv.innerHTML = `<div class=\"error\" style=\"color:red;\">${err}</div>`;\n",
       "      throw err;\n",
       "    }\n",
       "\n",
       "    function displayChart(vegaEmbed) {\n",
       "      vegaEmbed(outputDiv, spec, embedOpt)\n",
       "        .catch(err => showError(`Javascript Error: ${err.message}<br>This usually means there's a typo in your chart specification. See the javascript console for the full traceback.`));\n",
       "    }\n",
       "\n",
       "    if(typeof define === \"function\" && define.amd) {\n",
       "      requirejs.config({paths});\n",
       "      require([\"vega-embed\"], displayChart, err => showError(`Error loading script: ${err.message}`));\n",
       "    } else if (typeof vegaEmbed === \"function\") {\n",
       "      displayChart(vegaEmbed);\n",
       "    } else {\n",
       "      loadScript(\"vega\")\n",
       "        .then(() => loadScript(\"vega-lite\"))\n",
       "        .then(() => loadScript(\"vega-embed\"))\n",
       "        .catch(showError)\n",
       "        .then(() => displayChart(vegaEmbed));\n",
       "    }\n",
       "  })({\"config\": {\"view\": {\"continuousWidth\": 400, \"continuousHeight\": 300}}, \"data\": {\"name\": \"data-c822e0050adccb6005b5bcd4a3481b82\"}, \"mark\": {\"type\": \"circle\", \"size\": 75}, \"encoding\": {\"color\": {\"type\": \"nominal\", \"field\": \"species_name\"}, \"x\": {\"type\": \"quantitative\", \"aggregate\": \"mean\", \"field\": \"height_range_id\"}, \"y\": {\"type\": \"quantitative\", \"aggregate\": \"mean\", \"field\": \"diameter\"}}, \"$schema\": \"https://vega.github.io/schema/vega-lite/v4.8.1.json\", \"datasets\": {\"data-c822e0050adccb6005b5bcd4a3481b82\": [{\"species_name\": \"HIPPOCASTANUM\", \"neighbourhood_name\": \"Shaughnessy\", \"diameter\": 15.5, \"genus_name\": \"AESCULUS\", \"common_name\": \"COMMON HORSECHESTNUT\", \"height_range_id\": 4}, {\"species_name\": \"BIGNONIOIDES\", \"neighbourhood_name\": \"West Point Grey\", \"diameter\": 25.0, \"genus_name\": \"CATALPA\", \"common_name\": \"COMMON CATALPA\", \"height_range_id\": 4}, {\"species_name\": \"RUBRA\", \"neighbourhood_name\": \"Grandview-Woodland\", \"diameter\": 41.0, \"genus_name\": \"QUERCUS\", \"common_name\": \"RED OAK\", \"height_range_id\": 7}, {\"species_name\": \"HIPPOCASTANUM\", \"neighbourhood_name\": \"Victoria-Fraserview\", \"diameter\": 24.0, \"genus_name\": \"AESCULUS\", \"common_name\": \"COMMON HORSECHESTNUT\", \"height_range_id\": 5}, {\"species_name\": \"BIGNONIOIDES\", \"neighbourhood_name\": \"Renfrew-Collingwood\", \"diameter\": 24.5, \"genus_name\": \"CATALPA\", \"common_name\": \"COMMON CATALPA\", \"height_range_id\": 5}, {\"species_name\": \"HIPPOCASTANUM\", \"neighbourhood_name\": \"Mount Pleasant\", \"diameter\": 27.0, \"genus_name\": \"AESCULUS\", \"common_name\": \"COMMON HORSECHESTNUT\", \"height_range_id\": 5}, {\"species_name\": \"GLABRA\", \"neighbourhood_name\": \"Dunbar-Southlands\", \"diameter\": 24.0, \"genus_name\": \"ULMUS\", \"common_name\": \"SCOTS ELM\", \"height_range_id\": 5}, {\"species_name\": \"RUBRA\", \"neighbourhood_name\": \"Hastings-Sunrise\", \"diameter\": 40.0, \"genus_name\": \"QUERCUS\", \"common_name\": \"RED OAK\", \"height_range_id\": 7}, {\"species_name\": \"REGIA\", \"neighbourhood_name\": \"Kensington-Cedar Cottage\", \"diameter\": 29.0, \"genus_name\": \"JUGLANS\", \"common_name\": \"ENGLISH WALNUT\", \"height_range_id\": 5}, {\"species_name\": \"HIPPOCASTANUM\", \"neighbourhood_name\": \"Grandview-Woodland\", \"diameter\": 22.0, \"genus_name\": \"AESCULUS\", \"common_name\": \"COMMON HORSECHESTNUT\", \"height_range_id\": 5}, {\"species_name\": \"HOLLANDICA   X\", \"neighbourhood_name\": \"Arbutus-Ridge\", \"diameter\": 24.0, \"genus_name\": \"ULMUS\", \"common_name\": \"DUTCH ELM\", \"height_range_id\": 7}, {\"species_name\": \"RUBRA\", \"neighbourhood_name\": \"Kerrisdale\", \"diameter\": 15.0, \"genus_name\": \"ALNUS\", \"common_name\": \"RED ALDER\", \"height_range_id\": 5}, {\"species_name\": \"BIGNONIOIDES\", \"neighbourhood_name\": \"Kitsilano\", \"diameter\": 34.0, \"genus_name\": \"CATALPA\", \"common_name\": \"COMMON CATALPA\", \"height_range_id\": 7}, {\"species_name\": \"RUBRA\", \"neighbourhood_name\": \"Hastings-Sunrise\", \"diameter\": 33.0, \"genus_name\": \"QUERCUS\", \"common_name\": \"RED OAK\", \"height_range_id\": 7}, {\"species_name\": \"RUBRA\", \"neighbourhood_name\": \"Dunbar-Southlands\", \"diameter\": 34.0, \"genus_name\": \"QUERCUS\", \"common_name\": \"RED OAK\", \"height_range_id\": 8}, {\"species_name\": \"PROCERA\", \"neighbourhood_name\": \"Marpole\", \"diameter\": 21.0, \"genus_name\": \"ULMUS\", \"common_name\": \"ENGLISH ELM\", \"height_range_id\": 4}, {\"species_name\": \"RUBRA\", \"neighbourhood_name\": \"Dunbar-Southlands\", \"diameter\": 49.5, \"genus_name\": \"QUERCUS\", \"common_name\": \"RED OAK\", \"height_range_id\": 6}, {\"species_name\": \"HIPPOCASTANUM\", \"neighbourhood_name\": \"Shaughnessy\", \"diameter\": 27.0, \"genus_name\": \"AESCULUS\", \"common_name\": \"COMMON HORSECHESTNUT\", \"height_range_id\": 4}, {\"species_name\": \"DEODARA\", \"neighbourhood_name\": \"Dunbar-Southlands\", \"diameter\": 12.0, \"genus_name\": \"CEDRUS\", \"common_name\": \"DEODAR CEDAR\", \"height_range_id\": 4}, {\"species_name\": \"BIGNONIOIDES\", \"neighbourhood_name\": \"Kitsilano\", \"diameter\": 34.0, \"genus_name\": \"CATALPA\", \"common_name\": \"COMMON CATALPA\", \"height_range_id\": 6}, {\"species_name\": \"RUBRA\", \"neighbourhood_name\": \"Dunbar-Southlands\", \"diameter\": 32.0, \"genus_name\": \"QUERCUS\", \"common_name\": \"RED OAK\", \"height_range_id\": 6}, {\"species_name\": \"HIPPOCASTANUM\", \"neighbourhood_name\": \"Shaughnessy\", \"diameter\": 29.0, \"genus_name\": \"AESCULUS\", \"common_name\": \"COMMON HORSECHESTNUT\", \"height_range_id\": 5}, {\"species_name\": \"HIPPOCASTANUM\", \"neighbourhood_name\": \"West Point Grey\", \"diameter\": 18.0, \"genus_name\": \"AESCULUS\", \"common_name\": \"COMMON HORSECHESTNUT\", \"height_range_id\": 6}, {\"species_name\": \"HIPPOCASTANUM\", \"neighbourhood_name\": \"Kitsilano\", \"diameter\": 25.0, \"genus_name\": \"AESCULUS\", \"common_name\": \"COMMON HORSECHESTNUT\", \"height_range_id\": 7}, {\"species_name\": \"HIPPOCASTANUM\", \"neighbourhood_name\": \"Kitsilano\", \"diameter\": 28.0, \"genus_name\": \"AESCULUS\", \"common_name\": \"COMMON HORSECHESTNUT\", \"height_range_id\": 6}, {\"species_name\": \"DEODARA\", \"neighbourhood_name\": \"Fairview\", \"diameter\": 41.0, \"genus_name\": \"CEDRUS\", \"common_name\": \"DEODAR CEDAR\", \"height_range_id\": 5}, {\"species_name\": \"HIPPOCASTANUM\", \"neighbourhood_name\": \"Downtown\", \"diameter\": 10.0, \"genus_name\": \"AESCULUS\", \"common_name\": \"COMMON HORSECHESTNUT\", \"height_range_id\": 4}, {\"species_name\": \"RUBRA\", \"neighbourhood_name\": \"Strathcona\", \"diameter\": 25.5, \"genus_name\": \"QUERCUS\", \"common_name\": \"RED OAK\", \"height_range_id\": 4}, {\"species_name\": \"HIPPOCASTANUM\", \"neighbourhood_name\": \"Marpole\", \"diameter\": 7.0, \"genus_name\": \"AESCULUS\", \"common_name\": \"COMMON HORSECHESTNUT\", \"height_range_id\": 2}, {\"species_name\": \"HIPPOCASTANUM\", \"neighbourhood_name\": \"Arbutus-Ridge\", \"diameter\": 30.0, \"genus_name\": \"AESCULUS\", \"common_name\": \"COMMON HORSECHESTNUT\", \"height_range_id\": 5}, {\"species_name\": \"HIPPOCASTANUM\", \"neighbourhood_name\": \"Kensington-Cedar Cottage\", \"diameter\": 31.0, \"genus_name\": \"AESCULUS\", \"common_name\": \"COMMON HORSECHESTNUT\", \"height_range_id\": 6}, {\"species_name\": \"HIPPOCASTANUM\", \"neighbourhood_name\": \"Shaughnessy\", \"diameter\": 32.0, \"genus_name\": \"AESCULUS\", \"common_name\": \"COMMON HORSECHESTNUT\", \"height_range_id\": 6}, {\"species_name\": \"CINEREA\", \"neighbourhood_name\": \"Arbutus-Ridge\", \"diameter\": 35.5, \"genus_name\": \"JUGLANS\", \"common_name\": \"BUTTERNUT\", \"height_range_id\": 6}, {\"species_name\": \"HETEROPHYLLA\", \"neighbourhood_name\": \"Victoria-Fraserview\", \"diameter\": 30.0, \"genus_name\": \"TSUGA\", \"common_name\": \"WESTERN HEMLOCK\", \"height_range_id\": 4}, {\"species_name\": \"BIGNONIOIDES\", \"neighbourhood_name\": \"West Point Grey\", \"diameter\": 28.25, \"genus_name\": \"CATALPA\", \"common_name\": \"COMMON CATALPA\", \"height_range_id\": 5}, {\"species_name\": \"RUBRA\", \"neighbourhood_name\": \"Dunbar-Southlands\", \"diameter\": 36.0, \"genus_name\": \"QUERCUS\", \"common_name\": \"RED OAK\", \"height_range_id\": 5}, {\"species_name\": \"RUBRA\", \"neighbourhood_name\": \"Hastings-Sunrise\", \"diameter\": 27.0, \"genus_name\": \"QUERCUS\", \"common_name\": \"RED OAK\", \"height_range_id\": 6}, {\"species_name\": \"DEODARA\", \"neighbourhood_name\": \"Marpole\", \"diameter\": 3.0, \"genus_name\": \"CEDRUS\", \"common_name\": \"KASHMIR CEDAR\", \"height_range_id\": 2}, {\"species_name\": \"BIGNONIOIDES\", \"neighbourhood_name\": \"Kitsilano\", \"diameter\": 28.0, \"genus_name\": \"CATALPA\", \"common_name\": \"COMMON CATALPA\", \"height_range_id\": 6}, {\"species_name\": \"BIGNONIOIDES\", \"neighbourhood_name\": \"Kitsilano\", \"diameter\": 18.0, \"genus_name\": \"CATALPA\", \"common_name\": \"COMMON CATALPA\", \"height_range_id\": 5}, {\"species_name\": \"HIPPOCASTANUM\", \"neighbourhood_name\": \"Kitsilano\", \"diameter\": 25.0, \"genus_name\": \"AESCULUS\", \"common_name\": \"COMMON HORSECHESTNUT\", \"height_range_id\": 4}, {\"species_name\": \"RUBRA\", \"neighbourhood_name\": \"Grandview-Woodland\", \"diameter\": 43.0, \"genus_name\": \"QUERCUS\", \"common_name\": \"RED OAK\", \"height_range_id\": 7}, {\"species_name\": \"HIPPOCASTANUM\", \"neighbourhood_name\": \"Dunbar-Southlands\", \"diameter\": 31.0, \"genus_name\": \"AESCULUS\", \"common_name\": \"COMMON HORSECHESTNUT\", \"height_range_id\": 5}, {\"species_name\": \"RUBRA\", \"neighbourhood_name\": \"Grandview-Woodland\", \"diameter\": 40.0, \"genus_name\": \"QUERCUS\", \"common_name\": \"RED OAK\", \"height_range_id\": 8}, {\"species_name\": \"BIGNONIOIDES\", \"neighbourhood_name\": \"Riley Park\", \"diameter\": 24.0, \"genus_name\": \"CATALPA\", \"common_name\": \"COMMON CATALPA\", \"height_range_id\": 4}, {\"species_name\": \"RUBRA\", \"neighbourhood_name\": \"Kensington-Cedar Cottage\", \"diameter\": 25.0, \"genus_name\": \"QUERCUS\", \"common_name\": \"RED OAK\", \"height_range_id\": 5}, {\"species_name\": \"RUBRA\", \"neighbourhood_name\": \"Kitsilano\", \"diameter\": 16.0, \"genus_name\": \"QUERCUS\", \"common_name\": \"RED OAK\", \"height_range_id\": 4}, {\"species_name\": \"RUBRA\", \"neighbourhood_name\": \"Kensington-Cedar Cottage\", \"diameter\": 41.5, \"genus_name\": \"QUERCUS\", \"common_name\": \"RED OAK\", \"height_range_id\": 9}, {\"species_name\": \"RUBRA\", \"neighbourhood_name\": \"Killarney\", \"diameter\": 17.0, \"genus_name\": \"QUERCUS\", \"common_name\": \"RED OAK\", \"height_range_id\": 4}, {\"species_name\": \"HIPPOCASTANUM\", \"neighbourhood_name\": \"Kitsilano\", \"diameter\": 35.0, \"genus_name\": \"AESCULUS\", \"common_name\": \"COMMON HORSECHESTNUT\", \"height_range_id\": 6}, {\"species_name\": \"HIPPOCASTANUM\", \"neighbourhood_name\": \"Kerrisdale\", \"diameter\": 31.0, \"genus_name\": \"AESCULUS\", \"common_name\": \"COMMON HORSECHESTNUT\", \"height_range_id\": 5}, {\"species_name\": \"HIPPOCASTANUM\", \"neighbourhood_name\": \"Hastings-Sunrise\", \"diameter\": 38.0, \"genus_name\": \"AESCULUS\", \"common_name\": \"COMMON HORSECHESTNUT\", \"height_range_id\": 5}, {\"species_name\": \"PROCERA\", \"neighbourhood_name\": \"South Cambie\", \"diameter\": 12.0, \"genus_name\": \"ULMUS\", \"common_name\": \"ENGLISH ELM\", \"height_range_id\": 5}, {\"species_name\": \"RUBRA\", \"neighbourhood_name\": \"Hastings-Sunrise\", \"diameter\": 39.0, \"genus_name\": \"QUERCUS\", \"common_name\": \"RED OAK\", \"height_range_id\": 7}, {\"species_name\": \"TRICHOCARPA\", \"neighbourhood_name\": \"Renfrew-Collingwood\", \"diameter\": 38.5, \"genus_name\": \"POPULUS\", \"common_name\": \"BLACK COTTONWOOD\", \"height_range_id\": 8}, {\"species_name\": \"HIPPOCASTANUM\", \"neighbourhood_name\": \"Kitsilano\", \"diameter\": 15.0, \"genus_name\": \"AESCULUS\", \"common_name\": \"COMMON HORSECHESTNUT\", \"height_range_id\": 3}, {\"species_name\": \"RUBRA\", \"neighbourhood_name\": \"Dunbar-Southlands\", \"diameter\": 30.0, \"genus_name\": \"QUERCUS\", \"common_name\": \"RED OAK\", \"height_range_id\": 4}, {\"species_name\": \"HIPPOCASTANUM\", \"neighbourhood_name\": \"Dunbar-Southlands\", \"diameter\": 24.0, \"genus_name\": \"AESCULUS\", \"common_name\": \"COMMON HORSECHESTNUT\", \"height_range_id\": 6}, {\"species_name\": \"DEODARA\", \"neighbourhood_name\": \"Kitsilano\", \"diameter\": 71.0, \"genus_name\": \"CEDRUS\", \"common_name\": \"DEODAR CEDAR\", \"height_range_id\": 5}, {\"species_name\": \"RUBRA\", \"neighbourhood_name\": \"Marpole\", \"diameter\": 21.5, \"genus_name\": \"QUERCUS\", \"common_name\": \"RED OAK\", \"height_range_id\": 4}, {\"species_name\": \"RUBRA\", \"neighbourhood_name\": \"Victoria-Fraserview\", \"diameter\": 20.5, \"genus_name\": \"QUERCUS\", \"common_name\": \"RED OAK\", \"height_range_id\": 7}, {\"species_name\": \"RUBRA\", \"neighbourhood_name\": \"Dunbar-Southlands\", \"diameter\": 45.0, \"genus_name\": \"QUERCUS\", \"common_name\": \"RED OAK\", \"height_range_id\": 6}, {\"species_name\": \"HIPPOCASTANUM\", \"neighbourhood_name\": \"Fairview\", \"diameter\": 44.0, \"genus_name\": \"AESCULUS\", \"common_name\": \"COMMON HORSECHESTNUT\", \"height_range_id\": 6}, {\"species_name\": \"HIPPOCASTANUM\", \"neighbourhood_name\": \"Kitsilano\", \"diameter\": 24.0, \"genus_name\": \"AESCULUS\", \"common_name\": \"COMMON HORSECHESTNUT\", \"height_range_id\": 5}, {\"species_name\": \"GLABRA\", \"neighbourhood_name\": \"Dunbar-Southlands\", \"diameter\": 24.0, \"genus_name\": \"ULMUS\", \"common_name\": \"SCOTS ELM\", \"height_range_id\": 6}, {\"species_name\": \"PROCERA\", \"neighbourhood_name\": \"Kerrisdale\", \"diameter\": 36.0, \"genus_name\": \"ULMUS\", \"common_name\": \"ENGLISH ELM\", \"height_range_id\": 8}, {\"species_name\": \"SACCHARINUM\", \"neighbourhood_name\": \"Riley Park\", \"diameter\": 23.0, \"genus_name\": \"ACER\", \"common_name\": \"SILVER MAPLE\", \"height_range_id\": 4}, {\"species_name\": \"RUBRA\", \"neighbourhood_name\": \"Renfrew-Collingwood\", \"diameter\": 24.75, \"genus_name\": \"QUERCUS\", \"common_name\": \"RED OAK\", \"height_range_id\": 4}, {\"species_name\": \"RUBRA\", \"neighbourhood_name\": \"Hastings-Sunrise\", \"diameter\": 30.0, \"genus_name\": \"QUERCUS\", \"common_name\": \"RED OAK\", \"height_range_id\": 5}, {\"species_name\": \"GLABRA\", \"neighbourhood_name\": \"Dunbar-Southlands\", \"diameter\": 27.0, \"genus_name\": \"ULMUS\", \"common_name\": \"SCOTS ELM\", \"height_range_id\": 7}, {\"species_name\": \"RUBRA\", \"neighbourhood_name\": \"Killarney\", \"diameter\": 10.0, \"genus_name\": \"QUERCUS\", \"common_name\": \"RED OAK\", \"height_range_id\": 4}, {\"species_name\": \"HIPPOCASTANUM\", \"neighbourhood_name\": \"Mount Pleasant\", \"diameter\": 22.0, \"genus_name\": \"AESCULUS\", \"common_name\": \"COMMON HORSECHESTNUT\", \"height_range_id\": 5}, {\"species_name\": \"GLABRA\", \"neighbourhood_name\": \"Dunbar-Southlands\", \"diameter\": 36.0, \"genus_name\": \"ULMUS\", \"common_name\": \"SCOTS ELM\", \"height_range_id\": 7}, {\"species_name\": \"RUBRA\", \"neighbourhood_name\": \"Arbutus-Ridge\", \"diameter\": 48.0, \"genus_name\": \"QUERCUS\", \"common_name\": \"RED OAK\", \"height_range_id\": 5}, {\"species_name\": \"HIPPOCASTANUM\", \"neighbourhood_name\": \"Kerrisdale\", \"diameter\": 28.5, \"genus_name\": \"AESCULUS\", \"common_name\": \"COMMON HORSECHESTNUT\", \"height_range_id\": 6}, {\"species_name\": \"HIPPOCASTANUM\", \"neighbourhood_name\": \"Dunbar-Southlands\", \"diameter\": 24.0, \"genus_name\": \"AESCULUS\", \"common_name\": \"COMMON HORSECHESTNUT\", \"height_range_id\": 6}, {\"species_name\": \"HIPPOCASTANUM\", \"neighbourhood_name\": \"Dunbar-Southlands\", \"diameter\": 34.0, \"genus_name\": \"AESCULUS\", \"common_name\": \"COMMON HORSECHESTNUT\", \"height_range_id\": 6}, {\"species_name\": \"BIGNONIOIDES\", \"neighbourhood_name\": \"Shaughnessy\", \"diameter\": 3.0, \"genus_name\": \"CATALPA\", \"common_name\": \"UMBRELLA CATALPA\", \"height_range_id\": 2}, {\"species_name\": \"HIPPOCASTANUM\", \"neighbourhood_name\": \"Shaughnessy\", \"diameter\": 21.0, \"genus_name\": \"AESCULUS\", \"common_name\": \"COMMON HORSECHESTNUT\", \"height_range_id\": 4}, {\"species_name\": \"SACCHARINUM\", \"neighbourhood_name\": \"West End\", \"diameter\": 16.0, \"genus_name\": \"ACER\", \"common_name\": \"SILVER MAPLE\", \"height_range_id\": 4}, {\"species_name\": \"DEODARA\", \"neighbourhood_name\": \"Hastings-Sunrise\", \"diameter\": 6.0, \"genus_name\": \"CEDRUS\", \"common_name\": \"DEODAR CEDAR\", \"height_range_id\": 6}, {\"species_name\": \"HIPPOCASTANUM\", \"neighbourhood_name\": \"Dunbar-Southlands\", \"diameter\": 30.0, \"genus_name\": \"AESCULUS\", \"common_name\": \"COMMON HORSECHESTNUT\", \"height_range_id\": 6}, {\"species_name\": \"HIPPOCASTANUM\", \"neighbourhood_name\": \"Shaughnessy\", \"diameter\": 34.0, \"genus_name\": \"AESCULUS\", \"common_name\": \"COMMON HORSECHESTNUT\", \"height_range_id\": 6}, {\"species_name\": \"RUBRA\", \"neighbourhood_name\": \"Strathcona\", \"diameter\": 22.5, \"genus_name\": \"QUERCUS\", \"common_name\": \"RED OAK\", \"height_range_id\": 5}, {\"species_name\": \"HIPPOCASTANUM\", \"neighbourhood_name\": \"Kitsilano\", \"diameter\": 35.0, \"genus_name\": \"AESCULUS\", \"common_name\": \"COMMON HORSECHESTNUT\", \"height_range_id\": 7}, {\"species_name\": \"HIPPOCASTANUM\", \"neighbourhood_name\": \"Kitsilano\", \"diameter\": 23.0, \"genus_name\": \"AESCULUS\", \"common_name\": \"COMMON HORSECHESTNUT\", \"height_range_id\": 5}, {\"species_name\": \"GLABRA\", \"neighbourhood_name\": \"Dunbar-Southlands\", \"diameter\": 24.0, \"genus_name\": \"ULMUS\", \"common_name\": \"SCOTS ELM\", \"height_range_id\": 7}, {\"species_name\": \"HIPPOCASTANUM\", \"neighbourhood_name\": \"Kerrisdale\", \"diameter\": 24.0, \"genus_name\": \"AESCULUS\", \"common_name\": \"COMMON HORSECHESTNUT\", \"height_range_id\": 5}, {\"species_name\": \"BIGNONIOIDES\", \"neighbourhood_name\": \"Kitsilano\", \"diameter\": 31.0, \"genus_name\": \"CATALPA\", \"common_name\": \"COMMON CATALPA\", \"height_range_id\": 6}, {\"species_name\": \"DEODARA\", \"neighbourhood_name\": \"West Point Grey\", \"diameter\": 16.0, \"genus_name\": \"CEDRUS\", \"common_name\": \"DEODAR CEDAR\", \"height_range_id\": 3}, {\"species_name\": \"DEODARA\", \"neighbourhood_name\": \"Kitsilano\", \"diameter\": 22.0, \"genus_name\": \"CEDRUS\", \"common_name\": \"DEODAR CEDAR\", \"height_range_id\": 5}, {\"species_name\": \"HIPPOCASTANUM\", \"neighbourhood_name\": \"West End\", \"diameter\": 30.0, \"genus_name\": \"AESCULUS\", \"common_name\": \"COMMON HORSECHESTNUT\", \"height_range_id\": 6}, {\"species_name\": \"SACCHARINUM\", \"neighbourhood_name\": \"Shaughnessy\", \"diameter\": 27.0, \"genus_name\": \"ACER\", \"common_name\": \"SILVER MAPLE\", \"height_range_id\": 6}, {\"species_name\": \"HIPPOCASTANUM\", \"neighbourhood_name\": \"Kensington-Cedar Cottage\", \"diameter\": 24.0, \"genus_name\": \"AESCULUS\", \"common_name\": \"COMMON HORSECHESTNUT\", \"height_range_id\": 5}, {\"species_name\": \"PROCERA\", \"neighbourhood_name\": \"Kerrisdale\", \"diameter\": 28.0, \"genus_name\": \"ULMUS\", \"common_name\": \"ENGLISH ELM\", \"height_range_id\": 5}, {\"species_name\": \"RUBRA\", \"neighbourhood_name\": \"Hastings-Sunrise\", \"diameter\": 41.0, \"genus_name\": \"QUERCUS\", \"common_name\": \"RED OAK\", \"height_range_id\": 5}, {\"species_name\": \"GLABRA\", \"neighbourhood_name\": \"Kitsilano\", \"diameter\": 26.0, \"genus_name\": \"ULMUS\", \"common_name\": \"SCOTS ELM\", \"height_range_id\": 7}, {\"species_name\": \"BIGNONIOIDES\", \"neighbourhood_name\": \"Kitsilano\", \"diameter\": 32.5, \"genus_name\": \"CATALPA\", \"common_name\": \"COMMON CATALPA\", \"height_range_id\": 5}, {\"species_name\": \"SACCHARINUM\", \"neighbourhood_name\": \"Killarney\", \"diameter\": 25.0, \"genus_name\": \"ACER\", \"common_name\": \"SILVER MAPLE\", \"height_range_id\": 4}, {\"species_name\": \"HIPPOCASTANUM\", \"neighbourhood_name\": \"Kerrisdale\", \"diameter\": 25.5, \"genus_name\": \"AESCULUS\", \"common_name\": \"COMMON HORSECHESTNUT\", \"height_range_id\": 5}, {\"species_name\": \"BIGNONIOIDES\", \"neighbourhood_name\": \"Dunbar-Southlands\", \"diameter\": 31.0, \"genus_name\": \"CATALPA\", \"common_name\": \"COMMON CATALPA\", \"height_range_id\": 4}, {\"species_name\": \"HIPPOCASTANUM\", \"neighbourhood_name\": \"Kitsilano\", \"diameter\": 26.0, \"genus_name\": \"AESCULUS\", \"common_name\": \"COMMON HORSECHESTNUT\", \"height_range_id\": 5}, {\"species_name\": \"RUBRA\", \"neighbourhood_name\": \"Grandview-Woodland\", \"diameter\": 38.0, \"genus_name\": \"QUERCUS\", \"common_name\": \"RED OAK\", \"height_range_id\": 9}, {\"species_name\": \"RUBRA\", \"neighbourhood_name\": \"Dunbar-Southlands\", \"diameter\": 30.5, \"genus_name\": \"QUERCUS\", \"common_name\": \"RED OAK\", \"height_range_id\": 6}, {\"species_name\": \"HIPPOCASTANUM\", \"neighbourhood_name\": \"Kensington-Cedar Cottage\", \"diameter\": 28.0, \"genus_name\": \"AESCULUS\", \"common_name\": \"COMMON HORSECHESTNUT\", \"height_range_id\": 5}, {\"species_name\": \"BIGNONIOIDES\", \"neighbourhood_name\": \"Kitsilano\", \"diameter\": 23.0, \"genus_name\": \"CATALPA\", \"common_name\": \"COMMON CATALPA\", \"height_range_id\": 6}, {\"species_name\": \"HIPPOCASTANUM\", \"neighbourhood_name\": \"Mount Pleasant\", \"diameter\": 23.0, \"genus_name\": \"AESCULUS\", \"common_name\": \"COMMON HORSECHESTNUT\", \"height_range_id\": 5}, {\"species_name\": \"HIPPOCASTANUM\", \"neighbourhood_name\": \"Kitsilano\", \"diameter\": 22.5, \"genus_name\": \"AESCULUS\", \"common_name\": \"COMMON HORSECHESTNUT\", \"height_range_id\": 5}, {\"species_name\": \"HIPPOCASTANUM\", \"neighbourhood_name\": \"Fairview\", \"diameter\": 22.0, \"genus_name\": \"AESCULUS\", \"common_name\": \"COMMON HORSECHESTNUT\", \"height_range_id\": 4}, {\"species_name\": \"SITCHENSIS\", \"neighbourhood_name\": \"Renfrew-Collingwood\", \"diameter\": 26.0, \"genus_name\": \"PICEA\", \"common_name\": \"SITKA SPRUCE\", \"height_range_id\": 6}, {\"species_name\": \"PROCERA\", \"neighbourhood_name\": \"Shaughnessy\", \"diameter\": 36.0, \"genus_name\": \"ULMUS\", \"common_name\": \"ENGLISH ELM\", \"height_range_id\": 6}, {\"species_name\": \"PROCERA\", \"neighbourhood_name\": \"Kerrisdale\", \"diameter\": 20.0, \"genus_name\": \"ULMUS\", \"common_name\": \"ENGLISH ELM\", \"height_range_id\": 5}, {\"species_name\": \"RUBRA\", \"neighbourhood_name\": \"Downtown\", \"diameter\": 11.0, \"genus_name\": \"QUERCUS\", \"common_name\": \"RED OAK\", \"height_range_id\": 2}, {\"species_name\": \"TRICHOCARPA\", \"neighbourhood_name\": \"West End\", \"diameter\": 40.0, \"genus_name\": \"POPULUS\", \"common_name\": \"BLACK COTTONWOOD\", \"height_range_id\": 6}, {\"species_name\": \"MACROCARPA\", \"neighbourhood_name\": \"Dunbar-Southlands\", \"diameter\": 27.0, \"genus_name\": \"QUERCUS\", \"common_name\": \"BUR OAK\", \"height_range_id\": 8}, {\"species_name\": \"RUBRA\", \"neighbourhood_name\": \"Fairview\", \"diameter\": 11.0, \"genus_name\": \"QUERCUS\", \"common_name\": \"RED OAK\", \"height_range_id\": 3}, {\"species_name\": \"HIPPOCASTANUM\", \"neighbourhood_name\": \"West Point Grey\", \"diameter\": 30.5, \"genus_name\": \"AESCULUS\", \"common_name\": \"COMMON HORSECHESTNUT\", \"height_range_id\": 5}, {\"species_name\": \"HETEROPHYLLA\", \"neighbourhood_name\": \"Hastings-Sunrise\", \"diameter\": 8.0, \"genus_name\": \"TSUGA\", \"common_name\": \"WESTERN HEMLOCK\", \"height_range_id\": 4}, {\"species_name\": \"DEODARA\", \"neighbourhood_name\": \"Sunset\", \"diameter\": 22.0, \"genus_name\": \"CEDRUS\", \"common_name\": \"DEODAR CEDAR\", \"height_range_id\": 5}, {\"species_name\": \"GLABRA\", \"neighbourhood_name\": \"Fairview\", \"diameter\": 16.5, \"genus_name\": \"ULMUS\", \"common_name\": \"SCOTS ELM\", \"height_range_id\": 5}, {\"species_name\": \"HIPPOCASTANUM\", \"neighbourhood_name\": \"Shaughnessy\", \"diameter\": 20.0, \"genus_name\": \"AESCULUS\", \"common_name\": \"COMMON HORSECHESTNUT\", \"height_range_id\": 5}, {\"species_name\": \"HIPPOCASTANUM\", \"neighbourhood_name\": \"Dunbar-Southlands\", \"diameter\": 23.0, \"genus_name\": \"AESCULUS\", \"common_name\": \"COMMON HORSECHESTNUT\", \"height_range_id\": 6}, {\"species_name\": \"RUBRA\", \"neighbourhood_name\": \"Dunbar-Southlands\", \"diameter\": 37.0, \"genus_name\": \"QUERCUS\", \"common_name\": \"RED OAK\", \"height_range_id\": 7}, {\"species_name\": \"SACCHARINUM\", \"neighbourhood_name\": \"Kensington-Cedar Cottage\", \"diameter\": 28.5, \"genus_name\": \"ACER\", \"common_name\": \"SILVER MAPLE\", \"height_range_id\": 5}, {\"species_name\": \"SACCHARINUM\", \"neighbourhood_name\": \"Shaughnessy\", \"diameter\": 31.0, \"genus_name\": \"ACER\", \"common_name\": \"SILVER MAPLE\", \"height_range_id\": 9}, {\"species_name\": \"HIPPOCASTANUM\", \"neighbourhood_name\": \"Shaughnessy\", \"diameter\": 19.0, \"genus_name\": \"AESCULUS\", \"common_name\": \"COMMON HORSECHESTNUT\", \"height_range_id\": 4}, {\"species_name\": \"HIPPOCASTANUM\", \"neighbourhood_name\": \"Fairview\", \"diameter\": 40.0, \"genus_name\": \"AESCULUS\", \"common_name\": \"COMMON HORSECHESTNUT\", \"height_range_id\": 6}, {\"species_name\": \"RUBRA\", \"neighbourhood_name\": \"Sunset\", \"diameter\": 10.5, \"genus_name\": \"QUERCUS\", \"common_name\": \"RED OAK\", \"height_range_id\": 3}, {\"species_name\": \"HIPPOCASTANUM\", \"neighbourhood_name\": \"Kitsilano\", \"diameter\": 30.0, \"genus_name\": \"AESCULUS\", \"common_name\": \"COMMON HORSECHESTNUT\", \"height_range_id\": 6}, {\"species_name\": \"HIPPOCASTANUM\", \"neighbourhood_name\": \"Dunbar-Southlands\", \"diameter\": 37.5, \"genus_name\": \"AESCULUS\", \"common_name\": \"COMMON HORSECHESTNUT\", \"height_range_id\": 5}, {\"species_name\": \"HIPPOCASTANUM\", \"neighbourhood_name\": \"Dunbar-Southlands\", \"diameter\": 29.5, \"genus_name\": \"AESCULUS\", \"common_name\": \"COMMON HORSECHESTNUT\", \"height_range_id\": 5}, {\"species_name\": \"RUBRA\", \"neighbourhood_name\": \"Marpole\", \"diameter\": 19.0, \"genus_name\": \"QUERCUS\", \"common_name\": \"RED OAK\", \"height_range_id\": 4}, {\"species_name\": \"SACCHARINUM\", \"neighbourhood_name\": \"West Point Grey\", \"diameter\": 46.0, \"genus_name\": \"ACER\", \"common_name\": \"SILVER MAPLE\", \"height_range_id\": 8}, {\"species_name\": \"HIPPOCASTANUM\", \"neighbourhood_name\": \"Marpole\", \"diameter\": 23.0, \"genus_name\": \"AESCULUS\", \"common_name\": \"COMMON HORSECHESTNUT\", \"height_range_id\": 4}, {\"species_name\": \"BIGNONIOIDES\", \"neighbourhood_name\": \"Kitsilano\", \"diameter\": 26.0, \"genus_name\": \"CATALPA\", \"common_name\": \"COMMON CATALPA\", \"height_range_id\": 5}, {\"species_name\": \"HIPPOCASTANUM\", \"neighbourhood_name\": \"Dunbar-Southlands\", \"diameter\": 31.0, \"genus_name\": \"AESCULUS\", \"common_name\": \"COMMON HORSECHESTNUT\", \"height_range_id\": 5}, {\"species_name\": \"SACCHARINUM\", \"neighbourhood_name\": \"Downtown\", \"diameter\": 28.0, \"genus_name\": \"ACER\", \"common_name\": \"CUTLEAF SILVER MAPLE\", \"height_range_id\": 7}, {\"species_name\": \"RUBRA\", \"neighbourhood_name\": \"West End\", \"diameter\": 19.0, \"genus_name\": \"QUERCUS\", \"common_name\": \"RED OAK\", \"height_range_id\": 4}, {\"species_name\": \"RUBRA\", \"neighbourhood_name\": \"Marpole\", \"diameter\": 30.25, \"genus_name\": \"QUERCUS\", \"common_name\": \"RED OAK\", \"height_range_id\": 4}, {\"species_name\": \"HIPPOCASTANUM\", \"neighbourhood_name\": \"Shaughnessy\", \"diameter\": 24.5, \"genus_name\": \"AESCULUS\", \"common_name\": \"COMMON HORSECHESTNUT\", \"height_range_id\": 4}, {\"species_name\": \"RUBRA\", \"neighbourhood_name\": \"Hastings-Sunrise\", \"diameter\": 38.0, \"genus_name\": \"QUERCUS\", \"common_name\": \"RED OAK\", \"height_range_id\": 7}, {\"species_name\": \"HIPPOCASTANUM\", \"neighbourhood_name\": \"Kitsilano\", \"diameter\": 26.0, \"genus_name\": \"AESCULUS\", \"common_name\": \"COMMON HORSECHESTNUT\", \"height_range_id\": 5}, {\"species_name\": \"PROCERA\", \"neighbourhood_name\": \"South Cambie\", \"diameter\": 33.5, \"genus_name\": \"ULMUS\", \"common_name\": \"ENGLISH ELM\", \"height_range_id\": 6}, {\"species_name\": \"RUBRA\", \"neighbourhood_name\": \"Renfrew-Collingwood\", \"diameter\": 17.5, \"genus_name\": \"QUERCUS\", \"common_name\": \"RED OAK\", \"height_range_id\": 4}, {\"species_name\": \"RUBRA\", \"neighbourhood_name\": \"Renfrew-Collingwood\", \"diameter\": 13.5, \"genus_name\": \"QUERCUS\", \"common_name\": \"RED OAK\", \"height_range_id\": 5}, {\"species_name\": \"HIPPOCASTANUM\", \"neighbourhood_name\": \"Shaughnessy\", \"diameter\": 35.0, \"genus_name\": \"AESCULUS\", \"common_name\": \"COMMON HORSECHESTNUT\", \"height_range_id\": 6}, {\"species_name\": \"RUBRA\", \"neighbourhood_name\": \"Arbutus-Ridge\", \"diameter\": 31.5, \"genus_name\": \"QUERCUS\", \"common_name\": \"RED OAK\", \"height_range_id\": 8}, {\"species_name\": \"SACCHARINUM\", \"neighbourhood_name\": \"Kitsilano\", \"diameter\": 21.0, \"genus_name\": \"ACER\", \"common_name\": \"SILVER MAPLE\", \"height_range_id\": 6}, {\"species_name\": \"RUBRA\", \"neighbourhood_name\": \"Hastings-Sunrise\", \"diameter\": 23.0, \"genus_name\": \"QUERCUS\", \"common_name\": \"RED OAK\", \"height_range_id\": 4}, {\"species_name\": \"HIPPOCASTANUM\", \"neighbourhood_name\": \"West End\", \"diameter\": 18.0, \"genus_name\": \"AESCULUS\", \"common_name\": \"COMMON HORSECHESTNUT\", \"height_range_id\": 4}, {\"species_name\": \"HIPPOCASTANUM\", \"neighbourhood_name\": \"Arbutus-Ridge\", \"diameter\": 26.0, \"genus_name\": \"AESCULUS\", \"common_name\": \"COMMON HORSECHESTNUT\", \"height_range_id\": 6}, {\"species_name\": \"BIGNONIOIDES\", \"neighbourhood_name\": \"Fairview\", \"diameter\": 46.0, \"genus_name\": \"CATALPA\", \"common_name\": \"COMMON CATALPA\", \"height_range_id\": 6}, {\"species_name\": \"DEODARA\", \"neighbourhood_name\": \"Fairview\", \"diameter\": 24.5, \"genus_name\": \"CEDRUS\", \"common_name\": \"DEODAR CEDAR\", \"height_range_id\": 4}, {\"species_name\": \"HIPPOCASTANUM\", \"neighbourhood_name\": \"Victoria-Fraserview\", \"diameter\": 19.5, \"genus_name\": \"AESCULUS\", \"common_name\": \"COMMON HORSECHESTNUT\", \"height_range_id\": 5}, {\"species_name\": \"HIPPOCASTANUM\", \"neighbourhood_name\": \"Dunbar-Southlands\", \"diameter\": 28.0, \"genus_name\": \"AESCULUS\", \"common_name\": \"COMMON HORSECHESTNUT\", \"height_range_id\": 4}, {\"species_name\": \"RUBRA\", \"neighbourhood_name\": \"Renfrew-Collingwood\", \"diameter\": 22.0, \"genus_name\": \"QUERCUS\", \"common_name\": \"RED OAK\", \"height_range_id\": 5}, {\"species_name\": \"RUBRA\", \"neighbourhood_name\": \"Grandview-Woodland\", \"diameter\": 51.0, \"genus_name\": \"QUERCUS\", \"common_name\": \"RED OAK\", \"height_range_id\": 7}, {\"species_name\": \"MACROCARPA\", \"neighbourhood_name\": \"Dunbar-Southlands\", \"diameter\": 21.0, \"genus_name\": \"QUERCUS\", \"common_name\": \"BUR OAK\", \"height_range_id\": 4}, {\"species_name\": \"HIPPOCASTANUM\", \"neighbourhood_name\": \"Kerrisdale\", \"diameter\": 28.0, \"genus_name\": \"AESCULUS\", \"common_name\": \"COMMON HORSECHESTNUT\", \"height_range_id\": 7}, {\"species_name\": \"HIPPOCASTANUM\", \"neighbourhood_name\": \"Marpole\", \"diameter\": 32.0, \"genus_name\": \"AESCULUS\", \"common_name\": \"COMMON HORSECHESTNUT\", \"height_range_id\": 6}, {\"species_name\": \"RUBRA\", \"neighbourhood_name\": \"Kensington-Cedar Cottage\", \"diameter\": 28.0, \"genus_name\": \"QUERCUS\", \"common_name\": \"RED OAK\", \"height_range_id\": 6}, {\"species_name\": \"DEODARA\", \"neighbourhood_name\": \"Fairview\", \"diameter\": 24.0, \"genus_name\": \"CEDRUS\", \"common_name\": \"DEODAR CEDAR\", \"height_range_id\": 4}, {\"species_name\": \"SACCHARINUM\", \"neighbourhood_name\": \"Shaughnessy\", \"diameter\": 19.0, \"genus_name\": \"ACER\", \"common_name\": \"SILVER MAPLE\", \"height_range_id\": 5}, {\"species_name\": \"RUBRA\", \"neighbourhood_name\": \"Kitsilano\", \"diameter\": 18.0, \"genus_name\": \"QUERCUS\", \"common_name\": \"RED OAK\", \"height_range_id\": 5}, {\"species_name\": \"BIGNONIOIDES\", \"neighbourhood_name\": \"Kitsilano\", \"diameter\": 18.0, \"genus_name\": \"CATALPA\", \"common_name\": \"COMMON CATALPA\", \"height_range_id\": 5}, {\"species_name\": \"RUBRA\", \"neighbourhood_name\": \"West End\", \"diameter\": 10.5, \"genus_name\": \"QUERCUS\", \"common_name\": \"RED OAK\", \"height_range_id\": 4}, {\"species_name\": \"HIPPOCASTANUM\", \"neighbourhood_name\": \"Kitsilano\", \"diameter\": 26.0, \"genus_name\": \"AESCULUS\", \"common_name\": \"COMMON HORSECHESTNUT\", \"height_range_id\": 6}, {\"species_name\": \"HIPPOCASTANUM\", \"neighbourhood_name\": \"Mount Pleasant\", \"diameter\": 30.0, \"genus_name\": \"AESCULUS\", \"common_name\": \"COMMON HORSECHESTNUT\", \"height_range_id\": 4}, {\"species_name\": \"RUBRA\", \"neighbourhood_name\": \"Strathcona\", \"diameter\": 23.0, \"genus_name\": \"QUERCUS\", \"common_name\": \"RED OAK\", \"height_range_id\": 4}, {\"species_name\": \"HIPPOCASTANUM\", \"neighbourhood_name\": \"Grandview-Woodland\", \"diameter\": 18.0, \"genus_name\": \"AESCULUS\", \"common_name\": \"COMMON HORSECHESTNUT\", \"height_range_id\": 4}, {\"species_name\": \"HETEROPHYLLA\", \"neighbourhood_name\": \"Riley Park\", \"diameter\": 31.0, \"genus_name\": \"TSUGA\", \"common_name\": \"WESTERN HEMLOCK\", \"height_range_id\": 5}, {\"species_name\": \"HIPPOCASTANUM\", \"neighbourhood_name\": \"Marpole\", \"diameter\": 31.0, \"genus_name\": \"AESCULUS\", \"common_name\": \"COMMON HORSECHESTNUT\", \"height_range_id\": 5}, {\"species_name\": \"HIPPOCASTANUM\", \"neighbourhood_name\": \"Riley Park\", \"diameter\": 34.0, \"genus_name\": \"AESCULUS\", \"common_name\": \"COMMON HORSECHESTNUT\", \"height_range_id\": 5}, {\"species_name\": \"HIPPOCASTANUM\", \"neighbourhood_name\": \"Kitsilano\", \"diameter\": 30.0, \"genus_name\": \"AESCULUS\", \"common_name\": \"COMMON HORSECHESTNUT\", \"height_range_id\": 5}, {\"species_name\": \"HIPPOCASTANUM\", \"neighbourhood_name\": \"Mount Pleasant\", \"diameter\": 26.5, \"genus_name\": \"AESCULUS\", \"common_name\": \"COMMON HORSECHESTNUT\", \"height_range_id\": 4}, {\"species_name\": \"GLABRA\", \"neighbourhood_name\": \"Dunbar-Southlands\", \"diameter\": 35.0, \"genus_name\": \"ULMUS\", \"common_name\": \"SCOTS ELM\", \"height_range_id\": 8}, {\"species_name\": \"BIGNONIOIDES\", \"neighbourhood_name\": \"Kitsilano\", \"diameter\": 26.0, \"genus_name\": \"CATALPA\", \"common_name\": \"COMMON CATALPA\", \"height_range_id\": 6}, {\"species_name\": \"HIPPOCASTANUM\", \"neighbourhood_name\": \"Arbutus-Ridge\", \"diameter\": 19.0, \"genus_name\": \"AESCULUS\", \"common_name\": \"COMMON HORSECHESTNUT\", \"height_range_id\": 4}, {\"species_name\": \"DEODARA\", \"neighbourhood_name\": \"Downtown\", \"diameter\": 11.0, \"genus_name\": \"CEDRUS\", \"common_name\": \"DEODAR CEDAR\", \"height_range_id\": 4}, {\"species_name\": \"RUBRA\", \"neighbourhood_name\": \"Dunbar-Southlands\", \"diameter\": 35.0, \"genus_name\": \"QUERCUS\", \"common_name\": \"RED OAK\", \"height_range_id\": 7}, {\"species_name\": \"DEODARA\", \"neighbourhood_name\": \"Kitsilano\", \"diameter\": 50.0, \"genus_name\": \"CEDRUS\", \"common_name\": \"DEODAR CEDAR\", \"height_range_id\": 5}, {\"species_name\": \"BIGNONIOIDES\", \"neighbourhood_name\": \"West Point Grey\", \"diameter\": 23.5, \"genus_name\": \"CATALPA\", \"common_name\": \"COMMON CATALPA\", \"height_range_id\": 5}, {\"species_name\": \"HIPPOCASTANUM\", \"neighbourhood_name\": \"Marpole\", \"diameter\": 27.0, \"genus_name\": \"AESCULUS\", \"common_name\": \"COMMON HORSECHESTNUT\", \"height_range_id\": 5}, {\"species_name\": \"GLABRA\", \"neighbourhood_name\": \"Dunbar-Southlands\", \"diameter\": 24.0, \"genus_name\": \"ULMUS\", \"common_name\": \"SCOTS ELM\", \"height_range_id\": 7}, {\"species_name\": \"RUBRA\", \"neighbourhood_name\": \"Downtown\", \"diameter\": 7.0, \"genus_name\": \"QUERCUS\", \"common_name\": \"RED OAK\", \"height_range_id\": 4}, {\"species_name\": \"MACROCARPA\", \"neighbourhood_name\": \"Dunbar-Southlands\", \"diameter\": 25.0, \"genus_name\": \"QUERCUS\", \"common_name\": \"BUR OAK\", \"height_range_id\": 4}, {\"species_name\": \"RUBRA\", \"neighbourhood_name\": \"Kensington-Cedar Cottage\", \"diameter\": 32.0, \"genus_name\": \"QUERCUS\", \"common_name\": \"RED OAK\", \"height_range_id\": 6}]}}, {\"mode\": \"vega-lite\"});\n",
       "</script>"
      ],
      "text/plain": [
       "alt.Chart(...)"
      ]
     },
     "execution_count": 7,
     "metadata": {},
     "output_type": "execute_result"
    }
   ],
   "source": [
    "largest_species = trees_data[trees_data['species_name'].isin(top_species['species_name']) &\n",
    "                            trees_data['species_name'].isin(top_species_height['species_name'])]\n",
    "\n",
    "\n",
    "largest_species_plot = alt.Chart(largest_species).mark_circle(size=75).encode(\n",
    "    alt.X('mean(height_range_id)'),\n",
    "    alt.Y('mean(diameter)'),\n",
    "    alt.Color('species_name'))\n",
    "largest_species_plot"
   ]
  },
  {
   "cell_type": "markdown",
   "metadata": {},
   "source": [
    "The plot above shows the 14 tree species that are found to be within the top 20 largest mean diameter group as well as the top 20 highest mean height id group. We can also see the Trichocarpa species has the largest mean diameter and the highest mean height range id out of all of the species."
   ]
  },
  {
   "cell_type": "markdown",
   "metadata": {},
   "source": [
    "Now we want to discover which Neighborhoods contain the highest count of these largest 14 species."
   ]
  },
  {
   "cell_type": "code",
   "execution_count": 8,
   "metadata": {},
   "outputs": [
    {
     "data": {
      "text/html": [
       "\n",
       "<div id=\"altair-viz-0d26ee06fd974b758751fb4b1a8721d7\"></div>\n",
       "<script type=\"text/javascript\">\n",
       "  (function(spec, embedOpt){\n",
       "    let outputDiv = document.currentScript.previousElementSibling;\n",
       "    if (outputDiv.id !== \"altair-viz-0d26ee06fd974b758751fb4b1a8721d7\") {\n",
       "      outputDiv = document.getElementById(\"altair-viz-0d26ee06fd974b758751fb4b1a8721d7\");\n",
       "    }\n",
       "    const paths = {\n",
       "      \"vega\": \"https://cdn.jsdelivr.net/npm//vega@5?noext\",\n",
       "      \"vega-lib\": \"https://cdn.jsdelivr.net/npm//vega-lib?noext\",\n",
       "      \"vega-lite\": \"https://cdn.jsdelivr.net/npm//vega-lite@4.8.1?noext\",\n",
       "      \"vega-embed\": \"https://cdn.jsdelivr.net/npm//vega-embed@6?noext\",\n",
       "    };\n",
       "\n",
       "    function loadScript(lib) {\n",
       "      return new Promise(function(resolve, reject) {\n",
       "        var s = document.createElement('script');\n",
       "        s.src = paths[lib];\n",
       "        s.async = true;\n",
       "        s.onload = () => resolve(paths[lib]);\n",
       "        s.onerror = () => reject(`Error loading script: ${paths[lib]}`);\n",
       "        document.getElementsByTagName(\"head\")[0].appendChild(s);\n",
       "      });\n",
       "    }\n",
       "\n",
       "    function showError(err) {\n",
       "      outputDiv.innerHTML = `<div class=\"error\" style=\"color:red;\">${err}</div>`;\n",
       "      throw err;\n",
       "    }\n",
       "\n",
       "    function displayChart(vegaEmbed) {\n",
       "      vegaEmbed(outputDiv, spec, embedOpt)\n",
       "        .catch(err => showError(`Javascript Error: ${err.message}<br>This usually means there's a typo in your chart specification. See the javascript console for the full traceback.`));\n",
       "    }\n",
       "\n",
       "    if(typeof define === \"function\" && define.amd) {\n",
       "      requirejs.config({paths});\n",
       "      require([\"vega-embed\"], displayChart, err => showError(`Error loading script: ${err.message}`));\n",
       "    } else if (typeof vegaEmbed === \"function\") {\n",
       "      displayChart(vegaEmbed);\n",
       "    } else {\n",
       "      loadScript(\"vega\")\n",
       "        .then(() => loadScript(\"vega-lite\"))\n",
       "        .then(() => loadScript(\"vega-embed\"))\n",
       "        .catch(showError)\n",
       "        .then(() => displayChart(vegaEmbed));\n",
       "    }\n",
       "  })({\"config\": {\"view\": {\"continuousWidth\": 400, \"continuousHeight\": 300}}, \"data\": {\"name\": \"data-c822e0050adccb6005b5bcd4a3481b82\"}, \"facet\": {\"type\": \"nominal\", \"field\": \"neighbourhood_name\"}, \"spec\": {\"mark\": \"bar\", \"encoding\": {\"color\": {\"type\": \"nominal\", \"field\": \"species_name\"}, \"x\": {\"type\": \"nominal\", \"field\": \"species_name\"}, \"y\": {\"type\": \"quantitative\", \"aggregate\": \"count\"}}, \"height\": 75, \"width\": 150}, \"columns\": 4, \"$schema\": \"https://vega.github.io/schema/vega-lite/v4.8.1.json\", \"datasets\": {\"data-c822e0050adccb6005b5bcd4a3481b82\": [{\"species_name\": \"HIPPOCASTANUM\", \"neighbourhood_name\": \"Shaughnessy\", \"diameter\": 15.5, \"genus_name\": \"AESCULUS\", \"common_name\": \"COMMON HORSECHESTNUT\", \"height_range_id\": 4}, {\"species_name\": \"BIGNONIOIDES\", \"neighbourhood_name\": \"West Point Grey\", \"diameter\": 25.0, \"genus_name\": \"CATALPA\", \"common_name\": \"COMMON CATALPA\", \"height_range_id\": 4}, {\"species_name\": \"RUBRA\", \"neighbourhood_name\": \"Grandview-Woodland\", \"diameter\": 41.0, \"genus_name\": \"QUERCUS\", \"common_name\": \"RED OAK\", \"height_range_id\": 7}, {\"species_name\": \"HIPPOCASTANUM\", \"neighbourhood_name\": \"Victoria-Fraserview\", \"diameter\": 24.0, \"genus_name\": \"AESCULUS\", \"common_name\": \"COMMON HORSECHESTNUT\", \"height_range_id\": 5}, {\"species_name\": \"BIGNONIOIDES\", \"neighbourhood_name\": \"Renfrew-Collingwood\", \"diameter\": 24.5, \"genus_name\": \"CATALPA\", \"common_name\": \"COMMON CATALPA\", \"height_range_id\": 5}, {\"species_name\": \"HIPPOCASTANUM\", \"neighbourhood_name\": \"Mount Pleasant\", \"diameter\": 27.0, \"genus_name\": \"AESCULUS\", \"common_name\": \"COMMON HORSECHESTNUT\", \"height_range_id\": 5}, {\"species_name\": \"GLABRA\", \"neighbourhood_name\": \"Dunbar-Southlands\", \"diameter\": 24.0, \"genus_name\": \"ULMUS\", \"common_name\": \"SCOTS ELM\", \"height_range_id\": 5}, {\"species_name\": \"RUBRA\", \"neighbourhood_name\": \"Hastings-Sunrise\", \"diameter\": 40.0, \"genus_name\": \"QUERCUS\", \"common_name\": \"RED OAK\", \"height_range_id\": 7}, {\"species_name\": \"REGIA\", \"neighbourhood_name\": \"Kensington-Cedar Cottage\", \"diameter\": 29.0, \"genus_name\": \"JUGLANS\", \"common_name\": \"ENGLISH WALNUT\", \"height_range_id\": 5}, {\"species_name\": \"HIPPOCASTANUM\", \"neighbourhood_name\": \"Grandview-Woodland\", \"diameter\": 22.0, \"genus_name\": \"AESCULUS\", \"common_name\": \"COMMON HORSECHESTNUT\", \"height_range_id\": 5}, {\"species_name\": \"HOLLANDICA   X\", \"neighbourhood_name\": \"Arbutus-Ridge\", \"diameter\": 24.0, \"genus_name\": \"ULMUS\", \"common_name\": \"DUTCH ELM\", \"height_range_id\": 7}, {\"species_name\": \"RUBRA\", \"neighbourhood_name\": \"Kerrisdale\", \"diameter\": 15.0, \"genus_name\": \"ALNUS\", \"common_name\": \"RED ALDER\", \"height_range_id\": 5}, {\"species_name\": \"BIGNONIOIDES\", \"neighbourhood_name\": \"Kitsilano\", \"diameter\": 34.0, \"genus_name\": \"CATALPA\", \"common_name\": \"COMMON CATALPA\", \"height_range_id\": 7}, {\"species_name\": \"RUBRA\", \"neighbourhood_name\": \"Hastings-Sunrise\", \"diameter\": 33.0, \"genus_name\": \"QUERCUS\", \"common_name\": \"RED OAK\", \"height_range_id\": 7}, {\"species_name\": \"RUBRA\", \"neighbourhood_name\": \"Dunbar-Southlands\", \"diameter\": 34.0, \"genus_name\": \"QUERCUS\", \"common_name\": \"RED OAK\", \"height_range_id\": 8}, {\"species_name\": \"PROCERA\", \"neighbourhood_name\": \"Marpole\", \"diameter\": 21.0, \"genus_name\": \"ULMUS\", \"common_name\": \"ENGLISH ELM\", \"height_range_id\": 4}, {\"species_name\": \"RUBRA\", \"neighbourhood_name\": \"Dunbar-Southlands\", \"diameter\": 49.5, \"genus_name\": \"QUERCUS\", \"common_name\": \"RED OAK\", \"height_range_id\": 6}, {\"species_name\": \"HIPPOCASTANUM\", \"neighbourhood_name\": \"Shaughnessy\", \"diameter\": 27.0, \"genus_name\": \"AESCULUS\", \"common_name\": \"COMMON HORSECHESTNUT\", \"height_range_id\": 4}, {\"species_name\": \"DEODARA\", \"neighbourhood_name\": \"Dunbar-Southlands\", \"diameter\": 12.0, \"genus_name\": \"CEDRUS\", \"common_name\": \"DEODAR CEDAR\", \"height_range_id\": 4}, {\"species_name\": \"BIGNONIOIDES\", \"neighbourhood_name\": \"Kitsilano\", \"diameter\": 34.0, \"genus_name\": \"CATALPA\", \"common_name\": \"COMMON CATALPA\", \"height_range_id\": 6}, {\"species_name\": \"RUBRA\", \"neighbourhood_name\": \"Dunbar-Southlands\", \"diameter\": 32.0, \"genus_name\": \"QUERCUS\", \"common_name\": \"RED OAK\", \"height_range_id\": 6}, {\"species_name\": \"HIPPOCASTANUM\", \"neighbourhood_name\": \"Shaughnessy\", \"diameter\": 29.0, \"genus_name\": \"AESCULUS\", \"common_name\": \"COMMON HORSECHESTNUT\", \"height_range_id\": 5}, {\"species_name\": \"HIPPOCASTANUM\", \"neighbourhood_name\": \"West Point Grey\", \"diameter\": 18.0, \"genus_name\": \"AESCULUS\", \"common_name\": \"COMMON HORSECHESTNUT\", \"height_range_id\": 6}, {\"species_name\": \"HIPPOCASTANUM\", \"neighbourhood_name\": \"Kitsilano\", \"diameter\": 25.0, \"genus_name\": \"AESCULUS\", \"common_name\": \"COMMON HORSECHESTNUT\", \"height_range_id\": 7}, {\"species_name\": \"HIPPOCASTANUM\", \"neighbourhood_name\": \"Kitsilano\", \"diameter\": 28.0, \"genus_name\": \"AESCULUS\", \"common_name\": \"COMMON HORSECHESTNUT\", \"height_range_id\": 6}, {\"species_name\": \"DEODARA\", \"neighbourhood_name\": \"Fairview\", \"diameter\": 41.0, \"genus_name\": \"CEDRUS\", \"common_name\": \"DEODAR CEDAR\", \"height_range_id\": 5}, {\"species_name\": \"HIPPOCASTANUM\", \"neighbourhood_name\": \"Downtown\", \"diameter\": 10.0, \"genus_name\": \"AESCULUS\", \"common_name\": \"COMMON HORSECHESTNUT\", \"height_range_id\": 4}, {\"species_name\": \"RUBRA\", \"neighbourhood_name\": \"Strathcona\", \"diameter\": 25.5, \"genus_name\": \"QUERCUS\", \"common_name\": \"RED OAK\", \"height_range_id\": 4}, {\"species_name\": \"HIPPOCASTANUM\", \"neighbourhood_name\": \"Marpole\", \"diameter\": 7.0, \"genus_name\": \"AESCULUS\", \"common_name\": \"COMMON HORSECHESTNUT\", \"height_range_id\": 2}, {\"species_name\": \"HIPPOCASTANUM\", \"neighbourhood_name\": \"Arbutus-Ridge\", \"diameter\": 30.0, \"genus_name\": \"AESCULUS\", \"common_name\": \"COMMON HORSECHESTNUT\", \"height_range_id\": 5}, {\"species_name\": \"HIPPOCASTANUM\", \"neighbourhood_name\": \"Kensington-Cedar Cottage\", \"diameter\": 31.0, \"genus_name\": \"AESCULUS\", \"common_name\": \"COMMON HORSECHESTNUT\", \"height_range_id\": 6}, {\"species_name\": \"HIPPOCASTANUM\", \"neighbourhood_name\": \"Shaughnessy\", \"diameter\": 32.0, \"genus_name\": \"AESCULUS\", \"common_name\": \"COMMON HORSECHESTNUT\", \"height_range_id\": 6}, {\"species_name\": \"CINEREA\", \"neighbourhood_name\": \"Arbutus-Ridge\", \"diameter\": 35.5, \"genus_name\": \"JUGLANS\", \"common_name\": \"BUTTERNUT\", \"height_range_id\": 6}, {\"species_name\": \"HETEROPHYLLA\", \"neighbourhood_name\": \"Victoria-Fraserview\", \"diameter\": 30.0, \"genus_name\": \"TSUGA\", \"common_name\": \"WESTERN HEMLOCK\", \"height_range_id\": 4}, {\"species_name\": \"BIGNONIOIDES\", \"neighbourhood_name\": \"West Point Grey\", \"diameter\": 28.25, \"genus_name\": \"CATALPA\", \"common_name\": \"COMMON CATALPA\", \"height_range_id\": 5}, {\"species_name\": \"RUBRA\", \"neighbourhood_name\": \"Dunbar-Southlands\", \"diameter\": 36.0, \"genus_name\": \"QUERCUS\", \"common_name\": \"RED OAK\", \"height_range_id\": 5}, {\"species_name\": \"RUBRA\", \"neighbourhood_name\": \"Hastings-Sunrise\", \"diameter\": 27.0, \"genus_name\": \"QUERCUS\", \"common_name\": \"RED OAK\", \"height_range_id\": 6}, {\"species_name\": \"DEODARA\", \"neighbourhood_name\": \"Marpole\", \"diameter\": 3.0, \"genus_name\": \"CEDRUS\", \"common_name\": \"KASHMIR CEDAR\", \"height_range_id\": 2}, {\"species_name\": \"BIGNONIOIDES\", \"neighbourhood_name\": \"Kitsilano\", \"diameter\": 28.0, \"genus_name\": \"CATALPA\", \"common_name\": \"COMMON CATALPA\", \"height_range_id\": 6}, {\"species_name\": \"BIGNONIOIDES\", \"neighbourhood_name\": \"Kitsilano\", \"diameter\": 18.0, \"genus_name\": \"CATALPA\", \"common_name\": \"COMMON CATALPA\", \"height_range_id\": 5}, {\"species_name\": \"HIPPOCASTANUM\", \"neighbourhood_name\": \"Kitsilano\", \"diameter\": 25.0, \"genus_name\": \"AESCULUS\", \"common_name\": \"COMMON HORSECHESTNUT\", \"height_range_id\": 4}, {\"species_name\": \"RUBRA\", \"neighbourhood_name\": \"Grandview-Woodland\", \"diameter\": 43.0, \"genus_name\": \"QUERCUS\", \"common_name\": \"RED OAK\", \"height_range_id\": 7}, {\"species_name\": \"HIPPOCASTANUM\", \"neighbourhood_name\": \"Dunbar-Southlands\", \"diameter\": 31.0, \"genus_name\": \"AESCULUS\", \"common_name\": \"COMMON HORSECHESTNUT\", \"height_range_id\": 5}, {\"species_name\": \"RUBRA\", \"neighbourhood_name\": \"Grandview-Woodland\", \"diameter\": 40.0, \"genus_name\": \"QUERCUS\", \"common_name\": \"RED OAK\", \"height_range_id\": 8}, {\"species_name\": \"BIGNONIOIDES\", \"neighbourhood_name\": \"Riley Park\", \"diameter\": 24.0, \"genus_name\": \"CATALPA\", \"common_name\": \"COMMON CATALPA\", \"height_range_id\": 4}, {\"species_name\": \"RUBRA\", \"neighbourhood_name\": \"Kensington-Cedar Cottage\", \"diameter\": 25.0, \"genus_name\": \"QUERCUS\", \"common_name\": \"RED OAK\", \"height_range_id\": 5}, {\"species_name\": \"RUBRA\", \"neighbourhood_name\": \"Kitsilano\", \"diameter\": 16.0, \"genus_name\": \"QUERCUS\", \"common_name\": \"RED OAK\", \"height_range_id\": 4}, {\"species_name\": \"RUBRA\", \"neighbourhood_name\": \"Kensington-Cedar Cottage\", \"diameter\": 41.5, \"genus_name\": \"QUERCUS\", \"common_name\": \"RED OAK\", \"height_range_id\": 9}, {\"species_name\": \"RUBRA\", \"neighbourhood_name\": \"Killarney\", \"diameter\": 17.0, \"genus_name\": \"QUERCUS\", \"common_name\": \"RED OAK\", \"height_range_id\": 4}, {\"species_name\": \"HIPPOCASTANUM\", \"neighbourhood_name\": \"Kitsilano\", \"diameter\": 35.0, \"genus_name\": \"AESCULUS\", \"common_name\": \"COMMON HORSECHESTNUT\", \"height_range_id\": 6}, {\"species_name\": \"HIPPOCASTANUM\", \"neighbourhood_name\": \"Kerrisdale\", \"diameter\": 31.0, \"genus_name\": \"AESCULUS\", \"common_name\": \"COMMON HORSECHESTNUT\", \"height_range_id\": 5}, {\"species_name\": \"HIPPOCASTANUM\", \"neighbourhood_name\": \"Hastings-Sunrise\", \"diameter\": 38.0, \"genus_name\": \"AESCULUS\", \"common_name\": \"COMMON HORSECHESTNUT\", \"height_range_id\": 5}, {\"species_name\": \"PROCERA\", \"neighbourhood_name\": \"South Cambie\", \"diameter\": 12.0, \"genus_name\": \"ULMUS\", \"common_name\": \"ENGLISH ELM\", \"height_range_id\": 5}, {\"species_name\": \"RUBRA\", \"neighbourhood_name\": \"Hastings-Sunrise\", \"diameter\": 39.0, \"genus_name\": \"QUERCUS\", \"common_name\": \"RED OAK\", \"height_range_id\": 7}, {\"species_name\": \"TRICHOCARPA\", \"neighbourhood_name\": \"Renfrew-Collingwood\", \"diameter\": 38.5, \"genus_name\": \"POPULUS\", \"common_name\": \"BLACK COTTONWOOD\", \"height_range_id\": 8}, {\"species_name\": \"HIPPOCASTANUM\", \"neighbourhood_name\": \"Kitsilano\", \"diameter\": 15.0, \"genus_name\": \"AESCULUS\", \"common_name\": \"COMMON HORSECHESTNUT\", \"height_range_id\": 3}, {\"species_name\": \"RUBRA\", \"neighbourhood_name\": \"Dunbar-Southlands\", \"diameter\": 30.0, \"genus_name\": \"QUERCUS\", \"common_name\": \"RED OAK\", \"height_range_id\": 4}, {\"species_name\": \"HIPPOCASTANUM\", \"neighbourhood_name\": \"Dunbar-Southlands\", \"diameter\": 24.0, \"genus_name\": \"AESCULUS\", \"common_name\": \"COMMON HORSECHESTNUT\", \"height_range_id\": 6}, {\"species_name\": \"DEODARA\", \"neighbourhood_name\": \"Kitsilano\", \"diameter\": 71.0, \"genus_name\": \"CEDRUS\", \"common_name\": \"DEODAR CEDAR\", \"height_range_id\": 5}, {\"species_name\": \"RUBRA\", \"neighbourhood_name\": \"Marpole\", \"diameter\": 21.5, \"genus_name\": \"QUERCUS\", \"common_name\": \"RED OAK\", \"height_range_id\": 4}, {\"species_name\": \"RUBRA\", \"neighbourhood_name\": \"Victoria-Fraserview\", \"diameter\": 20.5, \"genus_name\": \"QUERCUS\", \"common_name\": \"RED OAK\", \"height_range_id\": 7}, {\"species_name\": \"RUBRA\", \"neighbourhood_name\": \"Dunbar-Southlands\", \"diameter\": 45.0, \"genus_name\": \"QUERCUS\", \"common_name\": \"RED OAK\", \"height_range_id\": 6}, {\"species_name\": \"HIPPOCASTANUM\", \"neighbourhood_name\": \"Fairview\", \"diameter\": 44.0, \"genus_name\": \"AESCULUS\", \"common_name\": \"COMMON HORSECHESTNUT\", \"height_range_id\": 6}, {\"species_name\": \"HIPPOCASTANUM\", \"neighbourhood_name\": \"Kitsilano\", \"diameter\": 24.0, \"genus_name\": \"AESCULUS\", \"common_name\": \"COMMON HORSECHESTNUT\", \"height_range_id\": 5}, {\"species_name\": \"GLABRA\", \"neighbourhood_name\": \"Dunbar-Southlands\", \"diameter\": 24.0, \"genus_name\": \"ULMUS\", \"common_name\": \"SCOTS ELM\", \"height_range_id\": 6}, {\"species_name\": \"PROCERA\", \"neighbourhood_name\": \"Kerrisdale\", \"diameter\": 36.0, \"genus_name\": \"ULMUS\", \"common_name\": \"ENGLISH ELM\", \"height_range_id\": 8}, {\"species_name\": \"SACCHARINUM\", \"neighbourhood_name\": \"Riley Park\", \"diameter\": 23.0, \"genus_name\": \"ACER\", \"common_name\": \"SILVER MAPLE\", \"height_range_id\": 4}, {\"species_name\": \"RUBRA\", \"neighbourhood_name\": \"Renfrew-Collingwood\", \"diameter\": 24.75, \"genus_name\": \"QUERCUS\", \"common_name\": \"RED OAK\", \"height_range_id\": 4}, {\"species_name\": \"RUBRA\", \"neighbourhood_name\": \"Hastings-Sunrise\", \"diameter\": 30.0, \"genus_name\": \"QUERCUS\", \"common_name\": \"RED OAK\", \"height_range_id\": 5}, {\"species_name\": \"GLABRA\", \"neighbourhood_name\": \"Dunbar-Southlands\", \"diameter\": 27.0, \"genus_name\": \"ULMUS\", \"common_name\": \"SCOTS ELM\", \"height_range_id\": 7}, {\"species_name\": \"RUBRA\", \"neighbourhood_name\": \"Killarney\", \"diameter\": 10.0, \"genus_name\": \"QUERCUS\", \"common_name\": \"RED OAK\", \"height_range_id\": 4}, {\"species_name\": \"HIPPOCASTANUM\", \"neighbourhood_name\": \"Mount Pleasant\", \"diameter\": 22.0, \"genus_name\": \"AESCULUS\", \"common_name\": \"COMMON HORSECHESTNUT\", \"height_range_id\": 5}, {\"species_name\": \"GLABRA\", \"neighbourhood_name\": \"Dunbar-Southlands\", \"diameter\": 36.0, \"genus_name\": \"ULMUS\", \"common_name\": \"SCOTS ELM\", \"height_range_id\": 7}, {\"species_name\": \"RUBRA\", \"neighbourhood_name\": \"Arbutus-Ridge\", \"diameter\": 48.0, \"genus_name\": \"QUERCUS\", \"common_name\": \"RED OAK\", \"height_range_id\": 5}, {\"species_name\": \"HIPPOCASTANUM\", \"neighbourhood_name\": \"Kerrisdale\", \"diameter\": 28.5, \"genus_name\": \"AESCULUS\", \"common_name\": \"COMMON HORSECHESTNUT\", \"height_range_id\": 6}, {\"species_name\": \"HIPPOCASTANUM\", \"neighbourhood_name\": \"Dunbar-Southlands\", \"diameter\": 24.0, \"genus_name\": \"AESCULUS\", \"common_name\": \"COMMON HORSECHESTNUT\", \"height_range_id\": 6}, {\"species_name\": \"HIPPOCASTANUM\", \"neighbourhood_name\": \"Dunbar-Southlands\", \"diameter\": 34.0, \"genus_name\": \"AESCULUS\", \"common_name\": \"COMMON HORSECHESTNUT\", \"height_range_id\": 6}, {\"species_name\": \"BIGNONIOIDES\", \"neighbourhood_name\": \"Shaughnessy\", \"diameter\": 3.0, \"genus_name\": \"CATALPA\", \"common_name\": \"UMBRELLA CATALPA\", \"height_range_id\": 2}, {\"species_name\": \"HIPPOCASTANUM\", \"neighbourhood_name\": \"Shaughnessy\", \"diameter\": 21.0, \"genus_name\": \"AESCULUS\", \"common_name\": \"COMMON HORSECHESTNUT\", \"height_range_id\": 4}, {\"species_name\": \"SACCHARINUM\", \"neighbourhood_name\": \"West End\", \"diameter\": 16.0, \"genus_name\": \"ACER\", \"common_name\": \"SILVER MAPLE\", \"height_range_id\": 4}, {\"species_name\": \"DEODARA\", \"neighbourhood_name\": \"Hastings-Sunrise\", \"diameter\": 6.0, \"genus_name\": \"CEDRUS\", \"common_name\": \"DEODAR CEDAR\", \"height_range_id\": 6}, {\"species_name\": \"HIPPOCASTANUM\", \"neighbourhood_name\": \"Dunbar-Southlands\", \"diameter\": 30.0, \"genus_name\": \"AESCULUS\", \"common_name\": \"COMMON HORSECHESTNUT\", \"height_range_id\": 6}, {\"species_name\": \"HIPPOCASTANUM\", \"neighbourhood_name\": \"Shaughnessy\", \"diameter\": 34.0, \"genus_name\": \"AESCULUS\", \"common_name\": \"COMMON HORSECHESTNUT\", \"height_range_id\": 6}, {\"species_name\": \"RUBRA\", \"neighbourhood_name\": \"Strathcona\", \"diameter\": 22.5, \"genus_name\": \"QUERCUS\", \"common_name\": \"RED OAK\", \"height_range_id\": 5}, {\"species_name\": \"HIPPOCASTANUM\", \"neighbourhood_name\": \"Kitsilano\", \"diameter\": 35.0, \"genus_name\": \"AESCULUS\", \"common_name\": \"COMMON HORSECHESTNUT\", \"height_range_id\": 7}, {\"species_name\": \"HIPPOCASTANUM\", \"neighbourhood_name\": \"Kitsilano\", \"diameter\": 23.0, \"genus_name\": \"AESCULUS\", \"common_name\": \"COMMON HORSECHESTNUT\", \"height_range_id\": 5}, {\"species_name\": \"GLABRA\", \"neighbourhood_name\": \"Dunbar-Southlands\", \"diameter\": 24.0, \"genus_name\": \"ULMUS\", \"common_name\": \"SCOTS ELM\", \"height_range_id\": 7}, {\"species_name\": \"HIPPOCASTANUM\", \"neighbourhood_name\": \"Kerrisdale\", \"diameter\": 24.0, \"genus_name\": \"AESCULUS\", \"common_name\": \"COMMON HORSECHESTNUT\", \"height_range_id\": 5}, {\"species_name\": \"BIGNONIOIDES\", \"neighbourhood_name\": \"Kitsilano\", \"diameter\": 31.0, \"genus_name\": \"CATALPA\", \"common_name\": \"COMMON CATALPA\", \"height_range_id\": 6}, {\"species_name\": \"DEODARA\", \"neighbourhood_name\": \"West Point Grey\", \"diameter\": 16.0, \"genus_name\": \"CEDRUS\", \"common_name\": \"DEODAR CEDAR\", \"height_range_id\": 3}, {\"species_name\": \"DEODARA\", \"neighbourhood_name\": \"Kitsilano\", \"diameter\": 22.0, \"genus_name\": \"CEDRUS\", \"common_name\": \"DEODAR CEDAR\", \"height_range_id\": 5}, {\"species_name\": \"HIPPOCASTANUM\", \"neighbourhood_name\": \"West End\", \"diameter\": 30.0, \"genus_name\": \"AESCULUS\", \"common_name\": \"COMMON HORSECHESTNUT\", \"height_range_id\": 6}, {\"species_name\": \"SACCHARINUM\", \"neighbourhood_name\": \"Shaughnessy\", \"diameter\": 27.0, \"genus_name\": \"ACER\", \"common_name\": \"SILVER MAPLE\", \"height_range_id\": 6}, {\"species_name\": \"HIPPOCASTANUM\", \"neighbourhood_name\": \"Kensington-Cedar Cottage\", \"diameter\": 24.0, \"genus_name\": \"AESCULUS\", \"common_name\": \"COMMON HORSECHESTNUT\", \"height_range_id\": 5}, {\"species_name\": \"PROCERA\", \"neighbourhood_name\": \"Kerrisdale\", \"diameter\": 28.0, \"genus_name\": \"ULMUS\", \"common_name\": \"ENGLISH ELM\", \"height_range_id\": 5}, {\"species_name\": \"RUBRA\", \"neighbourhood_name\": \"Hastings-Sunrise\", \"diameter\": 41.0, \"genus_name\": \"QUERCUS\", \"common_name\": \"RED OAK\", \"height_range_id\": 5}, {\"species_name\": \"GLABRA\", \"neighbourhood_name\": \"Kitsilano\", \"diameter\": 26.0, \"genus_name\": \"ULMUS\", \"common_name\": \"SCOTS ELM\", \"height_range_id\": 7}, {\"species_name\": \"BIGNONIOIDES\", \"neighbourhood_name\": \"Kitsilano\", \"diameter\": 32.5, \"genus_name\": \"CATALPA\", \"common_name\": \"COMMON CATALPA\", \"height_range_id\": 5}, {\"species_name\": \"SACCHARINUM\", \"neighbourhood_name\": \"Killarney\", \"diameter\": 25.0, \"genus_name\": \"ACER\", \"common_name\": \"SILVER MAPLE\", \"height_range_id\": 4}, {\"species_name\": \"HIPPOCASTANUM\", \"neighbourhood_name\": \"Kerrisdale\", \"diameter\": 25.5, \"genus_name\": \"AESCULUS\", \"common_name\": \"COMMON HORSECHESTNUT\", \"height_range_id\": 5}, {\"species_name\": \"BIGNONIOIDES\", \"neighbourhood_name\": \"Dunbar-Southlands\", \"diameter\": 31.0, \"genus_name\": \"CATALPA\", \"common_name\": \"COMMON CATALPA\", \"height_range_id\": 4}, {\"species_name\": \"HIPPOCASTANUM\", \"neighbourhood_name\": \"Kitsilano\", \"diameter\": 26.0, \"genus_name\": \"AESCULUS\", \"common_name\": \"COMMON HORSECHESTNUT\", \"height_range_id\": 5}, {\"species_name\": \"RUBRA\", \"neighbourhood_name\": \"Grandview-Woodland\", \"diameter\": 38.0, \"genus_name\": \"QUERCUS\", \"common_name\": \"RED OAK\", \"height_range_id\": 9}, {\"species_name\": \"RUBRA\", \"neighbourhood_name\": \"Dunbar-Southlands\", \"diameter\": 30.5, \"genus_name\": \"QUERCUS\", \"common_name\": \"RED OAK\", \"height_range_id\": 6}, {\"species_name\": \"HIPPOCASTANUM\", \"neighbourhood_name\": \"Kensington-Cedar Cottage\", \"diameter\": 28.0, \"genus_name\": \"AESCULUS\", \"common_name\": \"COMMON HORSECHESTNUT\", \"height_range_id\": 5}, {\"species_name\": \"BIGNONIOIDES\", \"neighbourhood_name\": \"Kitsilano\", \"diameter\": 23.0, \"genus_name\": \"CATALPA\", \"common_name\": \"COMMON CATALPA\", \"height_range_id\": 6}, {\"species_name\": \"HIPPOCASTANUM\", \"neighbourhood_name\": \"Mount Pleasant\", \"diameter\": 23.0, \"genus_name\": \"AESCULUS\", \"common_name\": \"COMMON HORSECHESTNUT\", \"height_range_id\": 5}, {\"species_name\": \"HIPPOCASTANUM\", \"neighbourhood_name\": \"Kitsilano\", \"diameter\": 22.5, \"genus_name\": \"AESCULUS\", \"common_name\": \"COMMON HORSECHESTNUT\", \"height_range_id\": 5}, {\"species_name\": \"HIPPOCASTANUM\", \"neighbourhood_name\": \"Fairview\", \"diameter\": 22.0, \"genus_name\": \"AESCULUS\", \"common_name\": \"COMMON HORSECHESTNUT\", \"height_range_id\": 4}, {\"species_name\": \"SITCHENSIS\", \"neighbourhood_name\": \"Renfrew-Collingwood\", \"diameter\": 26.0, \"genus_name\": \"PICEA\", \"common_name\": \"SITKA SPRUCE\", \"height_range_id\": 6}, {\"species_name\": \"PROCERA\", \"neighbourhood_name\": \"Shaughnessy\", \"diameter\": 36.0, \"genus_name\": \"ULMUS\", \"common_name\": \"ENGLISH ELM\", \"height_range_id\": 6}, {\"species_name\": \"PROCERA\", \"neighbourhood_name\": \"Kerrisdale\", \"diameter\": 20.0, \"genus_name\": \"ULMUS\", \"common_name\": \"ENGLISH ELM\", \"height_range_id\": 5}, {\"species_name\": \"RUBRA\", \"neighbourhood_name\": \"Downtown\", \"diameter\": 11.0, \"genus_name\": \"QUERCUS\", \"common_name\": \"RED OAK\", \"height_range_id\": 2}, {\"species_name\": \"TRICHOCARPA\", \"neighbourhood_name\": \"West End\", \"diameter\": 40.0, \"genus_name\": \"POPULUS\", \"common_name\": \"BLACK COTTONWOOD\", \"height_range_id\": 6}, {\"species_name\": \"MACROCARPA\", \"neighbourhood_name\": \"Dunbar-Southlands\", \"diameter\": 27.0, \"genus_name\": \"QUERCUS\", \"common_name\": \"BUR OAK\", \"height_range_id\": 8}, {\"species_name\": \"RUBRA\", \"neighbourhood_name\": \"Fairview\", \"diameter\": 11.0, \"genus_name\": \"QUERCUS\", \"common_name\": \"RED OAK\", \"height_range_id\": 3}, {\"species_name\": \"HIPPOCASTANUM\", \"neighbourhood_name\": \"West Point Grey\", \"diameter\": 30.5, \"genus_name\": \"AESCULUS\", \"common_name\": \"COMMON HORSECHESTNUT\", \"height_range_id\": 5}, {\"species_name\": \"HETEROPHYLLA\", \"neighbourhood_name\": \"Hastings-Sunrise\", \"diameter\": 8.0, \"genus_name\": \"TSUGA\", \"common_name\": \"WESTERN HEMLOCK\", \"height_range_id\": 4}, {\"species_name\": \"DEODARA\", \"neighbourhood_name\": \"Sunset\", \"diameter\": 22.0, \"genus_name\": \"CEDRUS\", \"common_name\": \"DEODAR CEDAR\", \"height_range_id\": 5}, {\"species_name\": \"GLABRA\", \"neighbourhood_name\": \"Fairview\", \"diameter\": 16.5, \"genus_name\": \"ULMUS\", \"common_name\": \"SCOTS ELM\", \"height_range_id\": 5}, {\"species_name\": \"HIPPOCASTANUM\", \"neighbourhood_name\": \"Shaughnessy\", \"diameter\": 20.0, \"genus_name\": \"AESCULUS\", \"common_name\": \"COMMON HORSECHESTNUT\", \"height_range_id\": 5}, {\"species_name\": \"HIPPOCASTANUM\", \"neighbourhood_name\": \"Dunbar-Southlands\", \"diameter\": 23.0, \"genus_name\": \"AESCULUS\", \"common_name\": \"COMMON HORSECHESTNUT\", \"height_range_id\": 6}, {\"species_name\": \"RUBRA\", \"neighbourhood_name\": \"Dunbar-Southlands\", \"diameter\": 37.0, \"genus_name\": \"QUERCUS\", \"common_name\": \"RED OAK\", \"height_range_id\": 7}, {\"species_name\": \"SACCHARINUM\", \"neighbourhood_name\": \"Kensington-Cedar Cottage\", \"diameter\": 28.5, \"genus_name\": \"ACER\", \"common_name\": \"SILVER MAPLE\", \"height_range_id\": 5}, {\"species_name\": \"SACCHARINUM\", \"neighbourhood_name\": \"Shaughnessy\", \"diameter\": 31.0, \"genus_name\": \"ACER\", \"common_name\": \"SILVER MAPLE\", \"height_range_id\": 9}, {\"species_name\": \"HIPPOCASTANUM\", \"neighbourhood_name\": \"Shaughnessy\", \"diameter\": 19.0, \"genus_name\": \"AESCULUS\", \"common_name\": \"COMMON HORSECHESTNUT\", \"height_range_id\": 4}, {\"species_name\": \"HIPPOCASTANUM\", \"neighbourhood_name\": \"Fairview\", \"diameter\": 40.0, \"genus_name\": \"AESCULUS\", \"common_name\": \"COMMON HORSECHESTNUT\", \"height_range_id\": 6}, {\"species_name\": \"RUBRA\", \"neighbourhood_name\": \"Sunset\", \"diameter\": 10.5, \"genus_name\": \"QUERCUS\", \"common_name\": \"RED OAK\", \"height_range_id\": 3}, {\"species_name\": \"HIPPOCASTANUM\", \"neighbourhood_name\": \"Kitsilano\", \"diameter\": 30.0, \"genus_name\": \"AESCULUS\", \"common_name\": \"COMMON HORSECHESTNUT\", \"height_range_id\": 6}, {\"species_name\": \"HIPPOCASTANUM\", \"neighbourhood_name\": \"Dunbar-Southlands\", \"diameter\": 37.5, \"genus_name\": \"AESCULUS\", \"common_name\": \"COMMON HORSECHESTNUT\", \"height_range_id\": 5}, {\"species_name\": \"HIPPOCASTANUM\", \"neighbourhood_name\": \"Dunbar-Southlands\", \"diameter\": 29.5, \"genus_name\": \"AESCULUS\", \"common_name\": \"COMMON HORSECHESTNUT\", \"height_range_id\": 5}, {\"species_name\": \"RUBRA\", \"neighbourhood_name\": \"Marpole\", \"diameter\": 19.0, \"genus_name\": \"QUERCUS\", \"common_name\": \"RED OAK\", \"height_range_id\": 4}, {\"species_name\": \"SACCHARINUM\", \"neighbourhood_name\": \"West Point Grey\", \"diameter\": 46.0, \"genus_name\": \"ACER\", \"common_name\": \"SILVER MAPLE\", \"height_range_id\": 8}, {\"species_name\": \"HIPPOCASTANUM\", \"neighbourhood_name\": \"Marpole\", \"diameter\": 23.0, \"genus_name\": \"AESCULUS\", \"common_name\": \"COMMON HORSECHESTNUT\", \"height_range_id\": 4}, {\"species_name\": \"BIGNONIOIDES\", \"neighbourhood_name\": \"Kitsilano\", \"diameter\": 26.0, \"genus_name\": \"CATALPA\", \"common_name\": \"COMMON CATALPA\", \"height_range_id\": 5}, {\"species_name\": \"HIPPOCASTANUM\", \"neighbourhood_name\": \"Dunbar-Southlands\", \"diameter\": 31.0, \"genus_name\": \"AESCULUS\", \"common_name\": \"COMMON HORSECHESTNUT\", \"height_range_id\": 5}, {\"species_name\": \"SACCHARINUM\", \"neighbourhood_name\": \"Downtown\", \"diameter\": 28.0, \"genus_name\": \"ACER\", \"common_name\": \"CUTLEAF SILVER MAPLE\", \"height_range_id\": 7}, {\"species_name\": \"RUBRA\", \"neighbourhood_name\": \"West End\", \"diameter\": 19.0, \"genus_name\": \"QUERCUS\", \"common_name\": \"RED OAK\", \"height_range_id\": 4}, {\"species_name\": \"RUBRA\", \"neighbourhood_name\": \"Marpole\", \"diameter\": 30.25, \"genus_name\": \"QUERCUS\", \"common_name\": \"RED OAK\", \"height_range_id\": 4}, {\"species_name\": \"HIPPOCASTANUM\", \"neighbourhood_name\": \"Shaughnessy\", \"diameter\": 24.5, \"genus_name\": \"AESCULUS\", \"common_name\": \"COMMON HORSECHESTNUT\", \"height_range_id\": 4}, {\"species_name\": \"RUBRA\", \"neighbourhood_name\": \"Hastings-Sunrise\", \"diameter\": 38.0, \"genus_name\": \"QUERCUS\", \"common_name\": \"RED OAK\", \"height_range_id\": 7}, {\"species_name\": \"HIPPOCASTANUM\", \"neighbourhood_name\": \"Kitsilano\", \"diameter\": 26.0, \"genus_name\": \"AESCULUS\", \"common_name\": \"COMMON HORSECHESTNUT\", \"height_range_id\": 5}, {\"species_name\": \"PROCERA\", \"neighbourhood_name\": \"South Cambie\", \"diameter\": 33.5, \"genus_name\": \"ULMUS\", \"common_name\": \"ENGLISH ELM\", \"height_range_id\": 6}, {\"species_name\": \"RUBRA\", \"neighbourhood_name\": \"Renfrew-Collingwood\", \"diameter\": 17.5, \"genus_name\": \"QUERCUS\", \"common_name\": \"RED OAK\", \"height_range_id\": 4}, {\"species_name\": \"RUBRA\", \"neighbourhood_name\": \"Renfrew-Collingwood\", \"diameter\": 13.5, \"genus_name\": \"QUERCUS\", \"common_name\": \"RED OAK\", \"height_range_id\": 5}, {\"species_name\": \"HIPPOCASTANUM\", \"neighbourhood_name\": \"Shaughnessy\", \"diameter\": 35.0, \"genus_name\": \"AESCULUS\", \"common_name\": \"COMMON HORSECHESTNUT\", \"height_range_id\": 6}, {\"species_name\": \"RUBRA\", \"neighbourhood_name\": \"Arbutus-Ridge\", \"diameter\": 31.5, \"genus_name\": \"QUERCUS\", \"common_name\": \"RED OAK\", \"height_range_id\": 8}, {\"species_name\": \"SACCHARINUM\", \"neighbourhood_name\": \"Kitsilano\", \"diameter\": 21.0, \"genus_name\": \"ACER\", \"common_name\": \"SILVER MAPLE\", \"height_range_id\": 6}, {\"species_name\": \"RUBRA\", \"neighbourhood_name\": \"Hastings-Sunrise\", \"diameter\": 23.0, \"genus_name\": \"QUERCUS\", \"common_name\": \"RED OAK\", \"height_range_id\": 4}, {\"species_name\": \"HIPPOCASTANUM\", \"neighbourhood_name\": \"West End\", \"diameter\": 18.0, \"genus_name\": \"AESCULUS\", \"common_name\": \"COMMON HORSECHESTNUT\", \"height_range_id\": 4}, {\"species_name\": \"HIPPOCASTANUM\", \"neighbourhood_name\": \"Arbutus-Ridge\", \"diameter\": 26.0, \"genus_name\": \"AESCULUS\", \"common_name\": \"COMMON HORSECHESTNUT\", \"height_range_id\": 6}, {\"species_name\": \"BIGNONIOIDES\", \"neighbourhood_name\": \"Fairview\", \"diameter\": 46.0, \"genus_name\": \"CATALPA\", \"common_name\": \"COMMON CATALPA\", \"height_range_id\": 6}, {\"species_name\": \"DEODARA\", \"neighbourhood_name\": \"Fairview\", \"diameter\": 24.5, \"genus_name\": \"CEDRUS\", \"common_name\": \"DEODAR CEDAR\", \"height_range_id\": 4}, {\"species_name\": \"HIPPOCASTANUM\", \"neighbourhood_name\": \"Victoria-Fraserview\", \"diameter\": 19.5, \"genus_name\": \"AESCULUS\", \"common_name\": \"COMMON HORSECHESTNUT\", \"height_range_id\": 5}, {\"species_name\": \"HIPPOCASTANUM\", \"neighbourhood_name\": \"Dunbar-Southlands\", \"diameter\": 28.0, \"genus_name\": \"AESCULUS\", \"common_name\": \"COMMON HORSECHESTNUT\", \"height_range_id\": 4}, {\"species_name\": \"RUBRA\", \"neighbourhood_name\": \"Renfrew-Collingwood\", \"diameter\": 22.0, \"genus_name\": \"QUERCUS\", \"common_name\": \"RED OAK\", \"height_range_id\": 5}, {\"species_name\": \"RUBRA\", \"neighbourhood_name\": \"Grandview-Woodland\", \"diameter\": 51.0, \"genus_name\": \"QUERCUS\", \"common_name\": \"RED OAK\", \"height_range_id\": 7}, {\"species_name\": \"MACROCARPA\", \"neighbourhood_name\": \"Dunbar-Southlands\", \"diameter\": 21.0, \"genus_name\": \"QUERCUS\", \"common_name\": \"BUR OAK\", \"height_range_id\": 4}, {\"species_name\": \"HIPPOCASTANUM\", \"neighbourhood_name\": \"Kerrisdale\", \"diameter\": 28.0, \"genus_name\": \"AESCULUS\", \"common_name\": \"COMMON HORSECHESTNUT\", \"height_range_id\": 7}, {\"species_name\": \"HIPPOCASTANUM\", \"neighbourhood_name\": \"Marpole\", \"diameter\": 32.0, \"genus_name\": \"AESCULUS\", \"common_name\": \"COMMON HORSECHESTNUT\", \"height_range_id\": 6}, {\"species_name\": \"RUBRA\", \"neighbourhood_name\": \"Kensington-Cedar Cottage\", \"diameter\": 28.0, \"genus_name\": \"QUERCUS\", \"common_name\": \"RED OAK\", \"height_range_id\": 6}, {\"species_name\": \"DEODARA\", \"neighbourhood_name\": \"Fairview\", \"diameter\": 24.0, \"genus_name\": \"CEDRUS\", \"common_name\": \"DEODAR CEDAR\", \"height_range_id\": 4}, {\"species_name\": \"SACCHARINUM\", \"neighbourhood_name\": \"Shaughnessy\", \"diameter\": 19.0, \"genus_name\": \"ACER\", \"common_name\": \"SILVER MAPLE\", \"height_range_id\": 5}, {\"species_name\": \"RUBRA\", \"neighbourhood_name\": \"Kitsilano\", \"diameter\": 18.0, \"genus_name\": \"QUERCUS\", \"common_name\": \"RED OAK\", \"height_range_id\": 5}, {\"species_name\": \"BIGNONIOIDES\", \"neighbourhood_name\": \"Kitsilano\", \"diameter\": 18.0, \"genus_name\": \"CATALPA\", \"common_name\": \"COMMON CATALPA\", \"height_range_id\": 5}, {\"species_name\": \"RUBRA\", \"neighbourhood_name\": \"West End\", \"diameter\": 10.5, \"genus_name\": \"QUERCUS\", \"common_name\": \"RED OAK\", \"height_range_id\": 4}, {\"species_name\": \"HIPPOCASTANUM\", \"neighbourhood_name\": \"Kitsilano\", \"diameter\": 26.0, \"genus_name\": \"AESCULUS\", \"common_name\": \"COMMON HORSECHESTNUT\", \"height_range_id\": 6}, {\"species_name\": \"HIPPOCASTANUM\", \"neighbourhood_name\": \"Mount Pleasant\", \"diameter\": 30.0, \"genus_name\": \"AESCULUS\", \"common_name\": \"COMMON HORSECHESTNUT\", \"height_range_id\": 4}, {\"species_name\": \"RUBRA\", \"neighbourhood_name\": \"Strathcona\", \"diameter\": 23.0, \"genus_name\": \"QUERCUS\", \"common_name\": \"RED OAK\", \"height_range_id\": 4}, {\"species_name\": \"HIPPOCASTANUM\", \"neighbourhood_name\": \"Grandview-Woodland\", \"diameter\": 18.0, \"genus_name\": \"AESCULUS\", \"common_name\": \"COMMON HORSECHESTNUT\", \"height_range_id\": 4}, {\"species_name\": \"HETEROPHYLLA\", \"neighbourhood_name\": \"Riley Park\", \"diameter\": 31.0, \"genus_name\": \"TSUGA\", \"common_name\": \"WESTERN HEMLOCK\", \"height_range_id\": 5}, {\"species_name\": \"HIPPOCASTANUM\", \"neighbourhood_name\": \"Marpole\", \"diameter\": 31.0, \"genus_name\": \"AESCULUS\", \"common_name\": \"COMMON HORSECHESTNUT\", \"height_range_id\": 5}, {\"species_name\": \"HIPPOCASTANUM\", \"neighbourhood_name\": \"Riley Park\", \"diameter\": 34.0, \"genus_name\": \"AESCULUS\", \"common_name\": \"COMMON HORSECHESTNUT\", \"height_range_id\": 5}, {\"species_name\": \"HIPPOCASTANUM\", \"neighbourhood_name\": \"Kitsilano\", \"diameter\": 30.0, \"genus_name\": \"AESCULUS\", \"common_name\": \"COMMON HORSECHESTNUT\", \"height_range_id\": 5}, {\"species_name\": \"HIPPOCASTANUM\", \"neighbourhood_name\": \"Mount Pleasant\", \"diameter\": 26.5, \"genus_name\": \"AESCULUS\", \"common_name\": \"COMMON HORSECHESTNUT\", \"height_range_id\": 4}, {\"species_name\": \"GLABRA\", \"neighbourhood_name\": \"Dunbar-Southlands\", \"diameter\": 35.0, \"genus_name\": \"ULMUS\", \"common_name\": \"SCOTS ELM\", \"height_range_id\": 8}, {\"species_name\": \"BIGNONIOIDES\", \"neighbourhood_name\": \"Kitsilano\", \"diameter\": 26.0, \"genus_name\": \"CATALPA\", \"common_name\": \"COMMON CATALPA\", \"height_range_id\": 6}, {\"species_name\": \"HIPPOCASTANUM\", \"neighbourhood_name\": \"Arbutus-Ridge\", \"diameter\": 19.0, \"genus_name\": \"AESCULUS\", \"common_name\": \"COMMON HORSECHESTNUT\", \"height_range_id\": 4}, {\"species_name\": \"DEODARA\", \"neighbourhood_name\": \"Downtown\", \"diameter\": 11.0, \"genus_name\": \"CEDRUS\", \"common_name\": \"DEODAR CEDAR\", \"height_range_id\": 4}, {\"species_name\": \"RUBRA\", \"neighbourhood_name\": \"Dunbar-Southlands\", \"diameter\": 35.0, \"genus_name\": \"QUERCUS\", \"common_name\": \"RED OAK\", \"height_range_id\": 7}, {\"species_name\": \"DEODARA\", \"neighbourhood_name\": \"Kitsilano\", \"diameter\": 50.0, \"genus_name\": \"CEDRUS\", \"common_name\": \"DEODAR CEDAR\", \"height_range_id\": 5}, {\"species_name\": \"BIGNONIOIDES\", \"neighbourhood_name\": \"West Point Grey\", \"diameter\": 23.5, \"genus_name\": \"CATALPA\", \"common_name\": \"COMMON CATALPA\", \"height_range_id\": 5}, {\"species_name\": \"HIPPOCASTANUM\", \"neighbourhood_name\": \"Marpole\", \"diameter\": 27.0, \"genus_name\": \"AESCULUS\", \"common_name\": \"COMMON HORSECHESTNUT\", \"height_range_id\": 5}, {\"species_name\": \"GLABRA\", \"neighbourhood_name\": \"Dunbar-Southlands\", \"diameter\": 24.0, \"genus_name\": \"ULMUS\", \"common_name\": \"SCOTS ELM\", \"height_range_id\": 7}, {\"species_name\": \"RUBRA\", \"neighbourhood_name\": \"Downtown\", \"diameter\": 7.0, \"genus_name\": \"QUERCUS\", \"common_name\": \"RED OAK\", \"height_range_id\": 4}, {\"species_name\": \"MACROCARPA\", \"neighbourhood_name\": \"Dunbar-Southlands\", \"diameter\": 25.0, \"genus_name\": \"QUERCUS\", \"common_name\": \"BUR OAK\", \"height_range_id\": 4}, {\"species_name\": \"RUBRA\", \"neighbourhood_name\": \"Kensington-Cedar Cottage\", \"diameter\": 32.0, \"genus_name\": \"QUERCUS\", \"common_name\": \"RED OAK\", \"height_range_id\": 6}]}}, {\"mode\": \"vega-lite\"});\n",
       "</script>"
      ],
      "text/plain": [
       "alt.FacetChart(...)"
      ]
     },
     "execution_count": 8,
     "metadata": {},
     "output_type": "execute_result"
    }
   ],
   "source": [
    "alt.Chart(largest_species).mark_bar().encode(\n",
    "    alt.X('species_name'),\n",
    "    alt.Y('count()'),\n",
    "    alt.Color('species_name')).properties(width=150, height=75).facet(\n",
    "    'neighbourhood_name', columns=4)"
   ]
  },
  {
   "cell_type": "markdown",
   "metadata": {},
   "source": [
    "The bar charts above give us a sense of the counts of species for each neighborhood. To further determine which neighborhood has the highest count of these species, we can create a heat map."
   ]
  },
  {
   "cell_type": "code",
   "execution_count": 9,
   "metadata": {},
   "outputs": [
    {
     "data": {
      "text/html": [
       "\n",
       "<div id=\"altair-viz-29453eda140f4c8baa361a5754f6ae96\"></div>\n",
       "<script type=\"text/javascript\">\n",
       "  (function(spec, embedOpt){\n",
       "    let outputDiv = document.currentScript.previousElementSibling;\n",
       "    if (outputDiv.id !== \"altair-viz-29453eda140f4c8baa361a5754f6ae96\") {\n",
       "      outputDiv = document.getElementById(\"altair-viz-29453eda140f4c8baa361a5754f6ae96\");\n",
       "    }\n",
       "    const paths = {\n",
       "      \"vega\": \"https://cdn.jsdelivr.net/npm//vega@5?noext\",\n",
       "      \"vega-lib\": \"https://cdn.jsdelivr.net/npm//vega-lib?noext\",\n",
       "      \"vega-lite\": \"https://cdn.jsdelivr.net/npm//vega-lite@4.8.1?noext\",\n",
       "      \"vega-embed\": \"https://cdn.jsdelivr.net/npm//vega-embed@6?noext\",\n",
       "    };\n",
       "\n",
       "    function loadScript(lib) {\n",
       "      return new Promise(function(resolve, reject) {\n",
       "        var s = document.createElement('script');\n",
       "        s.src = paths[lib];\n",
       "        s.async = true;\n",
       "        s.onload = () => resolve(paths[lib]);\n",
       "        s.onerror = () => reject(`Error loading script: ${paths[lib]}`);\n",
       "        document.getElementsByTagName(\"head\")[0].appendChild(s);\n",
       "      });\n",
       "    }\n",
       "\n",
       "    function showError(err) {\n",
       "      outputDiv.innerHTML = `<div class=\"error\" style=\"color:red;\">${err}</div>`;\n",
       "      throw err;\n",
       "    }\n",
       "\n",
       "    function displayChart(vegaEmbed) {\n",
       "      vegaEmbed(outputDiv, spec, embedOpt)\n",
       "        .catch(err => showError(`Javascript Error: ${err.message}<br>This usually means there's a typo in your chart specification. See the javascript console for the full traceback.`));\n",
       "    }\n",
       "\n",
       "    if(typeof define === \"function\" && define.amd) {\n",
       "      requirejs.config({paths});\n",
       "      require([\"vega-embed\"], displayChart, err => showError(`Error loading script: ${err.message}`));\n",
       "    } else if (typeof vegaEmbed === \"function\") {\n",
       "      displayChart(vegaEmbed);\n",
       "    } else {\n",
       "      loadScript(\"vega\")\n",
       "        .then(() => loadScript(\"vega-lite\"))\n",
       "        .then(() => loadScript(\"vega-embed\"))\n",
       "        .catch(showError)\n",
       "        .then(() => displayChart(vegaEmbed));\n",
       "    }\n",
       "  })({\"config\": {\"view\": {\"continuousWidth\": 400, \"continuousHeight\": 300}}, \"data\": {\"name\": \"data-c822e0050adccb6005b5bcd4a3481b82\"}, \"mark\": \"rect\", \"encoding\": {\"color\": {\"type\": \"quantitative\", \"aggregate\": \"count\"}, \"x\": {\"type\": \"nominal\", \"field\": \"species_name\"}, \"y\": {\"type\": \"nominal\", \"field\": \"neighbourhood_name\", \"sort\": \"color\"}}, \"$schema\": \"https://vega.github.io/schema/vega-lite/v4.8.1.json\", \"datasets\": {\"data-c822e0050adccb6005b5bcd4a3481b82\": [{\"species_name\": \"HIPPOCASTANUM\", \"neighbourhood_name\": \"Shaughnessy\", \"diameter\": 15.5, \"genus_name\": \"AESCULUS\", \"common_name\": \"COMMON HORSECHESTNUT\", \"height_range_id\": 4}, {\"species_name\": \"BIGNONIOIDES\", \"neighbourhood_name\": \"West Point Grey\", \"diameter\": 25.0, \"genus_name\": \"CATALPA\", \"common_name\": \"COMMON CATALPA\", \"height_range_id\": 4}, {\"species_name\": \"RUBRA\", \"neighbourhood_name\": \"Grandview-Woodland\", \"diameter\": 41.0, \"genus_name\": \"QUERCUS\", \"common_name\": \"RED OAK\", \"height_range_id\": 7}, {\"species_name\": \"HIPPOCASTANUM\", \"neighbourhood_name\": \"Victoria-Fraserview\", \"diameter\": 24.0, \"genus_name\": \"AESCULUS\", \"common_name\": \"COMMON HORSECHESTNUT\", \"height_range_id\": 5}, {\"species_name\": \"BIGNONIOIDES\", \"neighbourhood_name\": \"Renfrew-Collingwood\", \"diameter\": 24.5, \"genus_name\": \"CATALPA\", \"common_name\": \"COMMON CATALPA\", \"height_range_id\": 5}, {\"species_name\": \"HIPPOCASTANUM\", \"neighbourhood_name\": \"Mount Pleasant\", \"diameter\": 27.0, \"genus_name\": \"AESCULUS\", \"common_name\": \"COMMON HORSECHESTNUT\", \"height_range_id\": 5}, {\"species_name\": \"GLABRA\", \"neighbourhood_name\": \"Dunbar-Southlands\", \"diameter\": 24.0, \"genus_name\": \"ULMUS\", \"common_name\": \"SCOTS ELM\", \"height_range_id\": 5}, {\"species_name\": \"RUBRA\", \"neighbourhood_name\": \"Hastings-Sunrise\", \"diameter\": 40.0, \"genus_name\": \"QUERCUS\", \"common_name\": \"RED OAK\", \"height_range_id\": 7}, {\"species_name\": \"REGIA\", \"neighbourhood_name\": \"Kensington-Cedar Cottage\", \"diameter\": 29.0, \"genus_name\": \"JUGLANS\", \"common_name\": \"ENGLISH WALNUT\", \"height_range_id\": 5}, {\"species_name\": \"HIPPOCASTANUM\", \"neighbourhood_name\": \"Grandview-Woodland\", \"diameter\": 22.0, \"genus_name\": \"AESCULUS\", \"common_name\": \"COMMON HORSECHESTNUT\", \"height_range_id\": 5}, {\"species_name\": \"HOLLANDICA   X\", \"neighbourhood_name\": \"Arbutus-Ridge\", \"diameter\": 24.0, \"genus_name\": \"ULMUS\", \"common_name\": \"DUTCH ELM\", \"height_range_id\": 7}, {\"species_name\": \"RUBRA\", \"neighbourhood_name\": \"Kerrisdale\", \"diameter\": 15.0, \"genus_name\": \"ALNUS\", \"common_name\": \"RED ALDER\", \"height_range_id\": 5}, {\"species_name\": \"BIGNONIOIDES\", \"neighbourhood_name\": \"Kitsilano\", \"diameter\": 34.0, \"genus_name\": \"CATALPA\", \"common_name\": \"COMMON CATALPA\", \"height_range_id\": 7}, {\"species_name\": \"RUBRA\", \"neighbourhood_name\": \"Hastings-Sunrise\", \"diameter\": 33.0, \"genus_name\": \"QUERCUS\", \"common_name\": \"RED OAK\", \"height_range_id\": 7}, {\"species_name\": \"RUBRA\", \"neighbourhood_name\": \"Dunbar-Southlands\", \"diameter\": 34.0, \"genus_name\": \"QUERCUS\", \"common_name\": \"RED OAK\", \"height_range_id\": 8}, {\"species_name\": \"PROCERA\", \"neighbourhood_name\": \"Marpole\", \"diameter\": 21.0, \"genus_name\": \"ULMUS\", \"common_name\": \"ENGLISH ELM\", \"height_range_id\": 4}, {\"species_name\": \"RUBRA\", \"neighbourhood_name\": \"Dunbar-Southlands\", \"diameter\": 49.5, \"genus_name\": \"QUERCUS\", \"common_name\": \"RED OAK\", \"height_range_id\": 6}, {\"species_name\": \"HIPPOCASTANUM\", \"neighbourhood_name\": \"Shaughnessy\", \"diameter\": 27.0, \"genus_name\": \"AESCULUS\", \"common_name\": \"COMMON HORSECHESTNUT\", \"height_range_id\": 4}, {\"species_name\": \"DEODARA\", \"neighbourhood_name\": \"Dunbar-Southlands\", \"diameter\": 12.0, \"genus_name\": \"CEDRUS\", \"common_name\": \"DEODAR CEDAR\", \"height_range_id\": 4}, {\"species_name\": \"BIGNONIOIDES\", \"neighbourhood_name\": \"Kitsilano\", \"diameter\": 34.0, \"genus_name\": \"CATALPA\", \"common_name\": \"COMMON CATALPA\", \"height_range_id\": 6}, {\"species_name\": \"RUBRA\", \"neighbourhood_name\": \"Dunbar-Southlands\", \"diameter\": 32.0, \"genus_name\": \"QUERCUS\", \"common_name\": \"RED OAK\", \"height_range_id\": 6}, {\"species_name\": \"HIPPOCASTANUM\", \"neighbourhood_name\": \"Shaughnessy\", \"diameter\": 29.0, \"genus_name\": \"AESCULUS\", \"common_name\": \"COMMON HORSECHESTNUT\", \"height_range_id\": 5}, {\"species_name\": \"HIPPOCASTANUM\", \"neighbourhood_name\": \"West Point Grey\", \"diameter\": 18.0, \"genus_name\": \"AESCULUS\", \"common_name\": \"COMMON HORSECHESTNUT\", \"height_range_id\": 6}, {\"species_name\": \"HIPPOCASTANUM\", \"neighbourhood_name\": \"Kitsilano\", \"diameter\": 25.0, \"genus_name\": \"AESCULUS\", \"common_name\": \"COMMON HORSECHESTNUT\", \"height_range_id\": 7}, {\"species_name\": \"HIPPOCASTANUM\", \"neighbourhood_name\": \"Kitsilano\", \"diameter\": 28.0, \"genus_name\": \"AESCULUS\", \"common_name\": \"COMMON HORSECHESTNUT\", \"height_range_id\": 6}, {\"species_name\": \"DEODARA\", \"neighbourhood_name\": \"Fairview\", \"diameter\": 41.0, \"genus_name\": \"CEDRUS\", \"common_name\": \"DEODAR CEDAR\", \"height_range_id\": 5}, {\"species_name\": \"HIPPOCASTANUM\", \"neighbourhood_name\": \"Downtown\", \"diameter\": 10.0, \"genus_name\": \"AESCULUS\", \"common_name\": \"COMMON HORSECHESTNUT\", \"height_range_id\": 4}, {\"species_name\": \"RUBRA\", \"neighbourhood_name\": \"Strathcona\", \"diameter\": 25.5, \"genus_name\": \"QUERCUS\", \"common_name\": \"RED OAK\", \"height_range_id\": 4}, {\"species_name\": \"HIPPOCASTANUM\", \"neighbourhood_name\": \"Marpole\", \"diameter\": 7.0, \"genus_name\": \"AESCULUS\", \"common_name\": \"COMMON HORSECHESTNUT\", \"height_range_id\": 2}, {\"species_name\": \"HIPPOCASTANUM\", \"neighbourhood_name\": \"Arbutus-Ridge\", \"diameter\": 30.0, \"genus_name\": \"AESCULUS\", \"common_name\": \"COMMON HORSECHESTNUT\", \"height_range_id\": 5}, {\"species_name\": \"HIPPOCASTANUM\", \"neighbourhood_name\": \"Kensington-Cedar Cottage\", \"diameter\": 31.0, \"genus_name\": \"AESCULUS\", \"common_name\": \"COMMON HORSECHESTNUT\", \"height_range_id\": 6}, {\"species_name\": \"HIPPOCASTANUM\", \"neighbourhood_name\": \"Shaughnessy\", \"diameter\": 32.0, \"genus_name\": \"AESCULUS\", \"common_name\": \"COMMON HORSECHESTNUT\", \"height_range_id\": 6}, {\"species_name\": \"CINEREA\", \"neighbourhood_name\": \"Arbutus-Ridge\", \"diameter\": 35.5, \"genus_name\": \"JUGLANS\", \"common_name\": \"BUTTERNUT\", \"height_range_id\": 6}, {\"species_name\": \"HETEROPHYLLA\", \"neighbourhood_name\": \"Victoria-Fraserview\", \"diameter\": 30.0, \"genus_name\": \"TSUGA\", \"common_name\": \"WESTERN HEMLOCK\", \"height_range_id\": 4}, {\"species_name\": \"BIGNONIOIDES\", \"neighbourhood_name\": \"West Point Grey\", \"diameter\": 28.25, \"genus_name\": \"CATALPA\", \"common_name\": \"COMMON CATALPA\", \"height_range_id\": 5}, {\"species_name\": \"RUBRA\", \"neighbourhood_name\": \"Dunbar-Southlands\", \"diameter\": 36.0, \"genus_name\": \"QUERCUS\", \"common_name\": \"RED OAK\", \"height_range_id\": 5}, {\"species_name\": \"RUBRA\", \"neighbourhood_name\": \"Hastings-Sunrise\", \"diameter\": 27.0, \"genus_name\": \"QUERCUS\", \"common_name\": \"RED OAK\", \"height_range_id\": 6}, {\"species_name\": \"DEODARA\", \"neighbourhood_name\": \"Marpole\", \"diameter\": 3.0, \"genus_name\": \"CEDRUS\", \"common_name\": \"KASHMIR CEDAR\", \"height_range_id\": 2}, {\"species_name\": \"BIGNONIOIDES\", \"neighbourhood_name\": \"Kitsilano\", \"diameter\": 28.0, \"genus_name\": \"CATALPA\", \"common_name\": \"COMMON CATALPA\", \"height_range_id\": 6}, {\"species_name\": \"BIGNONIOIDES\", \"neighbourhood_name\": \"Kitsilano\", \"diameter\": 18.0, \"genus_name\": \"CATALPA\", \"common_name\": \"COMMON CATALPA\", \"height_range_id\": 5}, {\"species_name\": \"HIPPOCASTANUM\", \"neighbourhood_name\": \"Kitsilano\", \"diameter\": 25.0, \"genus_name\": \"AESCULUS\", \"common_name\": \"COMMON HORSECHESTNUT\", \"height_range_id\": 4}, {\"species_name\": \"RUBRA\", \"neighbourhood_name\": \"Grandview-Woodland\", \"diameter\": 43.0, \"genus_name\": \"QUERCUS\", \"common_name\": \"RED OAK\", \"height_range_id\": 7}, {\"species_name\": \"HIPPOCASTANUM\", \"neighbourhood_name\": \"Dunbar-Southlands\", \"diameter\": 31.0, \"genus_name\": \"AESCULUS\", \"common_name\": \"COMMON HORSECHESTNUT\", \"height_range_id\": 5}, {\"species_name\": \"RUBRA\", \"neighbourhood_name\": \"Grandview-Woodland\", \"diameter\": 40.0, \"genus_name\": \"QUERCUS\", \"common_name\": \"RED OAK\", \"height_range_id\": 8}, {\"species_name\": \"BIGNONIOIDES\", \"neighbourhood_name\": \"Riley Park\", \"diameter\": 24.0, \"genus_name\": \"CATALPA\", \"common_name\": \"COMMON CATALPA\", \"height_range_id\": 4}, {\"species_name\": \"RUBRA\", \"neighbourhood_name\": \"Kensington-Cedar Cottage\", \"diameter\": 25.0, \"genus_name\": \"QUERCUS\", \"common_name\": \"RED OAK\", \"height_range_id\": 5}, {\"species_name\": \"RUBRA\", \"neighbourhood_name\": \"Kitsilano\", \"diameter\": 16.0, \"genus_name\": \"QUERCUS\", \"common_name\": \"RED OAK\", \"height_range_id\": 4}, {\"species_name\": \"RUBRA\", \"neighbourhood_name\": \"Kensington-Cedar Cottage\", \"diameter\": 41.5, \"genus_name\": \"QUERCUS\", \"common_name\": \"RED OAK\", \"height_range_id\": 9}, {\"species_name\": \"RUBRA\", \"neighbourhood_name\": \"Killarney\", \"diameter\": 17.0, \"genus_name\": \"QUERCUS\", \"common_name\": \"RED OAK\", \"height_range_id\": 4}, {\"species_name\": \"HIPPOCASTANUM\", \"neighbourhood_name\": \"Kitsilano\", \"diameter\": 35.0, \"genus_name\": \"AESCULUS\", \"common_name\": \"COMMON HORSECHESTNUT\", \"height_range_id\": 6}, {\"species_name\": \"HIPPOCASTANUM\", \"neighbourhood_name\": \"Kerrisdale\", \"diameter\": 31.0, \"genus_name\": \"AESCULUS\", \"common_name\": \"COMMON HORSECHESTNUT\", \"height_range_id\": 5}, {\"species_name\": \"HIPPOCASTANUM\", \"neighbourhood_name\": \"Hastings-Sunrise\", \"diameter\": 38.0, \"genus_name\": \"AESCULUS\", \"common_name\": \"COMMON HORSECHESTNUT\", \"height_range_id\": 5}, {\"species_name\": \"PROCERA\", \"neighbourhood_name\": \"South Cambie\", \"diameter\": 12.0, \"genus_name\": \"ULMUS\", \"common_name\": \"ENGLISH ELM\", \"height_range_id\": 5}, {\"species_name\": \"RUBRA\", \"neighbourhood_name\": \"Hastings-Sunrise\", \"diameter\": 39.0, \"genus_name\": \"QUERCUS\", \"common_name\": \"RED OAK\", \"height_range_id\": 7}, {\"species_name\": \"TRICHOCARPA\", \"neighbourhood_name\": \"Renfrew-Collingwood\", \"diameter\": 38.5, \"genus_name\": \"POPULUS\", \"common_name\": \"BLACK COTTONWOOD\", \"height_range_id\": 8}, {\"species_name\": \"HIPPOCASTANUM\", \"neighbourhood_name\": \"Kitsilano\", \"diameter\": 15.0, \"genus_name\": \"AESCULUS\", \"common_name\": \"COMMON HORSECHESTNUT\", \"height_range_id\": 3}, {\"species_name\": \"RUBRA\", \"neighbourhood_name\": \"Dunbar-Southlands\", \"diameter\": 30.0, \"genus_name\": \"QUERCUS\", \"common_name\": \"RED OAK\", \"height_range_id\": 4}, {\"species_name\": \"HIPPOCASTANUM\", \"neighbourhood_name\": \"Dunbar-Southlands\", \"diameter\": 24.0, \"genus_name\": \"AESCULUS\", \"common_name\": \"COMMON HORSECHESTNUT\", \"height_range_id\": 6}, {\"species_name\": \"DEODARA\", \"neighbourhood_name\": \"Kitsilano\", \"diameter\": 71.0, \"genus_name\": \"CEDRUS\", \"common_name\": \"DEODAR CEDAR\", \"height_range_id\": 5}, {\"species_name\": \"RUBRA\", \"neighbourhood_name\": \"Marpole\", \"diameter\": 21.5, \"genus_name\": \"QUERCUS\", \"common_name\": \"RED OAK\", \"height_range_id\": 4}, {\"species_name\": \"RUBRA\", \"neighbourhood_name\": \"Victoria-Fraserview\", \"diameter\": 20.5, \"genus_name\": \"QUERCUS\", \"common_name\": \"RED OAK\", \"height_range_id\": 7}, {\"species_name\": \"RUBRA\", \"neighbourhood_name\": \"Dunbar-Southlands\", \"diameter\": 45.0, \"genus_name\": \"QUERCUS\", \"common_name\": \"RED OAK\", \"height_range_id\": 6}, {\"species_name\": \"HIPPOCASTANUM\", \"neighbourhood_name\": \"Fairview\", \"diameter\": 44.0, \"genus_name\": \"AESCULUS\", \"common_name\": \"COMMON HORSECHESTNUT\", \"height_range_id\": 6}, {\"species_name\": \"HIPPOCASTANUM\", \"neighbourhood_name\": \"Kitsilano\", \"diameter\": 24.0, \"genus_name\": \"AESCULUS\", \"common_name\": \"COMMON HORSECHESTNUT\", \"height_range_id\": 5}, {\"species_name\": \"GLABRA\", \"neighbourhood_name\": \"Dunbar-Southlands\", \"diameter\": 24.0, \"genus_name\": \"ULMUS\", \"common_name\": \"SCOTS ELM\", \"height_range_id\": 6}, {\"species_name\": \"PROCERA\", \"neighbourhood_name\": \"Kerrisdale\", \"diameter\": 36.0, \"genus_name\": \"ULMUS\", \"common_name\": \"ENGLISH ELM\", \"height_range_id\": 8}, {\"species_name\": \"SACCHARINUM\", \"neighbourhood_name\": \"Riley Park\", \"diameter\": 23.0, \"genus_name\": \"ACER\", \"common_name\": \"SILVER MAPLE\", \"height_range_id\": 4}, {\"species_name\": \"RUBRA\", \"neighbourhood_name\": \"Renfrew-Collingwood\", \"diameter\": 24.75, \"genus_name\": \"QUERCUS\", \"common_name\": \"RED OAK\", \"height_range_id\": 4}, {\"species_name\": \"RUBRA\", \"neighbourhood_name\": \"Hastings-Sunrise\", \"diameter\": 30.0, \"genus_name\": \"QUERCUS\", \"common_name\": \"RED OAK\", \"height_range_id\": 5}, {\"species_name\": \"GLABRA\", \"neighbourhood_name\": \"Dunbar-Southlands\", \"diameter\": 27.0, \"genus_name\": \"ULMUS\", \"common_name\": \"SCOTS ELM\", \"height_range_id\": 7}, {\"species_name\": \"RUBRA\", \"neighbourhood_name\": \"Killarney\", \"diameter\": 10.0, \"genus_name\": \"QUERCUS\", \"common_name\": \"RED OAK\", \"height_range_id\": 4}, {\"species_name\": \"HIPPOCASTANUM\", \"neighbourhood_name\": \"Mount Pleasant\", \"diameter\": 22.0, \"genus_name\": \"AESCULUS\", \"common_name\": \"COMMON HORSECHESTNUT\", \"height_range_id\": 5}, {\"species_name\": \"GLABRA\", \"neighbourhood_name\": \"Dunbar-Southlands\", \"diameter\": 36.0, \"genus_name\": \"ULMUS\", \"common_name\": \"SCOTS ELM\", \"height_range_id\": 7}, {\"species_name\": \"RUBRA\", \"neighbourhood_name\": \"Arbutus-Ridge\", \"diameter\": 48.0, \"genus_name\": \"QUERCUS\", \"common_name\": \"RED OAK\", \"height_range_id\": 5}, {\"species_name\": \"HIPPOCASTANUM\", \"neighbourhood_name\": \"Kerrisdale\", \"diameter\": 28.5, \"genus_name\": \"AESCULUS\", \"common_name\": \"COMMON HORSECHESTNUT\", \"height_range_id\": 6}, {\"species_name\": \"HIPPOCASTANUM\", \"neighbourhood_name\": \"Dunbar-Southlands\", \"diameter\": 24.0, \"genus_name\": \"AESCULUS\", \"common_name\": \"COMMON HORSECHESTNUT\", \"height_range_id\": 6}, {\"species_name\": \"HIPPOCASTANUM\", \"neighbourhood_name\": \"Dunbar-Southlands\", \"diameter\": 34.0, \"genus_name\": \"AESCULUS\", \"common_name\": \"COMMON HORSECHESTNUT\", \"height_range_id\": 6}, {\"species_name\": \"BIGNONIOIDES\", \"neighbourhood_name\": \"Shaughnessy\", \"diameter\": 3.0, \"genus_name\": \"CATALPA\", \"common_name\": \"UMBRELLA CATALPA\", \"height_range_id\": 2}, {\"species_name\": \"HIPPOCASTANUM\", \"neighbourhood_name\": \"Shaughnessy\", \"diameter\": 21.0, \"genus_name\": \"AESCULUS\", \"common_name\": \"COMMON HORSECHESTNUT\", \"height_range_id\": 4}, {\"species_name\": \"SACCHARINUM\", \"neighbourhood_name\": \"West End\", \"diameter\": 16.0, \"genus_name\": \"ACER\", \"common_name\": \"SILVER MAPLE\", \"height_range_id\": 4}, {\"species_name\": \"DEODARA\", \"neighbourhood_name\": \"Hastings-Sunrise\", \"diameter\": 6.0, \"genus_name\": \"CEDRUS\", \"common_name\": \"DEODAR CEDAR\", \"height_range_id\": 6}, {\"species_name\": \"HIPPOCASTANUM\", \"neighbourhood_name\": \"Dunbar-Southlands\", \"diameter\": 30.0, \"genus_name\": \"AESCULUS\", \"common_name\": \"COMMON HORSECHESTNUT\", \"height_range_id\": 6}, {\"species_name\": \"HIPPOCASTANUM\", \"neighbourhood_name\": \"Shaughnessy\", \"diameter\": 34.0, \"genus_name\": \"AESCULUS\", \"common_name\": \"COMMON HORSECHESTNUT\", \"height_range_id\": 6}, {\"species_name\": \"RUBRA\", \"neighbourhood_name\": \"Strathcona\", \"diameter\": 22.5, \"genus_name\": \"QUERCUS\", \"common_name\": \"RED OAK\", \"height_range_id\": 5}, {\"species_name\": \"HIPPOCASTANUM\", \"neighbourhood_name\": \"Kitsilano\", \"diameter\": 35.0, \"genus_name\": \"AESCULUS\", \"common_name\": \"COMMON HORSECHESTNUT\", \"height_range_id\": 7}, {\"species_name\": \"HIPPOCASTANUM\", \"neighbourhood_name\": \"Kitsilano\", \"diameter\": 23.0, \"genus_name\": \"AESCULUS\", \"common_name\": \"COMMON HORSECHESTNUT\", \"height_range_id\": 5}, {\"species_name\": \"GLABRA\", \"neighbourhood_name\": \"Dunbar-Southlands\", \"diameter\": 24.0, \"genus_name\": \"ULMUS\", \"common_name\": \"SCOTS ELM\", \"height_range_id\": 7}, {\"species_name\": \"HIPPOCASTANUM\", \"neighbourhood_name\": \"Kerrisdale\", \"diameter\": 24.0, \"genus_name\": \"AESCULUS\", \"common_name\": \"COMMON HORSECHESTNUT\", \"height_range_id\": 5}, {\"species_name\": \"BIGNONIOIDES\", \"neighbourhood_name\": \"Kitsilano\", \"diameter\": 31.0, \"genus_name\": \"CATALPA\", \"common_name\": \"COMMON CATALPA\", \"height_range_id\": 6}, {\"species_name\": \"DEODARA\", \"neighbourhood_name\": \"West Point Grey\", \"diameter\": 16.0, \"genus_name\": \"CEDRUS\", \"common_name\": \"DEODAR CEDAR\", \"height_range_id\": 3}, {\"species_name\": \"DEODARA\", \"neighbourhood_name\": \"Kitsilano\", \"diameter\": 22.0, \"genus_name\": \"CEDRUS\", \"common_name\": \"DEODAR CEDAR\", \"height_range_id\": 5}, {\"species_name\": \"HIPPOCASTANUM\", \"neighbourhood_name\": \"West End\", \"diameter\": 30.0, \"genus_name\": \"AESCULUS\", \"common_name\": \"COMMON HORSECHESTNUT\", \"height_range_id\": 6}, {\"species_name\": \"SACCHARINUM\", \"neighbourhood_name\": \"Shaughnessy\", \"diameter\": 27.0, \"genus_name\": \"ACER\", \"common_name\": \"SILVER MAPLE\", \"height_range_id\": 6}, {\"species_name\": \"HIPPOCASTANUM\", \"neighbourhood_name\": \"Kensington-Cedar Cottage\", \"diameter\": 24.0, \"genus_name\": \"AESCULUS\", \"common_name\": \"COMMON HORSECHESTNUT\", \"height_range_id\": 5}, {\"species_name\": \"PROCERA\", \"neighbourhood_name\": \"Kerrisdale\", \"diameter\": 28.0, \"genus_name\": \"ULMUS\", \"common_name\": \"ENGLISH ELM\", \"height_range_id\": 5}, {\"species_name\": \"RUBRA\", \"neighbourhood_name\": \"Hastings-Sunrise\", \"diameter\": 41.0, \"genus_name\": \"QUERCUS\", \"common_name\": \"RED OAK\", \"height_range_id\": 5}, {\"species_name\": \"GLABRA\", \"neighbourhood_name\": \"Kitsilano\", \"diameter\": 26.0, \"genus_name\": \"ULMUS\", \"common_name\": \"SCOTS ELM\", \"height_range_id\": 7}, {\"species_name\": \"BIGNONIOIDES\", \"neighbourhood_name\": \"Kitsilano\", \"diameter\": 32.5, \"genus_name\": \"CATALPA\", \"common_name\": \"COMMON CATALPA\", \"height_range_id\": 5}, {\"species_name\": \"SACCHARINUM\", \"neighbourhood_name\": \"Killarney\", \"diameter\": 25.0, \"genus_name\": \"ACER\", \"common_name\": \"SILVER MAPLE\", \"height_range_id\": 4}, {\"species_name\": \"HIPPOCASTANUM\", \"neighbourhood_name\": \"Kerrisdale\", \"diameter\": 25.5, \"genus_name\": \"AESCULUS\", \"common_name\": \"COMMON HORSECHESTNUT\", \"height_range_id\": 5}, {\"species_name\": \"BIGNONIOIDES\", \"neighbourhood_name\": \"Dunbar-Southlands\", \"diameter\": 31.0, \"genus_name\": \"CATALPA\", \"common_name\": \"COMMON CATALPA\", \"height_range_id\": 4}, {\"species_name\": \"HIPPOCASTANUM\", \"neighbourhood_name\": \"Kitsilano\", \"diameter\": 26.0, \"genus_name\": \"AESCULUS\", \"common_name\": \"COMMON HORSECHESTNUT\", \"height_range_id\": 5}, {\"species_name\": \"RUBRA\", \"neighbourhood_name\": \"Grandview-Woodland\", \"diameter\": 38.0, \"genus_name\": \"QUERCUS\", \"common_name\": \"RED OAK\", \"height_range_id\": 9}, {\"species_name\": \"RUBRA\", \"neighbourhood_name\": \"Dunbar-Southlands\", \"diameter\": 30.5, \"genus_name\": \"QUERCUS\", \"common_name\": \"RED OAK\", \"height_range_id\": 6}, {\"species_name\": \"HIPPOCASTANUM\", \"neighbourhood_name\": \"Kensington-Cedar Cottage\", \"diameter\": 28.0, \"genus_name\": \"AESCULUS\", \"common_name\": \"COMMON HORSECHESTNUT\", \"height_range_id\": 5}, {\"species_name\": \"BIGNONIOIDES\", \"neighbourhood_name\": \"Kitsilano\", \"diameter\": 23.0, \"genus_name\": \"CATALPA\", \"common_name\": \"COMMON CATALPA\", \"height_range_id\": 6}, {\"species_name\": \"HIPPOCASTANUM\", \"neighbourhood_name\": \"Mount Pleasant\", \"diameter\": 23.0, \"genus_name\": \"AESCULUS\", \"common_name\": \"COMMON HORSECHESTNUT\", \"height_range_id\": 5}, {\"species_name\": \"HIPPOCASTANUM\", \"neighbourhood_name\": \"Kitsilano\", \"diameter\": 22.5, \"genus_name\": \"AESCULUS\", \"common_name\": \"COMMON HORSECHESTNUT\", \"height_range_id\": 5}, {\"species_name\": \"HIPPOCASTANUM\", \"neighbourhood_name\": \"Fairview\", \"diameter\": 22.0, \"genus_name\": \"AESCULUS\", \"common_name\": \"COMMON HORSECHESTNUT\", \"height_range_id\": 4}, {\"species_name\": \"SITCHENSIS\", \"neighbourhood_name\": \"Renfrew-Collingwood\", \"diameter\": 26.0, \"genus_name\": \"PICEA\", \"common_name\": \"SITKA SPRUCE\", \"height_range_id\": 6}, {\"species_name\": \"PROCERA\", \"neighbourhood_name\": \"Shaughnessy\", \"diameter\": 36.0, \"genus_name\": \"ULMUS\", \"common_name\": \"ENGLISH ELM\", \"height_range_id\": 6}, {\"species_name\": \"PROCERA\", \"neighbourhood_name\": \"Kerrisdale\", \"diameter\": 20.0, \"genus_name\": \"ULMUS\", \"common_name\": \"ENGLISH ELM\", \"height_range_id\": 5}, {\"species_name\": \"RUBRA\", \"neighbourhood_name\": \"Downtown\", \"diameter\": 11.0, \"genus_name\": \"QUERCUS\", \"common_name\": \"RED OAK\", \"height_range_id\": 2}, {\"species_name\": \"TRICHOCARPA\", \"neighbourhood_name\": \"West End\", \"diameter\": 40.0, \"genus_name\": \"POPULUS\", \"common_name\": \"BLACK COTTONWOOD\", \"height_range_id\": 6}, {\"species_name\": \"MACROCARPA\", \"neighbourhood_name\": \"Dunbar-Southlands\", \"diameter\": 27.0, \"genus_name\": \"QUERCUS\", \"common_name\": \"BUR OAK\", \"height_range_id\": 8}, {\"species_name\": \"RUBRA\", \"neighbourhood_name\": \"Fairview\", \"diameter\": 11.0, \"genus_name\": \"QUERCUS\", \"common_name\": \"RED OAK\", \"height_range_id\": 3}, {\"species_name\": \"HIPPOCASTANUM\", \"neighbourhood_name\": \"West Point Grey\", \"diameter\": 30.5, \"genus_name\": \"AESCULUS\", \"common_name\": \"COMMON HORSECHESTNUT\", \"height_range_id\": 5}, {\"species_name\": \"HETEROPHYLLA\", \"neighbourhood_name\": \"Hastings-Sunrise\", \"diameter\": 8.0, \"genus_name\": \"TSUGA\", \"common_name\": \"WESTERN HEMLOCK\", \"height_range_id\": 4}, {\"species_name\": \"DEODARA\", \"neighbourhood_name\": \"Sunset\", \"diameter\": 22.0, \"genus_name\": \"CEDRUS\", \"common_name\": \"DEODAR CEDAR\", \"height_range_id\": 5}, {\"species_name\": \"GLABRA\", \"neighbourhood_name\": \"Fairview\", \"diameter\": 16.5, \"genus_name\": \"ULMUS\", \"common_name\": \"SCOTS ELM\", \"height_range_id\": 5}, {\"species_name\": \"HIPPOCASTANUM\", \"neighbourhood_name\": \"Shaughnessy\", \"diameter\": 20.0, \"genus_name\": \"AESCULUS\", \"common_name\": \"COMMON HORSECHESTNUT\", \"height_range_id\": 5}, {\"species_name\": \"HIPPOCASTANUM\", \"neighbourhood_name\": \"Dunbar-Southlands\", \"diameter\": 23.0, \"genus_name\": \"AESCULUS\", \"common_name\": \"COMMON HORSECHESTNUT\", \"height_range_id\": 6}, {\"species_name\": \"RUBRA\", \"neighbourhood_name\": \"Dunbar-Southlands\", \"diameter\": 37.0, \"genus_name\": \"QUERCUS\", \"common_name\": \"RED OAK\", \"height_range_id\": 7}, {\"species_name\": \"SACCHARINUM\", \"neighbourhood_name\": \"Kensington-Cedar Cottage\", \"diameter\": 28.5, \"genus_name\": \"ACER\", \"common_name\": \"SILVER MAPLE\", \"height_range_id\": 5}, {\"species_name\": \"SACCHARINUM\", \"neighbourhood_name\": \"Shaughnessy\", \"diameter\": 31.0, \"genus_name\": \"ACER\", \"common_name\": \"SILVER MAPLE\", \"height_range_id\": 9}, {\"species_name\": \"HIPPOCASTANUM\", \"neighbourhood_name\": \"Shaughnessy\", \"diameter\": 19.0, \"genus_name\": \"AESCULUS\", \"common_name\": \"COMMON HORSECHESTNUT\", \"height_range_id\": 4}, {\"species_name\": \"HIPPOCASTANUM\", \"neighbourhood_name\": \"Fairview\", \"diameter\": 40.0, \"genus_name\": \"AESCULUS\", \"common_name\": \"COMMON HORSECHESTNUT\", \"height_range_id\": 6}, {\"species_name\": \"RUBRA\", \"neighbourhood_name\": \"Sunset\", \"diameter\": 10.5, \"genus_name\": \"QUERCUS\", \"common_name\": \"RED OAK\", \"height_range_id\": 3}, {\"species_name\": \"HIPPOCASTANUM\", \"neighbourhood_name\": \"Kitsilano\", \"diameter\": 30.0, \"genus_name\": \"AESCULUS\", \"common_name\": \"COMMON HORSECHESTNUT\", \"height_range_id\": 6}, {\"species_name\": \"HIPPOCASTANUM\", \"neighbourhood_name\": \"Dunbar-Southlands\", \"diameter\": 37.5, \"genus_name\": \"AESCULUS\", \"common_name\": \"COMMON HORSECHESTNUT\", \"height_range_id\": 5}, {\"species_name\": \"HIPPOCASTANUM\", \"neighbourhood_name\": \"Dunbar-Southlands\", \"diameter\": 29.5, \"genus_name\": \"AESCULUS\", \"common_name\": \"COMMON HORSECHESTNUT\", \"height_range_id\": 5}, {\"species_name\": \"RUBRA\", \"neighbourhood_name\": \"Marpole\", \"diameter\": 19.0, \"genus_name\": \"QUERCUS\", \"common_name\": \"RED OAK\", \"height_range_id\": 4}, {\"species_name\": \"SACCHARINUM\", \"neighbourhood_name\": \"West Point Grey\", \"diameter\": 46.0, \"genus_name\": \"ACER\", \"common_name\": \"SILVER MAPLE\", \"height_range_id\": 8}, {\"species_name\": \"HIPPOCASTANUM\", \"neighbourhood_name\": \"Marpole\", \"diameter\": 23.0, \"genus_name\": \"AESCULUS\", \"common_name\": \"COMMON HORSECHESTNUT\", \"height_range_id\": 4}, {\"species_name\": \"BIGNONIOIDES\", \"neighbourhood_name\": \"Kitsilano\", \"diameter\": 26.0, \"genus_name\": \"CATALPA\", \"common_name\": \"COMMON CATALPA\", \"height_range_id\": 5}, {\"species_name\": \"HIPPOCASTANUM\", \"neighbourhood_name\": \"Dunbar-Southlands\", \"diameter\": 31.0, \"genus_name\": \"AESCULUS\", \"common_name\": \"COMMON HORSECHESTNUT\", \"height_range_id\": 5}, {\"species_name\": \"SACCHARINUM\", \"neighbourhood_name\": \"Downtown\", \"diameter\": 28.0, \"genus_name\": \"ACER\", \"common_name\": \"CUTLEAF SILVER MAPLE\", \"height_range_id\": 7}, {\"species_name\": \"RUBRA\", \"neighbourhood_name\": \"West End\", \"diameter\": 19.0, \"genus_name\": \"QUERCUS\", \"common_name\": \"RED OAK\", \"height_range_id\": 4}, {\"species_name\": \"RUBRA\", \"neighbourhood_name\": \"Marpole\", \"diameter\": 30.25, \"genus_name\": \"QUERCUS\", \"common_name\": \"RED OAK\", \"height_range_id\": 4}, {\"species_name\": \"HIPPOCASTANUM\", \"neighbourhood_name\": \"Shaughnessy\", \"diameter\": 24.5, \"genus_name\": \"AESCULUS\", \"common_name\": \"COMMON HORSECHESTNUT\", \"height_range_id\": 4}, {\"species_name\": \"RUBRA\", \"neighbourhood_name\": \"Hastings-Sunrise\", \"diameter\": 38.0, \"genus_name\": \"QUERCUS\", \"common_name\": \"RED OAK\", \"height_range_id\": 7}, {\"species_name\": \"HIPPOCASTANUM\", \"neighbourhood_name\": \"Kitsilano\", \"diameter\": 26.0, \"genus_name\": \"AESCULUS\", \"common_name\": \"COMMON HORSECHESTNUT\", \"height_range_id\": 5}, {\"species_name\": \"PROCERA\", \"neighbourhood_name\": \"South Cambie\", \"diameter\": 33.5, \"genus_name\": \"ULMUS\", \"common_name\": \"ENGLISH ELM\", \"height_range_id\": 6}, {\"species_name\": \"RUBRA\", \"neighbourhood_name\": \"Renfrew-Collingwood\", \"diameter\": 17.5, \"genus_name\": \"QUERCUS\", \"common_name\": \"RED OAK\", \"height_range_id\": 4}, {\"species_name\": \"RUBRA\", \"neighbourhood_name\": \"Renfrew-Collingwood\", \"diameter\": 13.5, \"genus_name\": \"QUERCUS\", \"common_name\": \"RED OAK\", \"height_range_id\": 5}, {\"species_name\": \"HIPPOCASTANUM\", \"neighbourhood_name\": \"Shaughnessy\", \"diameter\": 35.0, \"genus_name\": \"AESCULUS\", \"common_name\": \"COMMON HORSECHESTNUT\", \"height_range_id\": 6}, {\"species_name\": \"RUBRA\", \"neighbourhood_name\": \"Arbutus-Ridge\", \"diameter\": 31.5, \"genus_name\": \"QUERCUS\", \"common_name\": \"RED OAK\", \"height_range_id\": 8}, {\"species_name\": \"SACCHARINUM\", \"neighbourhood_name\": \"Kitsilano\", \"diameter\": 21.0, \"genus_name\": \"ACER\", \"common_name\": \"SILVER MAPLE\", \"height_range_id\": 6}, {\"species_name\": \"RUBRA\", \"neighbourhood_name\": \"Hastings-Sunrise\", \"diameter\": 23.0, \"genus_name\": \"QUERCUS\", \"common_name\": \"RED OAK\", \"height_range_id\": 4}, {\"species_name\": \"HIPPOCASTANUM\", \"neighbourhood_name\": \"West End\", \"diameter\": 18.0, \"genus_name\": \"AESCULUS\", \"common_name\": \"COMMON HORSECHESTNUT\", \"height_range_id\": 4}, {\"species_name\": \"HIPPOCASTANUM\", \"neighbourhood_name\": \"Arbutus-Ridge\", \"diameter\": 26.0, \"genus_name\": \"AESCULUS\", \"common_name\": \"COMMON HORSECHESTNUT\", \"height_range_id\": 6}, {\"species_name\": \"BIGNONIOIDES\", \"neighbourhood_name\": \"Fairview\", \"diameter\": 46.0, \"genus_name\": \"CATALPA\", \"common_name\": \"COMMON CATALPA\", \"height_range_id\": 6}, {\"species_name\": \"DEODARA\", \"neighbourhood_name\": \"Fairview\", \"diameter\": 24.5, \"genus_name\": \"CEDRUS\", \"common_name\": \"DEODAR CEDAR\", \"height_range_id\": 4}, {\"species_name\": \"HIPPOCASTANUM\", \"neighbourhood_name\": \"Victoria-Fraserview\", \"diameter\": 19.5, \"genus_name\": \"AESCULUS\", \"common_name\": \"COMMON HORSECHESTNUT\", \"height_range_id\": 5}, {\"species_name\": \"HIPPOCASTANUM\", \"neighbourhood_name\": \"Dunbar-Southlands\", \"diameter\": 28.0, \"genus_name\": \"AESCULUS\", \"common_name\": \"COMMON HORSECHESTNUT\", \"height_range_id\": 4}, {\"species_name\": \"RUBRA\", \"neighbourhood_name\": \"Renfrew-Collingwood\", \"diameter\": 22.0, \"genus_name\": \"QUERCUS\", \"common_name\": \"RED OAK\", \"height_range_id\": 5}, {\"species_name\": \"RUBRA\", \"neighbourhood_name\": \"Grandview-Woodland\", \"diameter\": 51.0, \"genus_name\": \"QUERCUS\", \"common_name\": \"RED OAK\", \"height_range_id\": 7}, {\"species_name\": \"MACROCARPA\", \"neighbourhood_name\": \"Dunbar-Southlands\", \"diameter\": 21.0, \"genus_name\": \"QUERCUS\", \"common_name\": \"BUR OAK\", \"height_range_id\": 4}, {\"species_name\": \"HIPPOCASTANUM\", \"neighbourhood_name\": \"Kerrisdale\", \"diameter\": 28.0, \"genus_name\": \"AESCULUS\", \"common_name\": \"COMMON HORSECHESTNUT\", \"height_range_id\": 7}, {\"species_name\": \"HIPPOCASTANUM\", \"neighbourhood_name\": \"Marpole\", \"diameter\": 32.0, \"genus_name\": \"AESCULUS\", \"common_name\": \"COMMON HORSECHESTNUT\", \"height_range_id\": 6}, {\"species_name\": \"RUBRA\", \"neighbourhood_name\": \"Kensington-Cedar Cottage\", \"diameter\": 28.0, \"genus_name\": \"QUERCUS\", \"common_name\": \"RED OAK\", \"height_range_id\": 6}, {\"species_name\": \"DEODARA\", \"neighbourhood_name\": \"Fairview\", \"diameter\": 24.0, \"genus_name\": \"CEDRUS\", \"common_name\": \"DEODAR CEDAR\", \"height_range_id\": 4}, {\"species_name\": \"SACCHARINUM\", \"neighbourhood_name\": \"Shaughnessy\", \"diameter\": 19.0, \"genus_name\": \"ACER\", \"common_name\": \"SILVER MAPLE\", \"height_range_id\": 5}, {\"species_name\": \"RUBRA\", \"neighbourhood_name\": \"Kitsilano\", \"diameter\": 18.0, \"genus_name\": \"QUERCUS\", \"common_name\": \"RED OAK\", \"height_range_id\": 5}, {\"species_name\": \"BIGNONIOIDES\", \"neighbourhood_name\": \"Kitsilano\", \"diameter\": 18.0, \"genus_name\": \"CATALPA\", \"common_name\": \"COMMON CATALPA\", \"height_range_id\": 5}, {\"species_name\": \"RUBRA\", \"neighbourhood_name\": \"West End\", \"diameter\": 10.5, \"genus_name\": \"QUERCUS\", \"common_name\": \"RED OAK\", \"height_range_id\": 4}, {\"species_name\": \"HIPPOCASTANUM\", \"neighbourhood_name\": \"Kitsilano\", \"diameter\": 26.0, \"genus_name\": \"AESCULUS\", \"common_name\": \"COMMON HORSECHESTNUT\", \"height_range_id\": 6}, {\"species_name\": \"HIPPOCASTANUM\", \"neighbourhood_name\": \"Mount Pleasant\", \"diameter\": 30.0, \"genus_name\": \"AESCULUS\", \"common_name\": \"COMMON HORSECHESTNUT\", \"height_range_id\": 4}, {\"species_name\": \"RUBRA\", \"neighbourhood_name\": \"Strathcona\", \"diameter\": 23.0, \"genus_name\": \"QUERCUS\", \"common_name\": \"RED OAK\", \"height_range_id\": 4}, {\"species_name\": \"HIPPOCASTANUM\", \"neighbourhood_name\": \"Grandview-Woodland\", \"diameter\": 18.0, \"genus_name\": \"AESCULUS\", \"common_name\": \"COMMON HORSECHESTNUT\", \"height_range_id\": 4}, {\"species_name\": \"HETEROPHYLLA\", \"neighbourhood_name\": \"Riley Park\", \"diameter\": 31.0, \"genus_name\": \"TSUGA\", \"common_name\": \"WESTERN HEMLOCK\", \"height_range_id\": 5}, {\"species_name\": \"HIPPOCASTANUM\", \"neighbourhood_name\": \"Marpole\", \"diameter\": 31.0, \"genus_name\": \"AESCULUS\", \"common_name\": \"COMMON HORSECHESTNUT\", \"height_range_id\": 5}, {\"species_name\": \"HIPPOCASTANUM\", \"neighbourhood_name\": \"Riley Park\", \"diameter\": 34.0, \"genus_name\": \"AESCULUS\", \"common_name\": \"COMMON HORSECHESTNUT\", \"height_range_id\": 5}, {\"species_name\": \"HIPPOCASTANUM\", \"neighbourhood_name\": \"Kitsilano\", \"diameter\": 30.0, \"genus_name\": \"AESCULUS\", \"common_name\": \"COMMON HORSECHESTNUT\", \"height_range_id\": 5}, {\"species_name\": \"HIPPOCASTANUM\", \"neighbourhood_name\": \"Mount Pleasant\", \"diameter\": 26.5, \"genus_name\": \"AESCULUS\", \"common_name\": \"COMMON HORSECHESTNUT\", \"height_range_id\": 4}, {\"species_name\": \"GLABRA\", \"neighbourhood_name\": \"Dunbar-Southlands\", \"diameter\": 35.0, \"genus_name\": \"ULMUS\", \"common_name\": \"SCOTS ELM\", \"height_range_id\": 8}, {\"species_name\": \"BIGNONIOIDES\", \"neighbourhood_name\": \"Kitsilano\", \"diameter\": 26.0, \"genus_name\": \"CATALPA\", \"common_name\": \"COMMON CATALPA\", \"height_range_id\": 6}, {\"species_name\": \"HIPPOCASTANUM\", \"neighbourhood_name\": \"Arbutus-Ridge\", \"diameter\": 19.0, \"genus_name\": \"AESCULUS\", \"common_name\": \"COMMON HORSECHESTNUT\", \"height_range_id\": 4}, {\"species_name\": \"DEODARA\", \"neighbourhood_name\": \"Downtown\", \"diameter\": 11.0, \"genus_name\": \"CEDRUS\", \"common_name\": \"DEODAR CEDAR\", \"height_range_id\": 4}, {\"species_name\": \"RUBRA\", \"neighbourhood_name\": \"Dunbar-Southlands\", \"diameter\": 35.0, \"genus_name\": \"QUERCUS\", \"common_name\": \"RED OAK\", \"height_range_id\": 7}, {\"species_name\": \"DEODARA\", \"neighbourhood_name\": \"Kitsilano\", \"diameter\": 50.0, \"genus_name\": \"CEDRUS\", \"common_name\": \"DEODAR CEDAR\", \"height_range_id\": 5}, {\"species_name\": \"BIGNONIOIDES\", \"neighbourhood_name\": \"West Point Grey\", \"diameter\": 23.5, \"genus_name\": \"CATALPA\", \"common_name\": \"COMMON CATALPA\", \"height_range_id\": 5}, {\"species_name\": \"HIPPOCASTANUM\", \"neighbourhood_name\": \"Marpole\", \"diameter\": 27.0, \"genus_name\": \"AESCULUS\", \"common_name\": \"COMMON HORSECHESTNUT\", \"height_range_id\": 5}, {\"species_name\": \"GLABRA\", \"neighbourhood_name\": \"Dunbar-Southlands\", \"diameter\": 24.0, \"genus_name\": \"ULMUS\", \"common_name\": \"SCOTS ELM\", \"height_range_id\": 7}, {\"species_name\": \"RUBRA\", \"neighbourhood_name\": \"Downtown\", \"diameter\": 7.0, \"genus_name\": \"QUERCUS\", \"common_name\": \"RED OAK\", \"height_range_id\": 4}, {\"species_name\": \"MACROCARPA\", \"neighbourhood_name\": \"Dunbar-Southlands\", \"diameter\": 25.0, \"genus_name\": \"QUERCUS\", \"common_name\": \"BUR OAK\", \"height_range_id\": 4}, {\"species_name\": \"RUBRA\", \"neighbourhood_name\": \"Kensington-Cedar Cottage\", \"diameter\": 32.0, \"genus_name\": \"QUERCUS\", \"common_name\": \"RED OAK\", \"height_range_id\": 6}]}}, {\"mode\": \"vega-lite\"});\n",
       "</script>"
      ],
      "text/plain": [
       "alt.Chart(...)"
      ]
     },
     "execution_count": 9,
     "metadata": {},
     "output_type": "execute_result"
    }
   ],
   "source": [
    "alt.Chart(largest_species).mark_rect().encode(\n",
    "    alt.Color('count()'),\n",
    "    alt.X('species_name'),\n",
    "    alt.Y('neighbourhood_name', sort='color'))"
   ]
  },
  {
   "cell_type": "markdown",
   "metadata": {},
   "source": [
    "We can also create a similar visualization that uses both size and color to determine the counts. "
   ]
  },
  {
   "cell_type": "code",
   "execution_count": 10,
   "metadata": {},
   "outputs": [
    {
     "data": {
      "text/html": [
       "\n",
       "<div id=\"altair-viz-6a6173b249bd430a918cbf76ec710c18\"></div>\n",
       "<script type=\"text/javascript\">\n",
       "  (function(spec, embedOpt){\n",
       "    let outputDiv = document.currentScript.previousElementSibling;\n",
       "    if (outputDiv.id !== \"altair-viz-6a6173b249bd430a918cbf76ec710c18\") {\n",
       "      outputDiv = document.getElementById(\"altair-viz-6a6173b249bd430a918cbf76ec710c18\");\n",
       "    }\n",
       "    const paths = {\n",
       "      \"vega\": \"https://cdn.jsdelivr.net/npm//vega@5?noext\",\n",
       "      \"vega-lib\": \"https://cdn.jsdelivr.net/npm//vega-lib?noext\",\n",
       "      \"vega-lite\": \"https://cdn.jsdelivr.net/npm//vega-lite@4.8.1?noext\",\n",
       "      \"vega-embed\": \"https://cdn.jsdelivr.net/npm//vega-embed@6?noext\",\n",
       "    };\n",
       "\n",
       "    function loadScript(lib) {\n",
       "      return new Promise(function(resolve, reject) {\n",
       "        var s = document.createElement('script');\n",
       "        s.src = paths[lib];\n",
       "        s.async = true;\n",
       "        s.onload = () => resolve(paths[lib]);\n",
       "        s.onerror = () => reject(`Error loading script: ${paths[lib]}`);\n",
       "        document.getElementsByTagName(\"head\")[0].appendChild(s);\n",
       "      });\n",
       "    }\n",
       "\n",
       "    function showError(err) {\n",
       "      outputDiv.innerHTML = `<div class=\"error\" style=\"color:red;\">${err}</div>`;\n",
       "      throw err;\n",
       "    }\n",
       "\n",
       "    function displayChart(vegaEmbed) {\n",
       "      vegaEmbed(outputDiv, spec, embedOpt)\n",
       "        .catch(err => showError(`Javascript Error: ${err.message}<br>This usually means there's a typo in your chart specification. See the javascript console for the full traceback.`));\n",
       "    }\n",
       "\n",
       "    if(typeof define === \"function\" && define.amd) {\n",
       "      requirejs.config({paths});\n",
       "      require([\"vega-embed\"], displayChart, err => showError(`Error loading script: ${err.message}`));\n",
       "    } else if (typeof vegaEmbed === \"function\") {\n",
       "      displayChart(vegaEmbed);\n",
       "    } else {\n",
       "      loadScript(\"vega\")\n",
       "        .then(() => loadScript(\"vega-lite\"))\n",
       "        .then(() => loadScript(\"vega-embed\"))\n",
       "        .catch(showError)\n",
       "        .then(() => displayChart(vegaEmbed));\n",
       "    }\n",
       "  })({\"config\": {\"view\": {\"continuousWidth\": 400, \"continuousHeight\": 300}}, \"data\": {\"name\": \"data-c822e0050adccb6005b5bcd4a3481b82\"}, \"mark\": \"circle\", \"encoding\": {\"color\": {\"type\": \"quantitative\", \"aggregate\": \"count\"}, \"size\": {\"type\": \"quantitative\", \"aggregate\": \"count\"}, \"x\": {\"type\": \"nominal\", \"field\": \"species_name\"}, \"y\": {\"type\": \"nominal\", \"field\": \"neighbourhood_name\", \"sort\": \"color\"}}, \"$schema\": \"https://vega.github.io/schema/vega-lite/v4.8.1.json\", \"datasets\": {\"data-c822e0050adccb6005b5bcd4a3481b82\": [{\"species_name\": \"HIPPOCASTANUM\", \"neighbourhood_name\": \"Shaughnessy\", \"diameter\": 15.5, \"genus_name\": \"AESCULUS\", \"common_name\": \"COMMON HORSECHESTNUT\", \"height_range_id\": 4}, {\"species_name\": \"BIGNONIOIDES\", \"neighbourhood_name\": \"West Point Grey\", \"diameter\": 25.0, \"genus_name\": \"CATALPA\", \"common_name\": \"COMMON CATALPA\", \"height_range_id\": 4}, {\"species_name\": \"RUBRA\", \"neighbourhood_name\": \"Grandview-Woodland\", \"diameter\": 41.0, \"genus_name\": \"QUERCUS\", \"common_name\": \"RED OAK\", \"height_range_id\": 7}, {\"species_name\": \"HIPPOCASTANUM\", \"neighbourhood_name\": \"Victoria-Fraserview\", \"diameter\": 24.0, \"genus_name\": \"AESCULUS\", \"common_name\": \"COMMON HORSECHESTNUT\", \"height_range_id\": 5}, {\"species_name\": \"BIGNONIOIDES\", \"neighbourhood_name\": \"Renfrew-Collingwood\", \"diameter\": 24.5, \"genus_name\": \"CATALPA\", \"common_name\": \"COMMON CATALPA\", \"height_range_id\": 5}, {\"species_name\": \"HIPPOCASTANUM\", \"neighbourhood_name\": \"Mount Pleasant\", \"diameter\": 27.0, \"genus_name\": \"AESCULUS\", \"common_name\": \"COMMON HORSECHESTNUT\", \"height_range_id\": 5}, {\"species_name\": \"GLABRA\", \"neighbourhood_name\": \"Dunbar-Southlands\", \"diameter\": 24.0, \"genus_name\": \"ULMUS\", \"common_name\": \"SCOTS ELM\", \"height_range_id\": 5}, {\"species_name\": \"RUBRA\", \"neighbourhood_name\": \"Hastings-Sunrise\", \"diameter\": 40.0, \"genus_name\": \"QUERCUS\", \"common_name\": \"RED OAK\", \"height_range_id\": 7}, {\"species_name\": \"REGIA\", \"neighbourhood_name\": \"Kensington-Cedar Cottage\", \"diameter\": 29.0, \"genus_name\": \"JUGLANS\", \"common_name\": \"ENGLISH WALNUT\", \"height_range_id\": 5}, {\"species_name\": \"HIPPOCASTANUM\", \"neighbourhood_name\": \"Grandview-Woodland\", \"diameter\": 22.0, \"genus_name\": \"AESCULUS\", \"common_name\": \"COMMON HORSECHESTNUT\", \"height_range_id\": 5}, {\"species_name\": \"HOLLANDICA   X\", \"neighbourhood_name\": \"Arbutus-Ridge\", \"diameter\": 24.0, \"genus_name\": \"ULMUS\", \"common_name\": \"DUTCH ELM\", \"height_range_id\": 7}, {\"species_name\": \"RUBRA\", \"neighbourhood_name\": \"Kerrisdale\", \"diameter\": 15.0, \"genus_name\": \"ALNUS\", \"common_name\": \"RED ALDER\", \"height_range_id\": 5}, {\"species_name\": \"BIGNONIOIDES\", \"neighbourhood_name\": \"Kitsilano\", \"diameter\": 34.0, \"genus_name\": \"CATALPA\", \"common_name\": \"COMMON CATALPA\", \"height_range_id\": 7}, {\"species_name\": \"RUBRA\", \"neighbourhood_name\": \"Hastings-Sunrise\", \"diameter\": 33.0, \"genus_name\": \"QUERCUS\", \"common_name\": \"RED OAK\", \"height_range_id\": 7}, {\"species_name\": \"RUBRA\", \"neighbourhood_name\": \"Dunbar-Southlands\", \"diameter\": 34.0, \"genus_name\": \"QUERCUS\", \"common_name\": \"RED OAK\", \"height_range_id\": 8}, {\"species_name\": \"PROCERA\", \"neighbourhood_name\": \"Marpole\", \"diameter\": 21.0, \"genus_name\": \"ULMUS\", \"common_name\": \"ENGLISH ELM\", \"height_range_id\": 4}, {\"species_name\": \"RUBRA\", \"neighbourhood_name\": \"Dunbar-Southlands\", \"diameter\": 49.5, \"genus_name\": \"QUERCUS\", \"common_name\": \"RED OAK\", \"height_range_id\": 6}, {\"species_name\": \"HIPPOCASTANUM\", \"neighbourhood_name\": \"Shaughnessy\", \"diameter\": 27.0, \"genus_name\": \"AESCULUS\", \"common_name\": \"COMMON HORSECHESTNUT\", \"height_range_id\": 4}, {\"species_name\": \"DEODARA\", \"neighbourhood_name\": \"Dunbar-Southlands\", \"diameter\": 12.0, \"genus_name\": \"CEDRUS\", \"common_name\": \"DEODAR CEDAR\", \"height_range_id\": 4}, {\"species_name\": \"BIGNONIOIDES\", \"neighbourhood_name\": \"Kitsilano\", \"diameter\": 34.0, \"genus_name\": \"CATALPA\", \"common_name\": \"COMMON CATALPA\", \"height_range_id\": 6}, {\"species_name\": \"RUBRA\", \"neighbourhood_name\": \"Dunbar-Southlands\", \"diameter\": 32.0, \"genus_name\": \"QUERCUS\", \"common_name\": \"RED OAK\", \"height_range_id\": 6}, {\"species_name\": \"HIPPOCASTANUM\", \"neighbourhood_name\": \"Shaughnessy\", \"diameter\": 29.0, \"genus_name\": \"AESCULUS\", \"common_name\": \"COMMON HORSECHESTNUT\", \"height_range_id\": 5}, {\"species_name\": \"HIPPOCASTANUM\", \"neighbourhood_name\": \"West Point Grey\", \"diameter\": 18.0, \"genus_name\": \"AESCULUS\", \"common_name\": \"COMMON HORSECHESTNUT\", \"height_range_id\": 6}, {\"species_name\": \"HIPPOCASTANUM\", \"neighbourhood_name\": \"Kitsilano\", \"diameter\": 25.0, \"genus_name\": \"AESCULUS\", \"common_name\": \"COMMON HORSECHESTNUT\", \"height_range_id\": 7}, {\"species_name\": \"HIPPOCASTANUM\", \"neighbourhood_name\": \"Kitsilano\", \"diameter\": 28.0, \"genus_name\": \"AESCULUS\", \"common_name\": \"COMMON HORSECHESTNUT\", \"height_range_id\": 6}, {\"species_name\": \"DEODARA\", \"neighbourhood_name\": \"Fairview\", \"diameter\": 41.0, \"genus_name\": \"CEDRUS\", \"common_name\": \"DEODAR CEDAR\", \"height_range_id\": 5}, {\"species_name\": \"HIPPOCASTANUM\", \"neighbourhood_name\": \"Downtown\", \"diameter\": 10.0, \"genus_name\": \"AESCULUS\", \"common_name\": \"COMMON HORSECHESTNUT\", \"height_range_id\": 4}, {\"species_name\": \"RUBRA\", \"neighbourhood_name\": \"Strathcona\", \"diameter\": 25.5, \"genus_name\": \"QUERCUS\", \"common_name\": \"RED OAK\", \"height_range_id\": 4}, {\"species_name\": \"HIPPOCASTANUM\", \"neighbourhood_name\": \"Marpole\", \"diameter\": 7.0, \"genus_name\": \"AESCULUS\", \"common_name\": \"COMMON HORSECHESTNUT\", \"height_range_id\": 2}, {\"species_name\": \"HIPPOCASTANUM\", \"neighbourhood_name\": \"Arbutus-Ridge\", \"diameter\": 30.0, \"genus_name\": \"AESCULUS\", \"common_name\": \"COMMON HORSECHESTNUT\", \"height_range_id\": 5}, {\"species_name\": \"HIPPOCASTANUM\", \"neighbourhood_name\": \"Kensington-Cedar Cottage\", \"diameter\": 31.0, \"genus_name\": \"AESCULUS\", \"common_name\": \"COMMON HORSECHESTNUT\", \"height_range_id\": 6}, {\"species_name\": \"HIPPOCASTANUM\", \"neighbourhood_name\": \"Shaughnessy\", \"diameter\": 32.0, \"genus_name\": \"AESCULUS\", \"common_name\": \"COMMON HORSECHESTNUT\", \"height_range_id\": 6}, {\"species_name\": \"CINEREA\", \"neighbourhood_name\": \"Arbutus-Ridge\", \"diameter\": 35.5, \"genus_name\": \"JUGLANS\", \"common_name\": \"BUTTERNUT\", \"height_range_id\": 6}, {\"species_name\": \"HETEROPHYLLA\", \"neighbourhood_name\": \"Victoria-Fraserview\", \"diameter\": 30.0, \"genus_name\": \"TSUGA\", \"common_name\": \"WESTERN HEMLOCK\", \"height_range_id\": 4}, {\"species_name\": \"BIGNONIOIDES\", \"neighbourhood_name\": \"West Point Grey\", \"diameter\": 28.25, \"genus_name\": \"CATALPA\", \"common_name\": \"COMMON CATALPA\", \"height_range_id\": 5}, {\"species_name\": \"RUBRA\", \"neighbourhood_name\": \"Dunbar-Southlands\", \"diameter\": 36.0, \"genus_name\": \"QUERCUS\", \"common_name\": \"RED OAK\", \"height_range_id\": 5}, {\"species_name\": \"RUBRA\", \"neighbourhood_name\": \"Hastings-Sunrise\", \"diameter\": 27.0, \"genus_name\": \"QUERCUS\", \"common_name\": \"RED OAK\", \"height_range_id\": 6}, {\"species_name\": \"DEODARA\", \"neighbourhood_name\": \"Marpole\", \"diameter\": 3.0, \"genus_name\": \"CEDRUS\", \"common_name\": \"KASHMIR CEDAR\", \"height_range_id\": 2}, {\"species_name\": \"BIGNONIOIDES\", \"neighbourhood_name\": \"Kitsilano\", \"diameter\": 28.0, \"genus_name\": \"CATALPA\", \"common_name\": \"COMMON CATALPA\", \"height_range_id\": 6}, {\"species_name\": \"BIGNONIOIDES\", \"neighbourhood_name\": \"Kitsilano\", \"diameter\": 18.0, \"genus_name\": \"CATALPA\", \"common_name\": \"COMMON CATALPA\", \"height_range_id\": 5}, {\"species_name\": \"HIPPOCASTANUM\", \"neighbourhood_name\": \"Kitsilano\", \"diameter\": 25.0, \"genus_name\": \"AESCULUS\", \"common_name\": \"COMMON HORSECHESTNUT\", \"height_range_id\": 4}, {\"species_name\": \"RUBRA\", \"neighbourhood_name\": \"Grandview-Woodland\", \"diameter\": 43.0, \"genus_name\": \"QUERCUS\", \"common_name\": \"RED OAK\", \"height_range_id\": 7}, {\"species_name\": \"HIPPOCASTANUM\", \"neighbourhood_name\": \"Dunbar-Southlands\", \"diameter\": 31.0, \"genus_name\": \"AESCULUS\", \"common_name\": \"COMMON HORSECHESTNUT\", \"height_range_id\": 5}, {\"species_name\": \"RUBRA\", \"neighbourhood_name\": \"Grandview-Woodland\", \"diameter\": 40.0, \"genus_name\": \"QUERCUS\", \"common_name\": \"RED OAK\", \"height_range_id\": 8}, {\"species_name\": \"BIGNONIOIDES\", \"neighbourhood_name\": \"Riley Park\", \"diameter\": 24.0, \"genus_name\": \"CATALPA\", \"common_name\": \"COMMON CATALPA\", \"height_range_id\": 4}, {\"species_name\": \"RUBRA\", \"neighbourhood_name\": \"Kensington-Cedar Cottage\", \"diameter\": 25.0, \"genus_name\": \"QUERCUS\", \"common_name\": \"RED OAK\", \"height_range_id\": 5}, {\"species_name\": \"RUBRA\", \"neighbourhood_name\": \"Kitsilano\", \"diameter\": 16.0, \"genus_name\": \"QUERCUS\", \"common_name\": \"RED OAK\", \"height_range_id\": 4}, {\"species_name\": \"RUBRA\", \"neighbourhood_name\": \"Kensington-Cedar Cottage\", \"diameter\": 41.5, \"genus_name\": \"QUERCUS\", \"common_name\": \"RED OAK\", \"height_range_id\": 9}, {\"species_name\": \"RUBRA\", \"neighbourhood_name\": \"Killarney\", \"diameter\": 17.0, \"genus_name\": \"QUERCUS\", \"common_name\": \"RED OAK\", \"height_range_id\": 4}, {\"species_name\": \"HIPPOCASTANUM\", \"neighbourhood_name\": \"Kitsilano\", \"diameter\": 35.0, \"genus_name\": \"AESCULUS\", \"common_name\": \"COMMON HORSECHESTNUT\", \"height_range_id\": 6}, {\"species_name\": \"HIPPOCASTANUM\", \"neighbourhood_name\": \"Kerrisdale\", \"diameter\": 31.0, \"genus_name\": \"AESCULUS\", \"common_name\": \"COMMON HORSECHESTNUT\", \"height_range_id\": 5}, {\"species_name\": \"HIPPOCASTANUM\", \"neighbourhood_name\": \"Hastings-Sunrise\", \"diameter\": 38.0, \"genus_name\": \"AESCULUS\", \"common_name\": \"COMMON HORSECHESTNUT\", \"height_range_id\": 5}, {\"species_name\": \"PROCERA\", \"neighbourhood_name\": \"South Cambie\", \"diameter\": 12.0, \"genus_name\": \"ULMUS\", \"common_name\": \"ENGLISH ELM\", \"height_range_id\": 5}, {\"species_name\": \"RUBRA\", \"neighbourhood_name\": \"Hastings-Sunrise\", \"diameter\": 39.0, \"genus_name\": \"QUERCUS\", \"common_name\": \"RED OAK\", \"height_range_id\": 7}, {\"species_name\": \"TRICHOCARPA\", \"neighbourhood_name\": \"Renfrew-Collingwood\", \"diameter\": 38.5, \"genus_name\": \"POPULUS\", \"common_name\": \"BLACK COTTONWOOD\", \"height_range_id\": 8}, {\"species_name\": \"HIPPOCASTANUM\", \"neighbourhood_name\": \"Kitsilano\", \"diameter\": 15.0, \"genus_name\": \"AESCULUS\", \"common_name\": \"COMMON HORSECHESTNUT\", \"height_range_id\": 3}, {\"species_name\": \"RUBRA\", \"neighbourhood_name\": \"Dunbar-Southlands\", \"diameter\": 30.0, \"genus_name\": \"QUERCUS\", \"common_name\": \"RED OAK\", \"height_range_id\": 4}, {\"species_name\": \"HIPPOCASTANUM\", \"neighbourhood_name\": \"Dunbar-Southlands\", \"diameter\": 24.0, \"genus_name\": \"AESCULUS\", \"common_name\": \"COMMON HORSECHESTNUT\", \"height_range_id\": 6}, {\"species_name\": \"DEODARA\", \"neighbourhood_name\": \"Kitsilano\", \"diameter\": 71.0, \"genus_name\": \"CEDRUS\", \"common_name\": \"DEODAR CEDAR\", \"height_range_id\": 5}, {\"species_name\": \"RUBRA\", \"neighbourhood_name\": \"Marpole\", \"diameter\": 21.5, \"genus_name\": \"QUERCUS\", \"common_name\": \"RED OAK\", \"height_range_id\": 4}, {\"species_name\": \"RUBRA\", \"neighbourhood_name\": \"Victoria-Fraserview\", \"diameter\": 20.5, \"genus_name\": \"QUERCUS\", \"common_name\": \"RED OAK\", \"height_range_id\": 7}, {\"species_name\": \"RUBRA\", \"neighbourhood_name\": \"Dunbar-Southlands\", \"diameter\": 45.0, \"genus_name\": \"QUERCUS\", \"common_name\": \"RED OAK\", \"height_range_id\": 6}, {\"species_name\": \"HIPPOCASTANUM\", \"neighbourhood_name\": \"Fairview\", \"diameter\": 44.0, \"genus_name\": \"AESCULUS\", \"common_name\": \"COMMON HORSECHESTNUT\", \"height_range_id\": 6}, {\"species_name\": \"HIPPOCASTANUM\", \"neighbourhood_name\": \"Kitsilano\", \"diameter\": 24.0, \"genus_name\": \"AESCULUS\", \"common_name\": \"COMMON HORSECHESTNUT\", \"height_range_id\": 5}, {\"species_name\": \"GLABRA\", \"neighbourhood_name\": \"Dunbar-Southlands\", \"diameter\": 24.0, \"genus_name\": \"ULMUS\", \"common_name\": \"SCOTS ELM\", \"height_range_id\": 6}, {\"species_name\": \"PROCERA\", \"neighbourhood_name\": \"Kerrisdale\", \"diameter\": 36.0, \"genus_name\": \"ULMUS\", \"common_name\": \"ENGLISH ELM\", \"height_range_id\": 8}, {\"species_name\": \"SACCHARINUM\", \"neighbourhood_name\": \"Riley Park\", \"diameter\": 23.0, \"genus_name\": \"ACER\", \"common_name\": \"SILVER MAPLE\", \"height_range_id\": 4}, {\"species_name\": \"RUBRA\", \"neighbourhood_name\": \"Renfrew-Collingwood\", \"diameter\": 24.75, \"genus_name\": \"QUERCUS\", \"common_name\": \"RED OAK\", \"height_range_id\": 4}, {\"species_name\": \"RUBRA\", \"neighbourhood_name\": \"Hastings-Sunrise\", \"diameter\": 30.0, \"genus_name\": \"QUERCUS\", \"common_name\": \"RED OAK\", \"height_range_id\": 5}, {\"species_name\": \"GLABRA\", \"neighbourhood_name\": \"Dunbar-Southlands\", \"diameter\": 27.0, \"genus_name\": \"ULMUS\", \"common_name\": \"SCOTS ELM\", \"height_range_id\": 7}, {\"species_name\": \"RUBRA\", \"neighbourhood_name\": \"Killarney\", \"diameter\": 10.0, \"genus_name\": \"QUERCUS\", \"common_name\": \"RED OAK\", \"height_range_id\": 4}, {\"species_name\": \"HIPPOCASTANUM\", \"neighbourhood_name\": \"Mount Pleasant\", \"diameter\": 22.0, \"genus_name\": \"AESCULUS\", \"common_name\": \"COMMON HORSECHESTNUT\", \"height_range_id\": 5}, {\"species_name\": \"GLABRA\", \"neighbourhood_name\": \"Dunbar-Southlands\", \"diameter\": 36.0, \"genus_name\": \"ULMUS\", \"common_name\": \"SCOTS ELM\", \"height_range_id\": 7}, {\"species_name\": \"RUBRA\", \"neighbourhood_name\": \"Arbutus-Ridge\", \"diameter\": 48.0, \"genus_name\": \"QUERCUS\", \"common_name\": \"RED OAK\", \"height_range_id\": 5}, {\"species_name\": \"HIPPOCASTANUM\", \"neighbourhood_name\": \"Kerrisdale\", \"diameter\": 28.5, \"genus_name\": \"AESCULUS\", \"common_name\": \"COMMON HORSECHESTNUT\", \"height_range_id\": 6}, {\"species_name\": \"HIPPOCASTANUM\", \"neighbourhood_name\": \"Dunbar-Southlands\", \"diameter\": 24.0, \"genus_name\": \"AESCULUS\", \"common_name\": \"COMMON HORSECHESTNUT\", \"height_range_id\": 6}, {\"species_name\": \"HIPPOCASTANUM\", \"neighbourhood_name\": \"Dunbar-Southlands\", \"diameter\": 34.0, \"genus_name\": \"AESCULUS\", \"common_name\": \"COMMON HORSECHESTNUT\", \"height_range_id\": 6}, {\"species_name\": \"BIGNONIOIDES\", \"neighbourhood_name\": \"Shaughnessy\", \"diameter\": 3.0, \"genus_name\": \"CATALPA\", \"common_name\": \"UMBRELLA CATALPA\", \"height_range_id\": 2}, {\"species_name\": \"HIPPOCASTANUM\", \"neighbourhood_name\": \"Shaughnessy\", \"diameter\": 21.0, \"genus_name\": \"AESCULUS\", \"common_name\": \"COMMON HORSECHESTNUT\", \"height_range_id\": 4}, {\"species_name\": \"SACCHARINUM\", \"neighbourhood_name\": \"West End\", \"diameter\": 16.0, \"genus_name\": \"ACER\", \"common_name\": \"SILVER MAPLE\", \"height_range_id\": 4}, {\"species_name\": \"DEODARA\", \"neighbourhood_name\": \"Hastings-Sunrise\", \"diameter\": 6.0, \"genus_name\": \"CEDRUS\", \"common_name\": \"DEODAR CEDAR\", \"height_range_id\": 6}, {\"species_name\": \"HIPPOCASTANUM\", \"neighbourhood_name\": \"Dunbar-Southlands\", \"diameter\": 30.0, \"genus_name\": \"AESCULUS\", \"common_name\": \"COMMON HORSECHESTNUT\", \"height_range_id\": 6}, {\"species_name\": \"HIPPOCASTANUM\", \"neighbourhood_name\": \"Shaughnessy\", \"diameter\": 34.0, \"genus_name\": \"AESCULUS\", \"common_name\": \"COMMON HORSECHESTNUT\", \"height_range_id\": 6}, {\"species_name\": \"RUBRA\", \"neighbourhood_name\": \"Strathcona\", \"diameter\": 22.5, \"genus_name\": \"QUERCUS\", \"common_name\": \"RED OAK\", \"height_range_id\": 5}, {\"species_name\": \"HIPPOCASTANUM\", \"neighbourhood_name\": \"Kitsilano\", \"diameter\": 35.0, \"genus_name\": \"AESCULUS\", \"common_name\": \"COMMON HORSECHESTNUT\", \"height_range_id\": 7}, {\"species_name\": \"HIPPOCASTANUM\", \"neighbourhood_name\": \"Kitsilano\", \"diameter\": 23.0, \"genus_name\": \"AESCULUS\", \"common_name\": \"COMMON HORSECHESTNUT\", \"height_range_id\": 5}, {\"species_name\": \"GLABRA\", \"neighbourhood_name\": \"Dunbar-Southlands\", \"diameter\": 24.0, \"genus_name\": \"ULMUS\", \"common_name\": \"SCOTS ELM\", \"height_range_id\": 7}, {\"species_name\": \"HIPPOCASTANUM\", \"neighbourhood_name\": \"Kerrisdale\", \"diameter\": 24.0, \"genus_name\": \"AESCULUS\", \"common_name\": \"COMMON HORSECHESTNUT\", \"height_range_id\": 5}, {\"species_name\": \"BIGNONIOIDES\", \"neighbourhood_name\": \"Kitsilano\", \"diameter\": 31.0, \"genus_name\": \"CATALPA\", \"common_name\": \"COMMON CATALPA\", \"height_range_id\": 6}, {\"species_name\": \"DEODARA\", \"neighbourhood_name\": \"West Point Grey\", \"diameter\": 16.0, \"genus_name\": \"CEDRUS\", \"common_name\": \"DEODAR CEDAR\", \"height_range_id\": 3}, {\"species_name\": \"DEODARA\", \"neighbourhood_name\": \"Kitsilano\", \"diameter\": 22.0, \"genus_name\": \"CEDRUS\", \"common_name\": \"DEODAR CEDAR\", \"height_range_id\": 5}, {\"species_name\": \"HIPPOCASTANUM\", \"neighbourhood_name\": \"West End\", \"diameter\": 30.0, \"genus_name\": \"AESCULUS\", \"common_name\": \"COMMON HORSECHESTNUT\", \"height_range_id\": 6}, {\"species_name\": \"SACCHARINUM\", \"neighbourhood_name\": \"Shaughnessy\", \"diameter\": 27.0, \"genus_name\": \"ACER\", \"common_name\": \"SILVER MAPLE\", \"height_range_id\": 6}, {\"species_name\": \"HIPPOCASTANUM\", \"neighbourhood_name\": \"Kensington-Cedar Cottage\", \"diameter\": 24.0, \"genus_name\": \"AESCULUS\", \"common_name\": \"COMMON HORSECHESTNUT\", \"height_range_id\": 5}, {\"species_name\": \"PROCERA\", \"neighbourhood_name\": \"Kerrisdale\", \"diameter\": 28.0, \"genus_name\": \"ULMUS\", \"common_name\": \"ENGLISH ELM\", \"height_range_id\": 5}, {\"species_name\": \"RUBRA\", \"neighbourhood_name\": \"Hastings-Sunrise\", \"diameter\": 41.0, \"genus_name\": \"QUERCUS\", \"common_name\": \"RED OAK\", \"height_range_id\": 5}, {\"species_name\": \"GLABRA\", \"neighbourhood_name\": \"Kitsilano\", \"diameter\": 26.0, \"genus_name\": \"ULMUS\", \"common_name\": \"SCOTS ELM\", \"height_range_id\": 7}, {\"species_name\": \"BIGNONIOIDES\", \"neighbourhood_name\": \"Kitsilano\", \"diameter\": 32.5, \"genus_name\": \"CATALPA\", \"common_name\": \"COMMON CATALPA\", \"height_range_id\": 5}, {\"species_name\": \"SACCHARINUM\", \"neighbourhood_name\": \"Killarney\", \"diameter\": 25.0, \"genus_name\": \"ACER\", \"common_name\": \"SILVER MAPLE\", \"height_range_id\": 4}, {\"species_name\": \"HIPPOCASTANUM\", \"neighbourhood_name\": \"Kerrisdale\", \"diameter\": 25.5, \"genus_name\": \"AESCULUS\", \"common_name\": \"COMMON HORSECHESTNUT\", \"height_range_id\": 5}, {\"species_name\": \"BIGNONIOIDES\", \"neighbourhood_name\": \"Dunbar-Southlands\", \"diameter\": 31.0, \"genus_name\": \"CATALPA\", \"common_name\": \"COMMON CATALPA\", \"height_range_id\": 4}, {\"species_name\": \"HIPPOCASTANUM\", \"neighbourhood_name\": \"Kitsilano\", \"diameter\": 26.0, \"genus_name\": \"AESCULUS\", \"common_name\": \"COMMON HORSECHESTNUT\", \"height_range_id\": 5}, {\"species_name\": \"RUBRA\", \"neighbourhood_name\": \"Grandview-Woodland\", \"diameter\": 38.0, \"genus_name\": \"QUERCUS\", \"common_name\": \"RED OAK\", \"height_range_id\": 9}, {\"species_name\": \"RUBRA\", \"neighbourhood_name\": \"Dunbar-Southlands\", \"diameter\": 30.5, \"genus_name\": \"QUERCUS\", \"common_name\": \"RED OAK\", \"height_range_id\": 6}, {\"species_name\": \"HIPPOCASTANUM\", \"neighbourhood_name\": \"Kensington-Cedar Cottage\", \"diameter\": 28.0, \"genus_name\": \"AESCULUS\", \"common_name\": \"COMMON HORSECHESTNUT\", \"height_range_id\": 5}, {\"species_name\": \"BIGNONIOIDES\", \"neighbourhood_name\": \"Kitsilano\", \"diameter\": 23.0, \"genus_name\": \"CATALPA\", \"common_name\": \"COMMON CATALPA\", \"height_range_id\": 6}, {\"species_name\": \"HIPPOCASTANUM\", \"neighbourhood_name\": \"Mount Pleasant\", \"diameter\": 23.0, \"genus_name\": \"AESCULUS\", \"common_name\": \"COMMON HORSECHESTNUT\", \"height_range_id\": 5}, {\"species_name\": \"HIPPOCASTANUM\", \"neighbourhood_name\": \"Kitsilano\", \"diameter\": 22.5, \"genus_name\": \"AESCULUS\", \"common_name\": \"COMMON HORSECHESTNUT\", \"height_range_id\": 5}, {\"species_name\": \"HIPPOCASTANUM\", \"neighbourhood_name\": \"Fairview\", \"diameter\": 22.0, \"genus_name\": \"AESCULUS\", \"common_name\": \"COMMON HORSECHESTNUT\", \"height_range_id\": 4}, {\"species_name\": \"SITCHENSIS\", \"neighbourhood_name\": \"Renfrew-Collingwood\", \"diameter\": 26.0, \"genus_name\": \"PICEA\", \"common_name\": \"SITKA SPRUCE\", \"height_range_id\": 6}, {\"species_name\": \"PROCERA\", \"neighbourhood_name\": \"Shaughnessy\", \"diameter\": 36.0, \"genus_name\": \"ULMUS\", \"common_name\": \"ENGLISH ELM\", \"height_range_id\": 6}, {\"species_name\": \"PROCERA\", \"neighbourhood_name\": \"Kerrisdale\", \"diameter\": 20.0, \"genus_name\": \"ULMUS\", \"common_name\": \"ENGLISH ELM\", \"height_range_id\": 5}, {\"species_name\": \"RUBRA\", \"neighbourhood_name\": \"Downtown\", \"diameter\": 11.0, \"genus_name\": \"QUERCUS\", \"common_name\": \"RED OAK\", \"height_range_id\": 2}, {\"species_name\": \"TRICHOCARPA\", \"neighbourhood_name\": \"West End\", \"diameter\": 40.0, \"genus_name\": \"POPULUS\", \"common_name\": \"BLACK COTTONWOOD\", \"height_range_id\": 6}, {\"species_name\": \"MACROCARPA\", \"neighbourhood_name\": \"Dunbar-Southlands\", \"diameter\": 27.0, \"genus_name\": \"QUERCUS\", \"common_name\": \"BUR OAK\", \"height_range_id\": 8}, {\"species_name\": \"RUBRA\", \"neighbourhood_name\": \"Fairview\", \"diameter\": 11.0, \"genus_name\": \"QUERCUS\", \"common_name\": \"RED OAK\", \"height_range_id\": 3}, {\"species_name\": \"HIPPOCASTANUM\", \"neighbourhood_name\": \"West Point Grey\", \"diameter\": 30.5, \"genus_name\": \"AESCULUS\", \"common_name\": \"COMMON HORSECHESTNUT\", \"height_range_id\": 5}, {\"species_name\": \"HETEROPHYLLA\", \"neighbourhood_name\": \"Hastings-Sunrise\", \"diameter\": 8.0, \"genus_name\": \"TSUGA\", \"common_name\": \"WESTERN HEMLOCK\", \"height_range_id\": 4}, {\"species_name\": \"DEODARA\", \"neighbourhood_name\": \"Sunset\", \"diameter\": 22.0, \"genus_name\": \"CEDRUS\", \"common_name\": \"DEODAR CEDAR\", \"height_range_id\": 5}, {\"species_name\": \"GLABRA\", \"neighbourhood_name\": \"Fairview\", \"diameter\": 16.5, \"genus_name\": \"ULMUS\", \"common_name\": \"SCOTS ELM\", \"height_range_id\": 5}, {\"species_name\": \"HIPPOCASTANUM\", \"neighbourhood_name\": \"Shaughnessy\", \"diameter\": 20.0, \"genus_name\": \"AESCULUS\", \"common_name\": \"COMMON HORSECHESTNUT\", \"height_range_id\": 5}, {\"species_name\": \"HIPPOCASTANUM\", \"neighbourhood_name\": \"Dunbar-Southlands\", \"diameter\": 23.0, \"genus_name\": \"AESCULUS\", \"common_name\": \"COMMON HORSECHESTNUT\", \"height_range_id\": 6}, {\"species_name\": \"RUBRA\", \"neighbourhood_name\": \"Dunbar-Southlands\", \"diameter\": 37.0, \"genus_name\": \"QUERCUS\", \"common_name\": \"RED OAK\", \"height_range_id\": 7}, {\"species_name\": \"SACCHARINUM\", \"neighbourhood_name\": \"Kensington-Cedar Cottage\", \"diameter\": 28.5, \"genus_name\": \"ACER\", \"common_name\": \"SILVER MAPLE\", \"height_range_id\": 5}, {\"species_name\": \"SACCHARINUM\", \"neighbourhood_name\": \"Shaughnessy\", \"diameter\": 31.0, \"genus_name\": \"ACER\", \"common_name\": \"SILVER MAPLE\", \"height_range_id\": 9}, {\"species_name\": \"HIPPOCASTANUM\", \"neighbourhood_name\": \"Shaughnessy\", \"diameter\": 19.0, \"genus_name\": \"AESCULUS\", \"common_name\": \"COMMON HORSECHESTNUT\", \"height_range_id\": 4}, {\"species_name\": \"HIPPOCASTANUM\", \"neighbourhood_name\": \"Fairview\", \"diameter\": 40.0, \"genus_name\": \"AESCULUS\", \"common_name\": \"COMMON HORSECHESTNUT\", \"height_range_id\": 6}, {\"species_name\": \"RUBRA\", \"neighbourhood_name\": \"Sunset\", \"diameter\": 10.5, \"genus_name\": \"QUERCUS\", \"common_name\": \"RED OAK\", \"height_range_id\": 3}, {\"species_name\": \"HIPPOCASTANUM\", \"neighbourhood_name\": \"Kitsilano\", \"diameter\": 30.0, \"genus_name\": \"AESCULUS\", \"common_name\": \"COMMON HORSECHESTNUT\", \"height_range_id\": 6}, {\"species_name\": \"HIPPOCASTANUM\", \"neighbourhood_name\": \"Dunbar-Southlands\", \"diameter\": 37.5, \"genus_name\": \"AESCULUS\", \"common_name\": \"COMMON HORSECHESTNUT\", \"height_range_id\": 5}, {\"species_name\": \"HIPPOCASTANUM\", \"neighbourhood_name\": \"Dunbar-Southlands\", \"diameter\": 29.5, \"genus_name\": \"AESCULUS\", \"common_name\": \"COMMON HORSECHESTNUT\", \"height_range_id\": 5}, {\"species_name\": \"RUBRA\", \"neighbourhood_name\": \"Marpole\", \"diameter\": 19.0, \"genus_name\": \"QUERCUS\", \"common_name\": \"RED OAK\", \"height_range_id\": 4}, {\"species_name\": \"SACCHARINUM\", \"neighbourhood_name\": \"West Point Grey\", \"diameter\": 46.0, \"genus_name\": \"ACER\", \"common_name\": \"SILVER MAPLE\", \"height_range_id\": 8}, {\"species_name\": \"HIPPOCASTANUM\", \"neighbourhood_name\": \"Marpole\", \"diameter\": 23.0, \"genus_name\": \"AESCULUS\", \"common_name\": \"COMMON HORSECHESTNUT\", \"height_range_id\": 4}, {\"species_name\": \"BIGNONIOIDES\", \"neighbourhood_name\": \"Kitsilano\", \"diameter\": 26.0, \"genus_name\": \"CATALPA\", \"common_name\": \"COMMON CATALPA\", \"height_range_id\": 5}, {\"species_name\": \"HIPPOCASTANUM\", \"neighbourhood_name\": \"Dunbar-Southlands\", \"diameter\": 31.0, \"genus_name\": \"AESCULUS\", \"common_name\": \"COMMON HORSECHESTNUT\", \"height_range_id\": 5}, {\"species_name\": \"SACCHARINUM\", \"neighbourhood_name\": \"Downtown\", \"diameter\": 28.0, \"genus_name\": \"ACER\", \"common_name\": \"CUTLEAF SILVER MAPLE\", \"height_range_id\": 7}, {\"species_name\": \"RUBRA\", \"neighbourhood_name\": \"West End\", \"diameter\": 19.0, \"genus_name\": \"QUERCUS\", \"common_name\": \"RED OAK\", \"height_range_id\": 4}, {\"species_name\": \"RUBRA\", \"neighbourhood_name\": \"Marpole\", \"diameter\": 30.25, \"genus_name\": \"QUERCUS\", \"common_name\": \"RED OAK\", \"height_range_id\": 4}, {\"species_name\": \"HIPPOCASTANUM\", \"neighbourhood_name\": \"Shaughnessy\", \"diameter\": 24.5, \"genus_name\": \"AESCULUS\", \"common_name\": \"COMMON HORSECHESTNUT\", \"height_range_id\": 4}, {\"species_name\": \"RUBRA\", \"neighbourhood_name\": \"Hastings-Sunrise\", \"diameter\": 38.0, \"genus_name\": \"QUERCUS\", \"common_name\": \"RED OAK\", \"height_range_id\": 7}, {\"species_name\": \"HIPPOCASTANUM\", \"neighbourhood_name\": \"Kitsilano\", \"diameter\": 26.0, \"genus_name\": \"AESCULUS\", \"common_name\": \"COMMON HORSECHESTNUT\", \"height_range_id\": 5}, {\"species_name\": \"PROCERA\", \"neighbourhood_name\": \"South Cambie\", \"diameter\": 33.5, \"genus_name\": \"ULMUS\", \"common_name\": \"ENGLISH ELM\", \"height_range_id\": 6}, {\"species_name\": \"RUBRA\", \"neighbourhood_name\": \"Renfrew-Collingwood\", \"diameter\": 17.5, \"genus_name\": \"QUERCUS\", \"common_name\": \"RED OAK\", \"height_range_id\": 4}, {\"species_name\": \"RUBRA\", \"neighbourhood_name\": \"Renfrew-Collingwood\", \"diameter\": 13.5, \"genus_name\": \"QUERCUS\", \"common_name\": \"RED OAK\", \"height_range_id\": 5}, {\"species_name\": \"HIPPOCASTANUM\", \"neighbourhood_name\": \"Shaughnessy\", \"diameter\": 35.0, \"genus_name\": \"AESCULUS\", \"common_name\": \"COMMON HORSECHESTNUT\", \"height_range_id\": 6}, {\"species_name\": \"RUBRA\", \"neighbourhood_name\": \"Arbutus-Ridge\", \"diameter\": 31.5, \"genus_name\": \"QUERCUS\", \"common_name\": \"RED OAK\", \"height_range_id\": 8}, {\"species_name\": \"SACCHARINUM\", \"neighbourhood_name\": \"Kitsilano\", \"diameter\": 21.0, \"genus_name\": \"ACER\", \"common_name\": \"SILVER MAPLE\", \"height_range_id\": 6}, {\"species_name\": \"RUBRA\", \"neighbourhood_name\": \"Hastings-Sunrise\", \"diameter\": 23.0, \"genus_name\": \"QUERCUS\", \"common_name\": \"RED OAK\", \"height_range_id\": 4}, {\"species_name\": \"HIPPOCASTANUM\", \"neighbourhood_name\": \"West End\", \"diameter\": 18.0, \"genus_name\": \"AESCULUS\", \"common_name\": \"COMMON HORSECHESTNUT\", \"height_range_id\": 4}, {\"species_name\": \"HIPPOCASTANUM\", \"neighbourhood_name\": \"Arbutus-Ridge\", \"diameter\": 26.0, \"genus_name\": \"AESCULUS\", \"common_name\": \"COMMON HORSECHESTNUT\", \"height_range_id\": 6}, {\"species_name\": \"BIGNONIOIDES\", \"neighbourhood_name\": \"Fairview\", \"diameter\": 46.0, \"genus_name\": \"CATALPA\", \"common_name\": \"COMMON CATALPA\", \"height_range_id\": 6}, {\"species_name\": \"DEODARA\", \"neighbourhood_name\": \"Fairview\", \"diameter\": 24.5, \"genus_name\": \"CEDRUS\", \"common_name\": \"DEODAR CEDAR\", \"height_range_id\": 4}, {\"species_name\": \"HIPPOCASTANUM\", \"neighbourhood_name\": \"Victoria-Fraserview\", \"diameter\": 19.5, \"genus_name\": \"AESCULUS\", \"common_name\": \"COMMON HORSECHESTNUT\", \"height_range_id\": 5}, {\"species_name\": \"HIPPOCASTANUM\", \"neighbourhood_name\": \"Dunbar-Southlands\", \"diameter\": 28.0, \"genus_name\": \"AESCULUS\", \"common_name\": \"COMMON HORSECHESTNUT\", \"height_range_id\": 4}, {\"species_name\": \"RUBRA\", \"neighbourhood_name\": \"Renfrew-Collingwood\", \"diameter\": 22.0, \"genus_name\": \"QUERCUS\", \"common_name\": \"RED OAK\", \"height_range_id\": 5}, {\"species_name\": \"RUBRA\", \"neighbourhood_name\": \"Grandview-Woodland\", \"diameter\": 51.0, \"genus_name\": \"QUERCUS\", \"common_name\": \"RED OAK\", \"height_range_id\": 7}, {\"species_name\": \"MACROCARPA\", \"neighbourhood_name\": \"Dunbar-Southlands\", \"diameter\": 21.0, \"genus_name\": \"QUERCUS\", \"common_name\": \"BUR OAK\", \"height_range_id\": 4}, {\"species_name\": \"HIPPOCASTANUM\", \"neighbourhood_name\": \"Kerrisdale\", \"diameter\": 28.0, \"genus_name\": \"AESCULUS\", \"common_name\": \"COMMON HORSECHESTNUT\", \"height_range_id\": 7}, {\"species_name\": \"HIPPOCASTANUM\", \"neighbourhood_name\": \"Marpole\", \"diameter\": 32.0, \"genus_name\": \"AESCULUS\", \"common_name\": \"COMMON HORSECHESTNUT\", \"height_range_id\": 6}, {\"species_name\": \"RUBRA\", \"neighbourhood_name\": \"Kensington-Cedar Cottage\", \"diameter\": 28.0, \"genus_name\": \"QUERCUS\", \"common_name\": \"RED OAK\", \"height_range_id\": 6}, {\"species_name\": \"DEODARA\", \"neighbourhood_name\": \"Fairview\", \"diameter\": 24.0, \"genus_name\": \"CEDRUS\", \"common_name\": \"DEODAR CEDAR\", \"height_range_id\": 4}, {\"species_name\": \"SACCHARINUM\", \"neighbourhood_name\": \"Shaughnessy\", \"diameter\": 19.0, \"genus_name\": \"ACER\", \"common_name\": \"SILVER MAPLE\", \"height_range_id\": 5}, {\"species_name\": \"RUBRA\", \"neighbourhood_name\": \"Kitsilano\", \"diameter\": 18.0, \"genus_name\": \"QUERCUS\", \"common_name\": \"RED OAK\", \"height_range_id\": 5}, {\"species_name\": \"BIGNONIOIDES\", \"neighbourhood_name\": \"Kitsilano\", \"diameter\": 18.0, \"genus_name\": \"CATALPA\", \"common_name\": \"COMMON CATALPA\", \"height_range_id\": 5}, {\"species_name\": \"RUBRA\", \"neighbourhood_name\": \"West End\", \"diameter\": 10.5, \"genus_name\": \"QUERCUS\", \"common_name\": \"RED OAK\", \"height_range_id\": 4}, {\"species_name\": \"HIPPOCASTANUM\", \"neighbourhood_name\": \"Kitsilano\", \"diameter\": 26.0, \"genus_name\": \"AESCULUS\", \"common_name\": \"COMMON HORSECHESTNUT\", \"height_range_id\": 6}, {\"species_name\": \"HIPPOCASTANUM\", \"neighbourhood_name\": \"Mount Pleasant\", \"diameter\": 30.0, \"genus_name\": \"AESCULUS\", \"common_name\": \"COMMON HORSECHESTNUT\", \"height_range_id\": 4}, {\"species_name\": \"RUBRA\", \"neighbourhood_name\": \"Strathcona\", \"diameter\": 23.0, \"genus_name\": \"QUERCUS\", \"common_name\": \"RED OAK\", \"height_range_id\": 4}, {\"species_name\": \"HIPPOCASTANUM\", \"neighbourhood_name\": \"Grandview-Woodland\", \"diameter\": 18.0, \"genus_name\": \"AESCULUS\", \"common_name\": \"COMMON HORSECHESTNUT\", \"height_range_id\": 4}, {\"species_name\": \"HETEROPHYLLA\", \"neighbourhood_name\": \"Riley Park\", \"diameter\": 31.0, \"genus_name\": \"TSUGA\", \"common_name\": \"WESTERN HEMLOCK\", \"height_range_id\": 5}, {\"species_name\": \"HIPPOCASTANUM\", \"neighbourhood_name\": \"Marpole\", \"diameter\": 31.0, \"genus_name\": \"AESCULUS\", \"common_name\": \"COMMON HORSECHESTNUT\", \"height_range_id\": 5}, {\"species_name\": \"HIPPOCASTANUM\", \"neighbourhood_name\": \"Riley Park\", \"diameter\": 34.0, \"genus_name\": \"AESCULUS\", \"common_name\": \"COMMON HORSECHESTNUT\", \"height_range_id\": 5}, {\"species_name\": \"HIPPOCASTANUM\", \"neighbourhood_name\": \"Kitsilano\", \"diameter\": 30.0, \"genus_name\": \"AESCULUS\", \"common_name\": \"COMMON HORSECHESTNUT\", \"height_range_id\": 5}, {\"species_name\": \"HIPPOCASTANUM\", \"neighbourhood_name\": \"Mount Pleasant\", \"diameter\": 26.5, \"genus_name\": \"AESCULUS\", \"common_name\": \"COMMON HORSECHESTNUT\", \"height_range_id\": 4}, {\"species_name\": \"GLABRA\", \"neighbourhood_name\": \"Dunbar-Southlands\", \"diameter\": 35.0, \"genus_name\": \"ULMUS\", \"common_name\": \"SCOTS ELM\", \"height_range_id\": 8}, {\"species_name\": \"BIGNONIOIDES\", \"neighbourhood_name\": \"Kitsilano\", \"diameter\": 26.0, \"genus_name\": \"CATALPA\", \"common_name\": \"COMMON CATALPA\", \"height_range_id\": 6}, {\"species_name\": \"HIPPOCASTANUM\", \"neighbourhood_name\": \"Arbutus-Ridge\", \"diameter\": 19.0, \"genus_name\": \"AESCULUS\", \"common_name\": \"COMMON HORSECHESTNUT\", \"height_range_id\": 4}, {\"species_name\": \"DEODARA\", \"neighbourhood_name\": \"Downtown\", \"diameter\": 11.0, \"genus_name\": \"CEDRUS\", \"common_name\": \"DEODAR CEDAR\", \"height_range_id\": 4}, {\"species_name\": \"RUBRA\", \"neighbourhood_name\": \"Dunbar-Southlands\", \"diameter\": 35.0, \"genus_name\": \"QUERCUS\", \"common_name\": \"RED OAK\", \"height_range_id\": 7}, {\"species_name\": \"DEODARA\", \"neighbourhood_name\": \"Kitsilano\", \"diameter\": 50.0, \"genus_name\": \"CEDRUS\", \"common_name\": \"DEODAR CEDAR\", \"height_range_id\": 5}, {\"species_name\": \"BIGNONIOIDES\", \"neighbourhood_name\": \"West Point Grey\", \"diameter\": 23.5, \"genus_name\": \"CATALPA\", \"common_name\": \"COMMON CATALPA\", \"height_range_id\": 5}, {\"species_name\": \"HIPPOCASTANUM\", \"neighbourhood_name\": \"Marpole\", \"diameter\": 27.0, \"genus_name\": \"AESCULUS\", \"common_name\": \"COMMON HORSECHESTNUT\", \"height_range_id\": 5}, {\"species_name\": \"GLABRA\", \"neighbourhood_name\": \"Dunbar-Southlands\", \"diameter\": 24.0, \"genus_name\": \"ULMUS\", \"common_name\": \"SCOTS ELM\", \"height_range_id\": 7}, {\"species_name\": \"RUBRA\", \"neighbourhood_name\": \"Downtown\", \"diameter\": 7.0, \"genus_name\": \"QUERCUS\", \"common_name\": \"RED OAK\", \"height_range_id\": 4}, {\"species_name\": \"MACROCARPA\", \"neighbourhood_name\": \"Dunbar-Southlands\", \"diameter\": 25.0, \"genus_name\": \"QUERCUS\", \"common_name\": \"BUR OAK\", \"height_range_id\": 4}, {\"species_name\": \"RUBRA\", \"neighbourhood_name\": \"Kensington-Cedar Cottage\", \"diameter\": 32.0, \"genus_name\": \"QUERCUS\", \"common_name\": \"RED OAK\", \"height_range_id\": 6}]}}, {\"mode\": \"vega-lite\"});\n",
       "</script>"
      ],
      "text/plain": [
       "alt.Chart(...)"
      ]
     },
     "execution_count": 10,
     "metadata": {},
     "output_type": "execute_result"
    }
   ],
   "source": [
    "alt.Chart(largest_species).mark_circle().encode(\n",
    "    alt.Color('count()'),\n",
    "    alt.X('species_name'),\n",
    "    alt.Y('neighbourhood_name', sort='color'),\n",
    "    alt.Size('count()'))"
   ]
  },
  {
   "cell_type": "markdown",
   "metadata": {},
   "source": [
    "The plots above show us that Kitsilano, Dunbar-Southlands and Shaughnessy appear to have the highest number of counts of the largest tree species. The most common trees are shown to be Hippocastanum and Rubra, as they have the most frequent counts across all neighborhoods."
   ]
  },
  {
   "cell_type": "markdown",
   "metadata": {},
   "source": [
    "### Conclusion"
   ]
  },
  {
   "cell_type": "markdown",
   "metadata": {
    "tags": []
   },
   "source": [
    "After exploring different visualizations, I will include the following 4 plots in my final report and make the following changes:\n",
    "\n",
    "1. Bar graph of the top 20 species with largest mean diameter and top 20 species with highest mean height range id\n",
    "    * This plot can potentially become a facet plot so that the 2 plots are side by side, or a layered plot\n",
    "    * Remove 0 from the axis so that the bars become shorter\n",
    "    * Add labels and title\n",
    "\n",
    "\n",
    "    \n",
    "2. Scatterplot of the 14 species apart of the 2 largest species groups\n",
    "    * Update the axis so that it only reflects values closest to the points (remove 0 from the axis)\n",
    "    * Add labels and title\n",
    "\n",
    "\n",
    "3. Facet bar graph of the number of counts of largest species by neighborhood\n",
    "    * Adjust the size of each plot\n",
    "    * Possibly make each y scale independent\n",
    "    * Add labels and title\n",
    "\n",
    "\n",
    "4. Circle plot that demonstrates the counts of species by neighborhood \n",
    "    * Look into better colouring schemes\n",
    "    * Add labels and title\n",
    "    \n",
    "    \n",
    "The first 2 plots are useful for showing which tree species are the largest (in terms of diameter, height and both diameter & height). The last 2 plots are helpful for answering our question: which neighborhoods contain the highest counts of the largest species. "
   ]
  },
  {
   "cell_type": "markdown",
   "metadata": {},
   "source": [
    "### References"
   ]
  },
  {
   "cell_type": "markdown",
   "metadata": {},
   "source": [
    "* https://opendata.vancouver.ca/explore/dataset/street-trees/information/?disjunctive.species_name&disjunctive.common_name&disjunctive.height_range_id&disjunctive.on_street&disjunctive.neighbourhood_name"
   ]
  },
  {
   "cell_type": "code",
   "execution_count": null,
   "metadata": {},
   "outputs": [],
   "source": []
  }
 ],
 "metadata": {
  "kernelspec": {
   "display_name": "Python 3",
   "language": "python",
   "name": "python3"
  },
  "language_info": {
   "codemirror_mode": {
    "name": "ipython",
    "version": 3
   },
   "file_extension": ".py",
   "mimetype": "text/x-python",
   "name": "python",
   "nbconvert_exporter": "python",
   "pygments_lexer": "ipython3",
   "version": "3.8.5"
  }
 },
 "nbformat": 4,
 "nbformat_minor": 4
}
